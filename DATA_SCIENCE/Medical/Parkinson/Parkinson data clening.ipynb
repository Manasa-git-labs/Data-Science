{
 "cells": [
  {
   "cell_type": "code",
   "execution_count": null,
   "metadata": {
    "colab": {
     "base_uri": "https://localhost:8080/",
     "height": 74,
     "resources": {
      "http://localhost:8080/nbextensions/google.colab/files.js": {
       "data": "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",
       "headers": [
        [
         "content-type",
         "application/javascript"
        ]
       ],
       "ok": true,
       "status": 200,
       "status_text": ""
      }
     }
    },
    "executionInfo": {
     "elapsed": 46722,
     "status": "ok",
     "timestamp": 1576664953561,
     "user": {
      "displayName": "manasa pawar",
      "photoUrl": "",
      "userId": "07850461268939422328"
     },
     "user_tz": -660
    },
    "id": "H9wVG-yGfYMD",
    "outputId": "667aa490-b037-419d-8973-4438da1b0ffc"
   },
   "outputs": [
    {
     "data": {
      "text/html": [
       "\n",
       "     <input type=\"file\" id=\"files-1128e9d7-7ef0-402a-b862-9cb3a4de9249\" name=\"files[]\" multiple disabled />\n",
       "     <output id=\"result-1128e9d7-7ef0-402a-b862-9cb3a4de9249\">\n",
       "      Upload widget is only available when the cell has been executed in the\n",
       "      current browser session. Please rerun this cell to enable.\n",
       "      </output>\n",
       "      <script src=\"/nbextensions/google.colab/files.js\"></script> "
      ],
      "text/plain": [
       "<IPython.core.display.HTML object>"
      ]
     },
     "metadata": {
      "tags": []
     },
     "output_type": "display_data"
    },
    {
     "name": "stdout",
     "output_type": "stream",
     "text": [
      "Saving parkinsons2.csv to parkinsons2.csv\n"
     ]
    }
   ],
   "source": [
    "from google.colab import files\n",
    "uploaded = files.upload()"
   ]
  },
  {
   "cell_type": "code",
   "execution_count": null,
   "metadata": {
    "id": "U__TKPepfqqD"
   },
   "outputs": [],
   "source": [
    "import numpy as np\n",
    "import pandas as pd\n",
    "import matplotlib.pyplot as plt\n",
    "import seaborn as sns\n",
    "%matplotlib inline\n",
    "from sklearn.metrics import roc_curve, auc\n",
    "from sklearn.preprocessing import MinMaxScaler\n",
    "from sklearn.model_selection import train_test_split\n",
    "from sklearn.linear_model import LogisticRegression\n",
    "from sklearn import metrics\n",
    "from sklearn import preprocessing\n",
    "from sklearn.model_selection import KFold"
   ]
  },
  {
   "cell_type": "code",
   "execution_count": null,
   "metadata": {
    "id": "5FwIotbZfuyo"
   },
   "outputs": [],
   "source": [
    "import io\n",
    "parkinson_df= pd.read_csv(io.BytesIO(uploaded['parkinsons2.csv']))"
   ]
  },
  {
   "cell_type": "code",
   "execution_count": null,
   "metadata": {
    "colab": {
     "base_uri": "https://localhost:8080/",
     "height": 762
    },
    "executionInfo": {
     "elapsed": 2383,
     "status": "ok",
     "timestamp": 1576665025722,
     "user": {
      "displayName": "manasa pawar",
      "photoUrl": "",
      "userId": "07850461268939422328"
     },
     "user_tz": -660
    },
    "id": "0y3PAkPmfzYj",
    "outputId": "0b0d91e8-5740-4b21-af7f-7db762bd0c75"
   },
   "outputs": [
    {
     "data": {
      "text/html": [
       "<div>\n",
       "<style scoped>\n",
       "    .dataframe tbody tr th:only-of-type {\n",
       "        vertical-align: middle;\n",
       "    }\n",
       "\n",
       "    .dataframe tbody tr th {\n",
       "        vertical-align: top;\n",
       "    }\n",
       "\n",
       "    .dataframe thead th {\n",
       "        text-align: right;\n",
       "    }\n",
       "</style>\n",
       "<table border=\"1\" class=\"dataframe\">\n",
       "  <thead>\n",
       "    <tr style=\"text-align: right;\">\n",
       "      <th></th>\n",
       "      <th>0</th>\n",
       "      <th>1</th>\n",
       "      <th>2</th>\n",
       "      <th>3</th>\n",
       "      <th>4</th>\n",
       "    </tr>\n",
       "  </thead>\n",
       "  <tbody>\n",
       "    <tr>\n",
       "      <th>MDVP:Fo(Hz)</th>\n",
       "      <td>119.992000</td>\n",
       "      <td>122.400000</td>\n",
       "      <td>116.682000</td>\n",
       "      <td>116.676000</td>\n",
       "      <td>116.014000</td>\n",
       "    </tr>\n",
       "    <tr>\n",
       "      <th>MDVP:Fhi(Hz)</th>\n",
       "      <td>157.302000</td>\n",
       "      <td>148.650000</td>\n",
       "      <td>131.111000</td>\n",
       "      <td>137.871000</td>\n",
       "      <td>141.781000</td>\n",
       "    </tr>\n",
       "    <tr>\n",
       "      <th>MDVP:Flo(Hz)</th>\n",
       "      <td>74.997000</td>\n",
       "      <td>113.819000</td>\n",
       "      <td>111.555000</td>\n",
       "      <td>111.366000</td>\n",
       "      <td>110.655000</td>\n",
       "    </tr>\n",
       "    <tr>\n",
       "      <th>MDVP:Jitter(%)</th>\n",
       "      <td>0.007840</td>\n",
       "      <td>0.009680</td>\n",
       "      <td>0.010500</td>\n",
       "      <td>0.009970</td>\n",
       "      <td>0.012840</td>\n",
       "    </tr>\n",
       "    <tr>\n",
       "      <th>MDVP:Jitter(Abs)</th>\n",
       "      <td>0.000070</td>\n",
       "      <td>0.000080</td>\n",
       "      <td>0.000090</td>\n",
       "      <td>0.000090</td>\n",
       "      <td>0.000110</td>\n",
       "    </tr>\n",
       "    <tr>\n",
       "      <th>MDVP:RAP</th>\n",
       "      <td>0.003700</td>\n",
       "      <td>0.004650</td>\n",
       "      <td>0.005440</td>\n",
       "      <td>0.005020</td>\n",
       "      <td>0.006550</td>\n",
       "    </tr>\n",
       "    <tr>\n",
       "      <th>MDVP:PPQ</th>\n",
       "      <td>0.005540</td>\n",
       "      <td>0.006960</td>\n",
       "      <td>0.007810</td>\n",
       "      <td>0.006980</td>\n",
       "      <td>0.009080</td>\n",
       "    </tr>\n",
       "    <tr>\n",
       "      <th>Jitter:DDP</th>\n",
       "      <td>0.011090</td>\n",
       "      <td>0.013940</td>\n",
       "      <td>0.016330</td>\n",
       "      <td>0.015050</td>\n",
       "      <td>0.019660</td>\n",
       "    </tr>\n",
       "    <tr>\n",
       "      <th>MDVP:Shimmer</th>\n",
       "      <td>0.043740</td>\n",
       "      <td>0.061340</td>\n",
       "      <td>0.052330</td>\n",
       "      <td>0.054920</td>\n",
       "      <td>0.064250</td>\n",
       "    </tr>\n",
       "    <tr>\n",
       "      <th>MDVP:Shimmer(dB)</th>\n",
       "      <td>0.426000</td>\n",
       "      <td>0.626000</td>\n",
       "      <td>0.482000</td>\n",
       "      <td>0.517000</td>\n",
       "      <td>0.584000</td>\n",
       "    </tr>\n",
       "    <tr>\n",
       "      <th>Shimmer:APQ3</th>\n",
       "      <td>0.021820</td>\n",
       "      <td>0.031340</td>\n",
       "      <td>0.027570</td>\n",
       "      <td>0.029240</td>\n",
       "      <td>0.034900</td>\n",
       "    </tr>\n",
       "    <tr>\n",
       "      <th>Shimmer:APQ5</th>\n",
       "      <td>0.031300</td>\n",
       "      <td>0.045180</td>\n",
       "      <td>0.038580</td>\n",
       "      <td>0.040050</td>\n",
       "      <td>0.048250</td>\n",
       "    </tr>\n",
       "    <tr>\n",
       "      <th>MDVP:APQ</th>\n",
       "      <td>0.029710</td>\n",
       "      <td>0.043680</td>\n",
       "      <td>0.035900</td>\n",
       "      <td>0.037720</td>\n",
       "      <td>0.044650</td>\n",
       "    </tr>\n",
       "    <tr>\n",
       "      <th>Shimmer:DDA</th>\n",
       "      <td>0.065450</td>\n",
       "      <td>0.094030</td>\n",
       "      <td>0.082700</td>\n",
       "      <td>0.087710</td>\n",
       "      <td>0.104700</td>\n",
       "    </tr>\n",
       "    <tr>\n",
       "      <th>NHR</th>\n",
       "      <td>0.022110</td>\n",
       "      <td>0.019290</td>\n",
       "      <td>0.013090</td>\n",
       "      <td>0.013530</td>\n",
       "      <td>0.017670</td>\n",
       "    </tr>\n",
       "    <tr>\n",
       "      <th>HNR</th>\n",
       "      <td>21.033000</td>\n",
       "      <td>19.085000</td>\n",
       "      <td>20.651000</td>\n",
       "      <td>20.644000</td>\n",
       "      <td>19.649000</td>\n",
       "    </tr>\n",
       "    <tr>\n",
       "      <th>RPDE</th>\n",
       "      <td>0.414783</td>\n",
       "      <td>0.458359</td>\n",
       "      <td>0.429895</td>\n",
       "      <td>0.434969</td>\n",
       "      <td>0.417356</td>\n",
       "    </tr>\n",
       "    <tr>\n",
       "      <th>DFA</th>\n",
       "      <td>0.815285</td>\n",
       "      <td>0.819521</td>\n",
       "      <td>0.825288</td>\n",
       "      <td>0.819235</td>\n",
       "      <td>0.823484</td>\n",
       "    </tr>\n",
       "    <tr>\n",
       "      <th>spread1</th>\n",
       "      <td>-4.813031</td>\n",
       "      <td>-4.075192</td>\n",
       "      <td>-4.443179</td>\n",
       "      <td>-4.117501</td>\n",
       "      <td>-3.747787</td>\n",
       "    </tr>\n",
       "    <tr>\n",
       "      <th>spread2</th>\n",
       "      <td>0.266482</td>\n",
       "      <td>0.335590</td>\n",
       "      <td>0.311173</td>\n",
       "      <td>0.334147</td>\n",
       "      <td>0.234513</td>\n",
       "    </tr>\n",
       "    <tr>\n",
       "      <th>D2</th>\n",
       "      <td>2.301442</td>\n",
       "      <td>2.486855</td>\n",
       "      <td>2.342259</td>\n",
       "      <td>2.405554</td>\n",
       "      <td>2.332180</td>\n",
       "    </tr>\n",
       "    <tr>\n",
       "      <th>PPE</th>\n",
       "      <td>0.284654</td>\n",
       "      <td>0.368674</td>\n",
       "      <td>0.332634</td>\n",
       "      <td>0.368975</td>\n",
       "      <td>0.410335</td>\n",
       "    </tr>\n",
       "    <tr>\n",
       "      <th>status</th>\n",
       "      <td>1.000000</td>\n",
       "      <td>1.000000</td>\n",
       "      <td>1.000000</td>\n",
       "      <td>1.000000</td>\n",
       "      <td>1.000000</td>\n",
       "    </tr>\n",
       "  </tbody>\n",
       "</table>\n",
       "</div>"
      ],
      "text/plain": [
       "                           0           1           2           3           4\n",
       "MDVP:Fo(Hz)       119.992000  122.400000  116.682000  116.676000  116.014000\n",
       "MDVP:Fhi(Hz)      157.302000  148.650000  131.111000  137.871000  141.781000\n",
       "MDVP:Flo(Hz)       74.997000  113.819000  111.555000  111.366000  110.655000\n",
       "MDVP:Jitter(%)      0.007840    0.009680    0.010500    0.009970    0.012840\n",
       "MDVP:Jitter(Abs)    0.000070    0.000080    0.000090    0.000090    0.000110\n",
       "MDVP:RAP            0.003700    0.004650    0.005440    0.005020    0.006550\n",
       "MDVP:PPQ            0.005540    0.006960    0.007810    0.006980    0.009080\n",
       "Jitter:DDP          0.011090    0.013940    0.016330    0.015050    0.019660\n",
       "MDVP:Shimmer        0.043740    0.061340    0.052330    0.054920    0.064250\n",
       "MDVP:Shimmer(dB)    0.426000    0.626000    0.482000    0.517000    0.584000\n",
       "Shimmer:APQ3        0.021820    0.031340    0.027570    0.029240    0.034900\n",
       "Shimmer:APQ5        0.031300    0.045180    0.038580    0.040050    0.048250\n",
       "MDVP:APQ            0.029710    0.043680    0.035900    0.037720    0.044650\n",
       "Shimmer:DDA         0.065450    0.094030    0.082700    0.087710    0.104700\n",
       "NHR                 0.022110    0.019290    0.013090    0.013530    0.017670\n",
       "HNR                21.033000   19.085000   20.651000   20.644000   19.649000\n",
       "RPDE                0.414783    0.458359    0.429895    0.434969    0.417356\n",
       "DFA                 0.815285    0.819521    0.825288    0.819235    0.823484\n",
       "spread1            -4.813031   -4.075192   -4.443179   -4.117501   -3.747787\n",
       "spread2             0.266482    0.335590    0.311173    0.334147    0.234513\n",
       "D2                  2.301442    2.486855    2.342259    2.405554    2.332180\n",
       "PPE                 0.284654    0.368674    0.332634    0.368975    0.410335\n",
       "status              1.000000    1.000000    1.000000    1.000000    1.000000"
      ]
     },
     "execution_count": 9,
     "metadata": {
      "tags": []
     },
     "output_type": "execute_result"
    }
   ],
   "source": [
    "parkinson_df.head().transpose()\n"
   ]
  },
  {
   "cell_type": "code",
   "execution_count": null,
   "metadata": {
    "id": "dd0d1rfmf3qF"
   },
   "outputs": [],
   "source": [
    "X = parkinson_df\n",
    "X=X.replace([np.inf, -np.inf], np.nan).fillna(value=0)\n",
    "scaler = MinMaxScaler()\n",
    "scaler.fit(X)\n",
    "X=scaler.transform(X)\n"
   ]
  },
  {
   "cell_type": "code",
   "execution_count": null,
   "metadata": {
    "colab": {
     "base_uri": "https://localhost:8080/",
     "height": 119
    },
    "executionInfo": {
     "elapsed": 3186,
     "status": "ok",
     "timestamp": 1576665043484,
     "user": {
      "displayName": "manasa pawar",
      "photoUrl": "",
      "userId": "07850461268939422328"
     },
     "user_tz": -660
    },
    "id": "L9JbIPYOganV",
    "outputId": "59a4e78c-ce52-41f3-cf0e-86b23194dffa"
   },
   "outputs": [
    {
     "data": {
      "text/plain": [
       "Index(['MDVP:Fo(Hz)', 'MDVP:Fhi(Hz)', 'MDVP:Flo(Hz)', 'MDVP:Jitter(%)',\n",
       "       'MDVP:Jitter(Abs)', 'MDVP:RAP', 'MDVP:PPQ', 'Jitter:DDP',\n",
       "       'MDVP:Shimmer', 'MDVP:Shimmer(dB)', 'Shimmer:APQ3', 'Shimmer:APQ5',\n",
       "       'MDVP:APQ', 'Shimmer:DDA', 'NHR', 'HNR', 'RPDE', 'DFA', 'spread1',\n",
       "       'spread2', 'D2', 'PPE', 'status'],\n",
       "      dtype='object')"
      ]
     },
     "execution_count": 11,
     "metadata": {
      "tags": []
     },
     "output_type": "execute_result"
    }
   ],
   "source": [
    "parkinson_df.columns"
   ]
  },
  {
   "cell_type": "code",
   "execution_count": null,
   "metadata": {
    "colab": {
     "base_uri": "https://localhost:8080/",
     "height": 34
    },
    "executionInfo": {
     "elapsed": 999,
     "status": "ok",
     "timestamp": 1576597064921,
     "user": {
      "displayName": "manasa pawar",
      "photoUrl": "",
      "userId": "07850461268939422328"
     },
     "user_tz": -660
    },
    "id": "0F9Q_97kgcnV",
    "outputId": "7349ade1-ffbf-45e4-88d6-f8fedbb13243"
   },
   "outputs": [
    {
     "data": {
      "text/plain": [
       "(195, 23)"
      ]
     },
     "execution_count": 8,
     "metadata": {
      "tags": []
     },
     "output_type": "execute_result"
    }
   ],
   "source": [
    "parkinson_df.shape"
   ]
  },
  {
   "cell_type": "code",
   "execution_count": null,
   "metadata": {
    "colab": {
     "base_uri": "https://localhost:8080/",
     "height": 493
    },
    "executionInfo": {
     "elapsed": 2149,
     "status": "ok",
     "timestamp": 1576597081789,
     "user": {
      "displayName": "manasa pawar",
      "photoUrl": "",
      "userId": "07850461268939422328"
     },
     "user_tz": -660
    },
    "id": "OeSrDhYsgjqS",
    "outputId": "fb358ab0-3968-42ef-bc3f-77c06af3f1f0"
   },
   "outputs": [
    {
     "name": "stdout",
     "output_type": "stream",
     "text": [
      "<class 'pandas.core.frame.DataFrame'>\n",
      "RangeIndex: 195 entries, 0 to 194\n",
      "Data columns (total 23 columns):\n",
      "MDVP:Fo(Hz)         195 non-null float64\n",
      "MDVP:Fhi(Hz)        195 non-null float64\n",
      "MDVP:Flo(Hz)        195 non-null float64\n",
      "MDVP:Jitter(%)      195 non-null float64\n",
      "MDVP:Jitter(Abs)    195 non-null float64\n",
      "MDVP:RAP            195 non-null float64\n",
      "MDVP:PPQ            195 non-null float64\n",
      "Jitter:DDP          195 non-null float64\n",
      "MDVP:Shimmer        195 non-null float64\n",
      "MDVP:Shimmer(dB)    195 non-null float64\n",
      "Shimmer:APQ3        195 non-null float64\n",
      "Shimmer:APQ5        195 non-null float64\n",
      "MDVP:APQ            195 non-null float64\n",
      "Shimmer:DDA         195 non-null float64\n",
      "NHR                 195 non-null float64\n",
      "HNR                 195 non-null float64\n",
      "RPDE                195 non-null float64\n",
      "DFA                 195 non-null float64\n",
      "spread1             195 non-null float64\n",
      "spread2             195 non-null float64\n",
      "D2                  195 non-null float64\n",
      "PPE                 195 non-null float64\n",
      "status              195 non-null int64\n",
      "dtypes: float64(22), int64(1)\n",
      "memory usage: 35.2 KB\n"
     ]
    }
   ],
   "source": [
    "parkinson_df.info()\n"
   ]
  },
  {
   "cell_type": "code",
   "execution_count": null,
   "metadata": {
    "colab": {
     "base_uri": "https://localhost:8080/",
     "height": 762
    },
    "executionInfo": {
     "elapsed": 1047,
     "status": "ok",
     "timestamp": 1576597100520,
     "user": {
      "displayName": "manasa pawar",
      "photoUrl": "",
      "userId": "07850461268939422328"
     },
     "user_tz": -660
    },
    "id": "oUqalCTRgoDt",
    "outputId": "60e6310c-9d38-4eda-be30-45144084d089"
   },
   "outputs": [
    {
     "data": {
      "text/html": [
       "<div>\n",
       "<style scoped>\n",
       "    .dataframe tbody tr th:only-of-type {\n",
       "        vertical-align: middle;\n",
       "    }\n",
       "\n",
       "    .dataframe tbody tr th {\n",
       "        vertical-align: top;\n",
       "    }\n",
       "\n",
       "    .dataframe thead th {\n",
       "        text-align: right;\n",
       "    }\n",
       "</style>\n",
       "<table border=\"1\" class=\"dataframe\">\n",
       "  <thead>\n",
       "    <tr style=\"text-align: right;\">\n",
       "      <th></th>\n",
       "      <th>count</th>\n",
       "      <th>mean</th>\n",
       "      <th>std</th>\n",
       "      <th>min</th>\n",
       "      <th>25%</th>\n",
       "      <th>50%</th>\n",
       "      <th>75%</th>\n",
       "      <th>max</th>\n",
       "    </tr>\n",
       "  </thead>\n",
       "  <tbody>\n",
       "    <tr>\n",
       "      <th>MDVP:Fo(Hz)</th>\n",
       "      <td>195.0</td>\n",
       "      <td>154.228641</td>\n",
       "      <td>41.390065</td>\n",
       "      <td>88.333000</td>\n",
       "      <td>117.572000</td>\n",
       "      <td>148.790000</td>\n",
       "      <td>182.769000</td>\n",
       "      <td>260.105000</td>\n",
       "    </tr>\n",
       "    <tr>\n",
       "      <th>MDVP:Fhi(Hz)</th>\n",
       "      <td>195.0</td>\n",
       "      <td>197.104918</td>\n",
       "      <td>91.491548</td>\n",
       "      <td>102.145000</td>\n",
       "      <td>134.862500</td>\n",
       "      <td>175.829000</td>\n",
       "      <td>224.205500</td>\n",
       "      <td>592.030000</td>\n",
       "    </tr>\n",
       "    <tr>\n",
       "      <th>MDVP:Flo(Hz)</th>\n",
       "      <td>195.0</td>\n",
       "      <td>116.324631</td>\n",
       "      <td>43.521413</td>\n",
       "      <td>65.476000</td>\n",
       "      <td>84.291000</td>\n",
       "      <td>104.315000</td>\n",
       "      <td>140.018500</td>\n",
       "      <td>239.170000</td>\n",
       "    </tr>\n",
       "    <tr>\n",
       "      <th>MDVP:Jitter(%)</th>\n",
       "      <td>195.0</td>\n",
       "      <td>0.006220</td>\n",
       "      <td>0.004848</td>\n",
       "      <td>0.001680</td>\n",
       "      <td>0.003460</td>\n",
       "      <td>0.004940</td>\n",
       "      <td>0.007365</td>\n",
       "      <td>0.033160</td>\n",
       "    </tr>\n",
       "    <tr>\n",
       "      <th>MDVP:Jitter(Abs)</th>\n",
       "      <td>195.0</td>\n",
       "      <td>0.000044</td>\n",
       "      <td>0.000035</td>\n",
       "      <td>0.000007</td>\n",
       "      <td>0.000020</td>\n",
       "      <td>0.000030</td>\n",
       "      <td>0.000060</td>\n",
       "      <td>0.000260</td>\n",
       "    </tr>\n",
       "    <tr>\n",
       "      <th>MDVP:RAP</th>\n",
       "      <td>195.0</td>\n",
       "      <td>0.003306</td>\n",
       "      <td>0.002968</td>\n",
       "      <td>0.000680</td>\n",
       "      <td>0.001660</td>\n",
       "      <td>0.002500</td>\n",
       "      <td>0.003835</td>\n",
       "      <td>0.021440</td>\n",
       "    </tr>\n",
       "    <tr>\n",
       "      <th>MDVP:PPQ</th>\n",
       "      <td>195.0</td>\n",
       "      <td>0.003446</td>\n",
       "      <td>0.002759</td>\n",
       "      <td>0.000920</td>\n",
       "      <td>0.001860</td>\n",
       "      <td>0.002690</td>\n",
       "      <td>0.003955</td>\n",
       "      <td>0.019580</td>\n",
       "    </tr>\n",
       "    <tr>\n",
       "      <th>Jitter:DDP</th>\n",
       "      <td>195.0</td>\n",
       "      <td>0.009920</td>\n",
       "      <td>0.008903</td>\n",
       "      <td>0.002040</td>\n",
       "      <td>0.004985</td>\n",
       "      <td>0.007490</td>\n",
       "      <td>0.011505</td>\n",
       "      <td>0.064330</td>\n",
       "    </tr>\n",
       "    <tr>\n",
       "      <th>MDVP:Shimmer</th>\n",
       "      <td>195.0</td>\n",
       "      <td>0.029709</td>\n",
       "      <td>0.018857</td>\n",
       "      <td>0.009540</td>\n",
       "      <td>0.016505</td>\n",
       "      <td>0.022970</td>\n",
       "      <td>0.037885</td>\n",
       "      <td>0.119080</td>\n",
       "    </tr>\n",
       "    <tr>\n",
       "      <th>MDVP:Shimmer(dB)</th>\n",
       "      <td>195.0</td>\n",
       "      <td>0.282251</td>\n",
       "      <td>0.194877</td>\n",
       "      <td>0.085000</td>\n",
       "      <td>0.148500</td>\n",
       "      <td>0.221000</td>\n",
       "      <td>0.350000</td>\n",
       "      <td>1.302000</td>\n",
       "    </tr>\n",
       "    <tr>\n",
       "      <th>Shimmer:APQ3</th>\n",
       "      <td>195.0</td>\n",
       "      <td>0.015664</td>\n",
       "      <td>0.010153</td>\n",
       "      <td>0.004550</td>\n",
       "      <td>0.008245</td>\n",
       "      <td>0.012790</td>\n",
       "      <td>0.020265</td>\n",
       "      <td>0.056470</td>\n",
       "    </tr>\n",
       "    <tr>\n",
       "      <th>Shimmer:APQ5</th>\n",
       "      <td>195.0</td>\n",
       "      <td>0.017878</td>\n",
       "      <td>0.012024</td>\n",
       "      <td>0.005700</td>\n",
       "      <td>0.009580</td>\n",
       "      <td>0.013470</td>\n",
       "      <td>0.022380</td>\n",
       "      <td>0.079400</td>\n",
       "    </tr>\n",
       "    <tr>\n",
       "      <th>MDVP:APQ</th>\n",
       "      <td>195.0</td>\n",
       "      <td>0.024081</td>\n",
       "      <td>0.016947</td>\n",
       "      <td>0.007190</td>\n",
       "      <td>0.013080</td>\n",
       "      <td>0.018260</td>\n",
       "      <td>0.029400</td>\n",
       "      <td>0.137780</td>\n",
       "    </tr>\n",
       "    <tr>\n",
       "      <th>Shimmer:DDA</th>\n",
       "      <td>195.0</td>\n",
       "      <td>0.046993</td>\n",
       "      <td>0.030459</td>\n",
       "      <td>0.013640</td>\n",
       "      <td>0.024735</td>\n",
       "      <td>0.038360</td>\n",
       "      <td>0.060795</td>\n",
       "      <td>0.169420</td>\n",
       "    </tr>\n",
       "    <tr>\n",
       "      <th>NHR</th>\n",
       "      <td>195.0</td>\n",
       "      <td>0.024847</td>\n",
       "      <td>0.040418</td>\n",
       "      <td>0.000650</td>\n",
       "      <td>0.005925</td>\n",
       "      <td>0.011660</td>\n",
       "      <td>0.025640</td>\n",
       "      <td>0.314820</td>\n",
       "    </tr>\n",
       "    <tr>\n",
       "      <th>HNR</th>\n",
       "      <td>195.0</td>\n",
       "      <td>21.885974</td>\n",
       "      <td>4.425764</td>\n",
       "      <td>8.441000</td>\n",
       "      <td>19.198000</td>\n",
       "      <td>22.085000</td>\n",
       "      <td>25.075500</td>\n",
       "      <td>33.047000</td>\n",
       "    </tr>\n",
       "    <tr>\n",
       "      <th>RPDE</th>\n",
       "      <td>195.0</td>\n",
       "      <td>0.498536</td>\n",
       "      <td>0.103942</td>\n",
       "      <td>0.256570</td>\n",
       "      <td>0.421306</td>\n",
       "      <td>0.495954</td>\n",
       "      <td>0.587562</td>\n",
       "      <td>0.685151</td>\n",
       "    </tr>\n",
       "    <tr>\n",
       "      <th>DFA</th>\n",
       "      <td>195.0</td>\n",
       "      <td>0.718099</td>\n",
       "      <td>0.055336</td>\n",
       "      <td>0.574282</td>\n",
       "      <td>0.674758</td>\n",
       "      <td>0.722254</td>\n",
       "      <td>0.761881</td>\n",
       "      <td>0.825288</td>\n",
       "    </tr>\n",
       "    <tr>\n",
       "      <th>spread1</th>\n",
       "      <td>195.0</td>\n",
       "      <td>-5.684397</td>\n",
       "      <td>1.090208</td>\n",
       "      <td>-7.964984</td>\n",
       "      <td>-6.450096</td>\n",
       "      <td>-5.720868</td>\n",
       "      <td>-5.046192</td>\n",
       "      <td>-2.434031</td>\n",
       "    </tr>\n",
       "    <tr>\n",
       "      <th>spread2</th>\n",
       "      <td>195.0</td>\n",
       "      <td>0.226510</td>\n",
       "      <td>0.083406</td>\n",
       "      <td>0.006274</td>\n",
       "      <td>0.174351</td>\n",
       "      <td>0.218885</td>\n",
       "      <td>0.279234</td>\n",
       "      <td>0.450493</td>\n",
       "    </tr>\n",
       "    <tr>\n",
       "      <th>D2</th>\n",
       "      <td>195.0</td>\n",
       "      <td>2.381826</td>\n",
       "      <td>0.382799</td>\n",
       "      <td>1.423287</td>\n",
       "      <td>2.099125</td>\n",
       "      <td>2.361532</td>\n",
       "      <td>2.636456</td>\n",
       "      <td>3.671155</td>\n",
       "    </tr>\n",
       "    <tr>\n",
       "      <th>PPE</th>\n",
       "      <td>195.0</td>\n",
       "      <td>0.206552</td>\n",
       "      <td>0.090119</td>\n",
       "      <td>0.044539</td>\n",
       "      <td>0.137451</td>\n",
       "      <td>0.194052</td>\n",
       "      <td>0.252980</td>\n",
       "      <td>0.527367</td>\n",
       "    </tr>\n",
       "    <tr>\n",
       "      <th>status</th>\n",
       "      <td>195.0</td>\n",
       "      <td>0.753846</td>\n",
       "      <td>0.431878</td>\n",
       "      <td>0.000000</td>\n",
       "      <td>1.000000</td>\n",
       "      <td>1.000000</td>\n",
       "      <td>1.000000</td>\n",
       "      <td>1.000000</td>\n",
       "    </tr>\n",
       "  </tbody>\n",
       "</table>\n",
       "</div>"
      ],
      "text/plain": [
       "                  count        mean  ...         75%         max\n",
       "MDVP:Fo(Hz)       195.0  154.228641  ...  182.769000  260.105000\n",
       "MDVP:Fhi(Hz)      195.0  197.104918  ...  224.205500  592.030000\n",
       "MDVP:Flo(Hz)      195.0  116.324631  ...  140.018500  239.170000\n",
       "MDVP:Jitter(%)    195.0    0.006220  ...    0.007365    0.033160\n",
       "MDVP:Jitter(Abs)  195.0    0.000044  ...    0.000060    0.000260\n",
       "MDVP:RAP          195.0    0.003306  ...    0.003835    0.021440\n",
       "MDVP:PPQ          195.0    0.003446  ...    0.003955    0.019580\n",
       "Jitter:DDP        195.0    0.009920  ...    0.011505    0.064330\n",
       "MDVP:Shimmer      195.0    0.029709  ...    0.037885    0.119080\n",
       "MDVP:Shimmer(dB)  195.0    0.282251  ...    0.350000    1.302000\n",
       "Shimmer:APQ3      195.0    0.015664  ...    0.020265    0.056470\n",
       "Shimmer:APQ5      195.0    0.017878  ...    0.022380    0.079400\n",
       "MDVP:APQ          195.0    0.024081  ...    0.029400    0.137780\n",
       "Shimmer:DDA       195.0    0.046993  ...    0.060795    0.169420\n",
       "NHR               195.0    0.024847  ...    0.025640    0.314820\n",
       "HNR               195.0   21.885974  ...   25.075500   33.047000\n",
       "RPDE              195.0    0.498536  ...    0.587562    0.685151\n",
       "DFA               195.0    0.718099  ...    0.761881    0.825288\n",
       "spread1           195.0   -5.684397  ...   -5.046192   -2.434031\n",
       "spread2           195.0    0.226510  ...    0.279234    0.450493\n",
       "D2                195.0    2.381826  ...    2.636456    3.671155\n",
       "PPE               195.0    0.206552  ...    0.252980    0.527367\n",
       "status            195.0    0.753846  ...    1.000000    1.000000\n",
       "\n",
       "[23 rows x 8 columns]"
      ]
     },
     "execution_count": 10,
     "metadata": {
      "tags": []
     },
     "output_type": "execute_result"
    }
   ],
   "source": [
    "parkinson_df.describe().transpose()\n"
   ]
  },
  {
   "cell_type": "code",
   "execution_count": null,
   "metadata": {
    "colab": {
     "base_uri": "https://localhost:8080/",
     "height": 69
    },
    "executionInfo": {
     "elapsed": 1031,
     "status": "ok",
     "timestamp": 1576597124275,
     "user": {
      "displayName": "manasa pawar",
      "photoUrl": "",
      "userId": "07850461268939422328"
     },
     "user_tz": -660
    },
    "id": "sIEmfjRZgtYT",
    "outputId": "7798c314-1214-40b0-d91e-11b2776c1d5b"
   },
   "outputs": [
    {
     "data": {
      "text/html": [
       "<div>\n",
       "<style scoped>\n",
       "    .dataframe tbody tr th:only-of-type {\n",
       "        vertical-align: middle;\n",
       "    }\n",
       "\n",
       "    .dataframe tbody tr th {\n",
       "        vertical-align: top;\n",
       "    }\n",
       "\n",
       "    .dataframe thead th {\n",
       "        text-align: right;\n",
       "    }\n",
       "</style>\n",
       "<table border=\"1\" class=\"dataframe\">\n",
       "  <thead>\n",
       "    <tr style=\"text-align: right;\">\n",
       "      <th></th>\n",
       "      <th>MDVP:Fo(Hz)</th>\n",
       "      <th>MDVP:Fhi(Hz)</th>\n",
       "      <th>MDVP:Flo(Hz)</th>\n",
       "      <th>MDVP:Jitter(%)</th>\n",
       "      <th>MDVP:Jitter(Abs)</th>\n",
       "      <th>MDVP:RAP</th>\n",
       "      <th>MDVP:PPQ</th>\n",
       "      <th>Jitter:DDP</th>\n",
       "      <th>MDVP:Shimmer</th>\n",
       "      <th>MDVP:Shimmer(dB)</th>\n",
       "      <th>Shimmer:APQ3</th>\n",
       "      <th>Shimmer:APQ5</th>\n",
       "      <th>MDVP:APQ</th>\n",
       "      <th>Shimmer:DDA</th>\n",
       "      <th>NHR</th>\n",
       "      <th>HNR</th>\n",
       "      <th>RPDE</th>\n",
       "      <th>DFA</th>\n",
       "      <th>spread1</th>\n",
       "      <th>spread2</th>\n",
       "      <th>D2</th>\n",
       "      <th>PPE</th>\n",
       "      <th>status</th>\n",
       "    </tr>\n",
       "  </thead>\n",
       "  <tbody>\n",
       "  </tbody>\n",
       "</table>\n",
       "</div>"
      ],
      "text/plain": [
       "Empty DataFrame\n",
       "Columns: [MDVP:Fo(Hz), MDVP:Fhi(Hz), MDVP:Flo(Hz), MDVP:Jitter(%), MDVP:Jitter(Abs), MDVP:RAP, MDVP:PPQ, Jitter:DDP, MDVP:Shimmer, MDVP:Shimmer(dB), Shimmer:APQ3, Shimmer:APQ5, MDVP:APQ, Shimmer:DDA, NHR, HNR, RPDE, DFA, spread1, spread2, D2, PPE, status]\n",
       "Index: []"
      ]
     },
     "execution_count": 11,
     "metadata": {
      "tags": []
     },
     "output_type": "execute_result"
    }
   ],
   "source": [
    "parkinson_df[parkinson_df.isnull().any(axis=1)]\n"
   ]
  },
  {
   "cell_type": "code",
   "execution_count": null,
   "metadata": {
    "colab": {
     "base_uri": "https://localhost:8080/",
     "height": 520
    },
    "executionInfo": {
     "elapsed": 2044,
     "status": "ok",
     "timestamp": 1576597143374,
     "user": {
      "displayName": "manasa pawar",
      "photoUrl": "",
      "userId": "07850461268939422328"
     },
     "user_tz": -660
    },
    "id": "_QKRyrErgyNV",
    "outputId": "9666488c-d0df-48cc-d17d-7931c79b3c3e"
   },
   "outputs": [
    {
     "data": {
      "text/plain": [
       "<matplotlib.axes._subplots.AxesSubplot at 0x7fb03a194da0>"
      ]
     },
     "execution_count": 12,
     "metadata": {
      "tags": []
     },
     "output_type": "execute_result"
    },
    {
     "data": {
      "image/png": "[encoded data removed]",
      "text/plain": [
       "<Figure size 1728x576 with 1 Axes>"
      ]
     },
     "metadata": {
      "tags": []
     },
     "output_type": "display_data"
    }
   ],
   "source": [
    "parkinson_df.boxplot(figsize=(24,8))\n"
   ]
  },
  {
   "cell_type": "code",
   "execution_count": null,
   "metadata": {
    "colab": {
     "base_uri": "https://localhost:8080/",
     "height": 782
    },
    "executionInfo": {
     "elapsed": 1313,
     "status": "ok",
     "timestamp": 1576597158158,
     "user": {
      "displayName": "manasa pawar",
      "photoUrl": "",
      "userId": "07850461268939422328"
     },
     "user_tz": -660
    },
    "id": "CQJzq-71g2WW",
    "outputId": "add6b3a8-6549-4201-b528-4ff64a04ff5d"
   },
   "outputs": [
    {
     "data": {
      "text/html": [
       "<div>\n",
       "<style scoped>\n",
       "    .dataframe tbody tr th:only-of-type {\n",
       "        vertical-align: middle;\n",
       "    }\n",
       "\n",
       "    .dataframe tbody tr th {\n",
       "        vertical-align: top;\n",
       "    }\n",
       "\n",
       "    .dataframe thead th {\n",
       "        text-align: right;\n",
       "    }\n",
       "</style>\n",
       "<table border=\"1\" class=\"dataframe\">\n",
       "  <thead>\n",
       "    <tr style=\"text-align: right;\">\n",
       "      <th></th>\n",
       "      <th>MDVP:Fo(Hz)</th>\n",
       "      <th>MDVP:Fhi(Hz)</th>\n",
       "      <th>MDVP:Flo(Hz)</th>\n",
       "      <th>MDVP:Jitter(%)</th>\n",
       "      <th>MDVP:Jitter(Abs)</th>\n",
       "      <th>MDVP:RAP</th>\n",
       "      <th>MDVP:PPQ</th>\n",
       "      <th>Jitter:DDP</th>\n",
       "      <th>MDVP:Shimmer</th>\n",
       "      <th>MDVP:Shimmer(dB)</th>\n",
       "      <th>Shimmer:APQ3</th>\n",
       "      <th>Shimmer:APQ5</th>\n",
       "      <th>MDVP:APQ</th>\n",
       "      <th>Shimmer:DDA</th>\n",
       "      <th>NHR</th>\n",
       "      <th>HNR</th>\n",
       "      <th>RPDE</th>\n",
       "      <th>DFA</th>\n",
       "      <th>spread1</th>\n",
       "      <th>spread2</th>\n",
       "      <th>D2</th>\n",
       "      <th>PPE</th>\n",
       "      <th>status</th>\n",
       "    </tr>\n",
       "  </thead>\n",
       "  <tbody>\n",
       "    <tr>\n",
       "      <th>MDVP:Fo(Hz)</th>\n",
       "      <td>1.000000</td>\n",
       "      <td>0.400985</td>\n",
       "      <td>0.596546</td>\n",
       "      <td>-0.118003</td>\n",
       "      <td>-0.382027</td>\n",
       "      <td>-0.076194</td>\n",
       "      <td>-0.112165</td>\n",
       "      <td>-0.076213</td>\n",
       "      <td>-0.098374</td>\n",
       "      <td>-0.073742</td>\n",
       "      <td>-0.094717</td>\n",
       "      <td>-0.070682</td>\n",
       "      <td>-0.077774</td>\n",
       "      <td>-0.094732</td>\n",
       "      <td>-0.021981</td>\n",
       "      <td>0.059144</td>\n",
       "      <td>-0.383894</td>\n",
       "      <td>-0.446013</td>\n",
       "      <td>-0.413738</td>\n",
       "      <td>-0.249450</td>\n",
       "      <td>0.177980</td>\n",
       "      <td>-0.372356</td>\n",
       "      <td>-0.383535</td>\n",
       "    </tr>\n",
       "    <tr>\n",
       "      <th>MDVP:Fhi(Hz)</th>\n",
       "      <td>0.400985</td>\n",
       "      <td>1.000000</td>\n",
       "      <td>0.084951</td>\n",
       "      <td>0.102086</td>\n",
       "      <td>-0.029198</td>\n",
       "      <td>0.097177</td>\n",
       "      <td>0.091126</td>\n",
       "      <td>0.097150</td>\n",
       "      <td>0.002281</td>\n",
       "      <td>0.043465</td>\n",
       "      <td>-0.003743</td>\n",
       "      <td>-0.009997</td>\n",
       "      <td>0.004937</td>\n",
       "      <td>-0.003733</td>\n",
       "      <td>0.163766</td>\n",
       "      <td>-0.024893</td>\n",
       "      <td>-0.112404</td>\n",
       "      <td>-0.343097</td>\n",
       "      <td>-0.076658</td>\n",
       "      <td>-0.002954</td>\n",
       "      <td>0.176323</td>\n",
       "      <td>-0.069543</td>\n",
       "      <td>-0.166136</td>\n",
       "    </tr>\n",
       "    <tr>\n",
       "      <th>MDVP:Flo(Hz)</th>\n",
       "      <td>0.596546</td>\n",
       "      <td>0.084951</td>\n",
       "      <td>1.000000</td>\n",
       "      <td>-0.139919</td>\n",
       "      <td>-0.277815</td>\n",
       "      <td>-0.100519</td>\n",
       "      <td>-0.095828</td>\n",
       "      <td>-0.100488</td>\n",
       "      <td>-0.144543</td>\n",
       "      <td>-0.119089</td>\n",
       "      <td>-0.150747</td>\n",
       "      <td>-0.101095</td>\n",
       "      <td>-0.107293</td>\n",
       "      <td>-0.150737</td>\n",
       "      <td>-0.108670</td>\n",
       "      <td>0.210851</td>\n",
       "      <td>-0.400143</td>\n",
       "      <td>-0.050406</td>\n",
       "      <td>-0.394857</td>\n",
       "      <td>-0.243829</td>\n",
       "      <td>-0.100629</td>\n",
       "      <td>-0.340071</td>\n",
       "      <td>-0.380200</td>\n",
       "    </tr>\n",
       "    <tr>\n",
       "      <th>MDVP:Jitter(%)</th>\n",
       "      <td>-0.118003</td>\n",
       "      <td>0.102086</td>\n",
       "      <td>-0.139919</td>\n",
       "      <td>1.000000</td>\n",
       "      <td>0.935714</td>\n",
       "      <td>0.990276</td>\n",
       "      <td>0.974256</td>\n",
       "      <td>0.990276</td>\n",
       "      <td>0.769063</td>\n",
       "      <td>0.804289</td>\n",
       "      <td>0.746625</td>\n",
       "      <td>0.725561</td>\n",
       "      <td>0.758255</td>\n",
       "      <td>0.746635</td>\n",
       "      <td>0.906959</td>\n",
       "      <td>-0.728165</td>\n",
       "      <td>0.360673</td>\n",
       "      <td>0.098572</td>\n",
       "      <td>0.693577</td>\n",
       "      <td>0.385123</td>\n",
       "      <td>0.433434</td>\n",
       "      <td>0.721543</td>\n",
       "      <td>0.278220</td>\n",
       "    </tr>\n",
       "    <tr>\n",
       "      <th>MDVP:Jitter(Abs)</th>\n",
       "      <td>-0.382027</td>\n",
       "      <td>-0.029198</td>\n",
       "      <td>-0.277815</td>\n",
       "      <td>0.935714</td>\n",
       "      <td>1.000000</td>\n",
       "      <td>0.922911</td>\n",
       "      <td>0.897778</td>\n",
       "      <td>0.922913</td>\n",
       "      <td>0.703322</td>\n",
       "      <td>0.716601</td>\n",
       "      <td>0.697153</td>\n",
       "      <td>0.648961</td>\n",
       "      <td>0.648793</td>\n",
       "      <td>0.697170</td>\n",
       "      <td>0.834972</td>\n",
       "      <td>-0.656810</td>\n",
       "      <td>0.441839</td>\n",
       "      <td>0.175036</td>\n",
       "      <td>0.735779</td>\n",
       "      <td>0.388543</td>\n",
       "      <td>0.310694</td>\n",
       "      <td>0.748162</td>\n",
       "      <td>0.338653</td>\n",
       "    </tr>\n",
       "    <tr>\n",
       "      <th>MDVP:RAP</th>\n",
       "      <td>-0.076194</td>\n",
       "      <td>0.097177</td>\n",
       "      <td>-0.100519</td>\n",
       "      <td>0.990276</td>\n",
       "      <td>0.922911</td>\n",
       "      <td>1.000000</td>\n",
       "      <td>0.957317</td>\n",
       "      <td>1.000000</td>\n",
       "      <td>0.759581</td>\n",
       "      <td>0.790652</td>\n",
       "      <td>0.744912</td>\n",
       "      <td>0.709927</td>\n",
       "      <td>0.737455</td>\n",
       "      <td>0.744919</td>\n",
       "      <td>0.919521</td>\n",
       "      <td>-0.721543</td>\n",
       "      <td>0.342140</td>\n",
       "      <td>0.064083</td>\n",
       "      <td>0.648328</td>\n",
       "      <td>0.324407</td>\n",
       "      <td>0.426605</td>\n",
       "      <td>0.670999</td>\n",
       "      <td>0.266668</td>\n",
       "    </tr>\n",
       "    <tr>\n",
       "      <th>MDVP:PPQ</th>\n",
       "      <td>-0.112165</td>\n",
       "      <td>0.091126</td>\n",
       "      <td>-0.095828</td>\n",
       "      <td>0.974256</td>\n",
       "      <td>0.897778</td>\n",
       "      <td>0.957317</td>\n",
       "      <td>1.000000</td>\n",
       "      <td>0.957319</td>\n",
       "      <td>0.797826</td>\n",
       "      <td>0.839239</td>\n",
       "      <td>0.763580</td>\n",
       "      <td>0.786780</td>\n",
       "      <td>0.804139</td>\n",
       "      <td>0.763592</td>\n",
       "      <td>0.844604</td>\n",
       "      <td>-0.731510</td>\n",
       "      <td>0.333274</td>\n",
       "      <td>0.196301</td>\n",
       "      <td>0.716489</td>\n",
       "      <td>0.407605</td>\n",
       "      <td>0.412524</td>\n",
       "      <td>0.769647</td>\n",
       "      <td>0.288698</td>\n",
       "    </tr>\n",
       "    <tr>\n",
       "      <th>Jitter:DDP</th>\n",
       "      <td>-0.076213</td>\n",
       "      <td>0.097150</td>\n",
       "      <td>-0.100488</td>\n",
       "      <td>0.990276</td>\n",
       "      <td>0.922913</td>\n",
       "      <td>1.000000</td>\n",
       "      <td>0.957319</td>\n",
       "      <td>1.000000</td>\n",
       "      <td>0.759555</td>\n",
       "      <td>0.790621</td>\n",
       "      <td>0.744894</td>\n",
       "      <td>0.709907</td>\n",
       "      <td>0.737439</td>\n",
       "      <td>0.744901</td>\n",
       "      <td>0.919548</td>\n",
       "      <td>-0.721494</td>\n",
       "      <td>0.342079</td>\n",
       "      <td>0.064026</td>\n",
       "      <td>0.648328</td>\n",
       "      <td>0.324377</td>\n",
       "      <td>0.426556</td>\n",
       "      <td>0.671005</td>\n",
       "      <td>0.266646</td>\n",
       "    </tr>\n",
       "    <tr>\n",
       "      <th>MDVP:Shimmer</th>\n",
       "      <td>-0.098374</td>\n",
       "      <td>0.002281</td>\n",
       "      <td>-0.144543</td>\n",
       "      <td>0.769063</td>\n",
       "      <td>0.703322</td>\n",
       "      <td>0.759581</td>\n",
       "      <td>0.797826</td>\n",
       "      <td>0.759555</td>\n",
       "      <td>1.000000</td>\n",
       "      <td>0.987258</td>\n",
       "      <td>0.987625</td>\n",
       "      <td>0.982835</td>\n",
       "      <td>0.950083</td>\n",
       "      <td>0.987626</td>\n",
       "      <td>0.722194</td>\n",
       "      <td>-0.835271</td>\n",
       "      <td>0.447424</td>\n",
       "      <td>0.159954</td>\n",
       "      <td>0.654734</td>\n",
       "      <td>0.452025</td>\n",
       "      <td>0.507088</td>\n",
       "      <td>0.693771</td>\n",
       "      <td>0.367430</td>\n",
       "    </tr>\n",
       "    <tr>\n",
       "      <th>MDVP:Shimmer(dB)</th>\n",
       "      <td>-0.073742</td>\n",
       "      <td>0.043465</td>\n",
       "      <td>-0.119089</td>\n",
       "      <td>0.804289</td>\n",
       "      <td>0.716601</td>\n",
       "      <td>0.790652</td>\n",
       "      <td>0.839239</td>\n",
       "      <td>0.790621</td>\n",
       "      <td>0.987258</td>\n",
       "      <td>1.000000</td>\n",
       "      <td>0.963198</td>\n",
       "      <td>0.973751</td>\n",
       "      <td>0.960977</td>\n",
       "      <td>0.963202</td>\n",
       "      <td>0.744477</td>\n",
       "      <td>-0.827805</td>\n",
       "      <td>0.410684</td>\n",
       "      <td>0.165157</td>\n",
       "      <td>0.652547</td>\n",
       "      <td>0.454314</td>\n",
       "      <td>0.512233</td>\n",
       "      <td>0.695058</td>\n",
       "      <td>0.350697</td>\n",
       "    </tr>\n",
       "    <tr>\n",
       "      <th>Shimmer:APQ3</th>\n",
       "      <td>-0.094717</td>\n",
       "      <td>-0.003743</td>\n",
       "      <td>-0.150747</td>\n",
       "      <td>0.746625</td>\n",
       "      <td>0.697153</td>\n",
       "      <td>0.744912</td>\n",
       "      <td>0.763580</td>\n",
       "      <td>0.744894</td>\n",
       "      <td>0.987625</td>\n",
       "      <td>0.963198</td>\n",
       "      <td>1.000000</td>\n",
       "      <td>0.960070</td>\n",
       "      <td>0.896645</td>\n",
       "      <td>1.000000</td>\n",
       "      <td>0.716207</td>\n",
       "      <td>-0.827123</td>\n",
       "      <td>0.435242</td>\n",
       "      <td>0.151124</td>\n",
       "      <td>0.610967</td>\n",
       "      <td>0.402243</td>\n",
       "      <td>0.467265</td>\n",
       "      <td>0.645377</td>\n",
       "      <td>0.347617</td>\n",
       "    </tr>\n",
       "    <tr>\n",
       "      <th>Shimmer:APQ5</th>\n",
       "      <td>-0.070682</td>\n",
       "      <td>-0.009997</td>\n",
       "      <td>-0.101095</td>\n",
       "      <td>0.725561</td>\n",
       "      <td>0.648961</td>\n",
       "      <td>0.709927</td>\n",
       "      <td>0.786780</td>\n",
       "      <td>0.709907</td>\n",
       "      <td>0.982835</td>\n",
       "      <td>0.973751</td>\n",
       "      <td>0.960070</td>\n",
       "      <td>1.000000</td>\n",
       "      <td>0.949146</td>\n",
       "      <td>0.960072</td>\n",
       "      <td>0.658080</td>\n",
       "      <td>-0.813753</td>\n",
       "      <td>0.399903</td>\n",
       "      <td>0.213873</td>\n",
       "      <td>0.646809</td>\n",
       "      <td>0.457195</td>\n",
       "      <td>0.502174</td>\n",
       "      <td>0.702456</td>\n",
       "      <td>0.351148</td>\n",
       "    </tr>\n",
       "    <tr>\n",
       "      <th>MDVP:APQ</th>\n",
       "      <td>-0.077774</td>\n",
       "      <td>0.004937</td>\n",
       "      <td>-0.107293</td>\n",
       "      <td>0.758255</td>\n",
       "      <td>0.648793</td>\n",
       "      <td>0.737455</td>\n",
       "      <td>0.804139</td>\n",
       "      <td>0.737439</td>\n",
       "      <td>0.950083</td>\n",
       "      <td>0.960977</td>\n",
       "      <td>0.896645</td>\n",
       "      <td>0.949146</td>\n",
       "      <td>1.000000</td>\n",
       "      <td>0.896647</td>\n",
       "      <td>0.694019</td>\n",
       "      <td>-0.800407</td>\n",
       "      <td>0.451379</td>\n",
       "      <td>0.157276</td>\n",
       "      <td>0.673158</td>\n",
       "      <td>0.502188</td>\n",
       "      <td>0.536869</td>\n",
       "      <td>0.721694</td>\n",
       "      <td>0.364316</td>\n",
       "    </tr>\n",
       "    <tr>\n",
       "      <th>Shimmer:DDA</th>\n",
       "      <td>-0.094732</td>\n",
       "      <td>-0.003733</td>\n",
       "      <td>-0.150737</td>\n",
       "      <td>0.746635</td>\n",
       "      <td>0.697170</td>\n",
       "      <td>0.744919</td>\n",
       "      <td>0.763592</td>\n",
       "      <td>0.744901</td>\n",
       "      <td>0.987626</td>\n",
       "      <td>0.963202</td>\n",
       "      <td>1.000000</td>\n",
       "      <td>0.960072</td>\n",
       "      <td>0.896647</td>\n",
       "      <td>1.000000</td>\n",
       "      <td>0.716215</td>\n",
       "      <td>-0.827130</td>\n",
       "      <td>0.435237</td>\n",
       "      <td>0.151132</td>\n",
       "      <td>0.610971</td>\n",
       "      <td>0.402223</td>\n",
       "      <td>0.467261</td>\n",
       "      <td>0.645389</td>\n",
       "      <td>0.347608</td>\n",
       "    </tr>\n",
       "    <tr>\n",
       "      <th>NHR</th>\n",
       "      <td>-0.021981</td>\n",
       "      <td>0.163766</td>\n",
       "      <td>-0.108670</td>\n",
       "      <td>0.906959</td>\n",
       "      <td>0.834972</td>\n",
       "      <td>0.919521</td>\n",
       "      <td>0.844604</td>\n",
       "      <td>0.919548</td>\n",
       "      <td>0.722194</td>\n",
       "      <td>0.744477</td>\n",
       "      <td>0.716207</td>\n",
       "      <td>0.658080</td>\n",
       "      <td>0.694019</td>\n",
       "      <td>0.716215</td>\n",
       "      <td>1.000000</td>\n",
       "      <td>-0.714072</td>\n",
       "      <td>0.370890</td>\n",
       "      <td>-0.131882</td>\n",
       "      <td>0.540865</td>\n",
       "      <td>0.318099</td>\n",
       "      <td>0.470949</td>\n",
       "      <td>0.552591</td>\n",
       "      <td>0.189429</td>\n",
       "    </tr>\n",
       "    <tr>\n",
       "      <th>HNR</th>\n",
       "      <td>0.059144</td>\n",
       "      <td>-0.024893</td>\n",
       "      <td>0.210851</td>\n",
       "      <td>-0.728165</td>\n",
       "      <td>-0.656810</td>\n",
       "      <td>-0.721543</td>\n",
       "      <td>-0.731510</td>\n",
       "      <td>-0.721494</td>\n",
       "      <td>-0.835271</td>\n",
       "      <td>-0.827805</td>\n",
       "      <td>-0.827123</td>\n",
       "      <td>-0.813753</td>\n",
       "      <td>-0.800407</td>\n",
       "      <td>-0.827130</td>\n",
       "      <td>-0.714072</td>\n",
       "      <td>1.000000</td>\n",
       "      <td>-0.598736</td>\n",
       "      <td>-0.008665</td>\n",
       "      <td>-0.673210</td>\n",
       "      <td>-0.431564</td>\n",
       "      <td>-0.601401</td>\n",
       "      <td>-0.692876</td>\n",
       "      <td>-0.361515</td>\n",
       "    </tr>\n",
       "    <tr>\n",
       "      <th>RPDE</th>\n",
       "      <td>-0.383894</td>\n",
       "      <td>-0.112404</td>\n",
       "      <td>-0.400143</td>\n",
       "      <td>0.360673</td>\n",
       "      <td>0.441839</td>\n",
       "      <td>0.342140</td>\n",
       "      <td>0.333274</td>\n",
       "      <td>0.342079</td>\n",
       "      <td>0.447424</td>\n",
       "      <td>0.410684</td>\n",
       "      <td>0.435242</td>\n",
       "      <td>0.399903</td>\n",
       "      <td>0.451379</td>\n",
       "      <td>0.435237</td>\n",
       "      <td>0.370890</td>\n",
       "      <td>-0.598736</td>\n",
       "      <td>1.000000</td>\n",
       "      <td>-0.110950</td>\n",
       "      <td>0.591117</td>\n",
       "      <td>0.479905</td>\n",
       "      <td>0.236931</td>\n",
       "      <td>0.545886</td>\n",
       "      <td>0.308567</td>\n",
       "    </tr>\n",
       "    <tr>\n",
       "      <th>DFA</th>\n",
       "      <td>-0.446013</td>\n",
       "      <td>-0.343097</td>\n",
       "      <td>-0.050406</td>\n",
       "      <td>0.098572</td>\n",
       "      <td>0.175036</td>\n",
       "      <td>0.064083</td>\n",
       "      <td>0.196301</td>\n",
       "      <td>0.064026</td>\n",
       "      <td>0.159954</td>\n",
       "      <td>0.165157</td>\n",
       "      <td>0.151124</td>\n",
       "      <td>0.213873</td>\n",
       "      <td>0.157276</td>\n",
       "      <td>0.151132</td>\n",
       "      <td>-0.131882</td>\n",
       "      <td>-0.008665</td>\n",
       "      <td>-0.110950</td>\n",
       "      <td>1.000000</td>\n",
       "      <td>0.195668</td>\n",
       "      <td>0.166548</td>\n",
       "      <td>-0.165381</td>\n",
       "      <td>0.270445</td>\n",
       "      <td>0.231739</td>\n",
       "    </tr>\n",
       "    <tr>\n",
       "      <th>spread1</th>\n",
       "      <td>-0.413738</td>\n",
       "      <td>-0.076658</td>\n",
       "      <td>-0.394857</td>\n",
       "      <td>0.693577</td>\n",
       "      <td>0.735779</td>\n",
       "      <td>0.648328</td>\n",
       "      <td>0.716489</td>\n",
       "      <td>0.648328</td>\n",
       "      <td>0.654734</td>\n",
       "      <td>0.652547</td>\n",
       "      <td>0.610967</td>\n",
       "      <td>0.646809</td>\n",
       "      <td>0.673158</td>\n",
       "      <td>0.610971</td>\n",
       "      <td>0.540865</td>\n",
       "      <td>-0.673210</td>\n",
       "      <td>0.591117</td>\n",
       "      <td>0.195668</td>\n",
       "      <td>1.000000</td>\n",
       "      <td>0.652358</td>\n",
       "      <td>0.495123</td>\n",
       "      <td>0.962435</td>\n",
       "      <td>0.564838</td>\n",
       "    </tr>\n",
       "    <tr>\n",
       "      <th>spread2</th>\n",
       "      <td>-0.249450</td>\n",
       "      <td>-0.002954</td>\n",
       "      <td>-0.243829</td>\n",
       "      <td>0.385123</td>\n",
       "      <td>0.388543</td>\n",
       "      <td>0.324407</td>\n",
       "      <td>0.407605</td>\n",
       "      <td>0.324377</td>\n",
       "      <td>0.452025</td>\n",
       "      <td>0.454314</td>\n",
       "      <td>0.402243</td>\n",
       "      <td>0.457195</td>\n",
       "      <td>0.502188</td>\n",
       "      <td>0.402223</td>\n",
       "      <td>0.318099</td>\n",
       "      <td>-0.431564</td>\n",
       "      <td>0.479905</td>\n",
       "      <td>0.166548</td>\n",
       "      <td>0.652358</td>\n",
       "      <td>1.000000</td>\n",
       "      <td>0.523532</td>\n",
       "      <td>0.644711</td>\n",
       "      <td>0.454842</td>\n",
       "    </tr>\n",
       "    <tr>\n",
       "      <th>D2</th>\n",
       "      <td>0.177980</td>\n",
       "      <td>0.176323</td>\n",
       "      <td>-0.100629</td>\n",
       "      <td>0.433434</td>\n",
       "      <td>0.310694</td>\n",
       "      <td>0.426605</td>\n",
       "      <td>0.412524</td>\n",
       "      <td>0.426556</td>\n",
       "      <td>0.507088</td>\n",
       "      <td>0.512233</td>\n",
       "      <td>0.467265</td>\n",
       "      <td>0.502174</td>\n",
       "      <td>0.536869</td>\n",
       "      <td>0.467261</td>\n",
       "      <td>0.470949</td>\n",
       "      <td>-0.601401</td>\n",
       "      <td>0.236931</td>\n",
       "      <td>-0.165381</td>\n",
       "      <td>0.495123</td>\n",
       "      <td>0.523532</td>\n",
       "      <td>1.000000</td>\n",
       "      <td>0.480585</td>\n",
       "      <td>0.340232</td>\n",
       "    </tr>\n",
       "    <tr>\n",
       "      <th>PPE</th>\n",
       "      <td>-0.372356</td>\n",
       "      <td>-0.069543</td>\n",
       "      <td>-0.340071</td>\n",
       "      <td>0.721543</td>\n",
       "      <td>0.748162</td>\n",
       "      <td>0.670999</td>\n",
       "      <td>0.769647</td>\n",
       "      <td>0.671005</td>\n",
       "      <td>0.693771</td>\n",
       "      <td>0.695058</td>\n",
       "      <td>0.645377</td>\n",
       "      <td>0.702456</td>\n",
       "      <td>0.721694</td>\n",
       "      <td>0.645389</td>\n",
       "      <td>0.552591</td>\n",
       "      <td>-0.692876</td>\n",
       "      <td>0.545886</td>\n",
       "      <td>0.270445</td>\n",
       "      <td>0.962435</td>\n",
       "      <td>0.644711</td>\n",
       "      <td>0.480585</td>\n",
       "      <td>1.000000</td>\n",
       "      <td>0.531039</td>\n",
       "    </tr>\n",
       "    <tr>\n",
       "      <th>status</th>\n",
       "      <td>-0.383535</td>\n",
       "      <td>-0.166136</td>\n",
       "      <td>-0.380200</td>\n",
       "      <td>0.278220</td>\n",
       "      <td>0.338653</td>\n",
       "      <td>0.266668</td>\n",
       "      <td>0.288698</td>\n",
       "      <td>0.266646</td>\n",
       "      <td>0.367430</td>\n",
       "      <td>0.350697</td>\n",
       "      <td>0.347617</td>\n",
       "      <td>0.351148</td>\n",
       "      <td>0.364316</td>\n",
       "      <td>0.347608</td>\n",
       "      <td>0.189429</td>\n",
       "      <td>-0.361515</td>\n",
       "      <td>0.308567</td>\n",
       "      <td>0.231739</td>\n",
       "      <td>0.564838</td>\n",
       "      <td>0.454842</td>\n",
       "      <td>0.340232</td>\n",
       "      <td>0.531039</td>\n",
       "      <td>1.000000</td>\n",
       "    </tr>\n",
       "  </tbody>\n",
       "</table>\n",
       "</div>"
      ],
      "text/plain": [
       "                  MDVP:Fo(Hz)  MDVP:Fhi(Hz)  ...       PPE    status\n",
       "MDVP:Fo(Hz)          1.000000      0.400985  ... -0.372356 -0.383535\n",
       "MDVP:Fhi(Hz)         0.400985      1.000000  ... -0.069543 -0.166136\n",
       "MDVP:Flo(Hz)         0.596546      0.084951  ... -0.340071 -0.380200\n",
       "MDVP:Jitter(%)      -0.118003      0.102086  ...  0.721543  0.278220\n",
       "MDVP:Jitter(Abs)    -0.382027     -0.029198  ...  0.748162  0.338653\n",
       "MDVP:RAP            -0.076194      0.097177  ...  0.670999  0.266668\n",
       "MDVP:PPQ            -0.112165      0.091126  ...  0.769647  0.288698\n",
       "Jitter:DDP          -0.076213      0.097150  ...  0.671005  0.266646\n",
       "MDVP:Shimmer        -0.098374      0.002281  ...  0.693771  0.367430\n",
       "MDVP:Shimmer(dB)    -0.073742      0.043465  ...  0.695058  0.350697\n",
       "Shimmer:APQ3        -0.094717     -0.003743  ...  0.645377  0.347617\n",
       "Shimmer:APQ5        -0.070682     -0.009997  ...  0.702456  0.351148\n",
       "MDVP:APQ            -0.077774      0.004937  ...  0.721694  0.364316\n",
       "Shimmer:DDA         -0.094732     -0.003733  ...  0.645389  0.347608\n",
       "NHR                 -0.021981      0.163766  ...  0.552591  0.189429\n",
       "HNR                  0.059144     -0.024893  ... -0.692876 -0.361515\n",
       "RPDE                -0.383894     -0.112404  ...  0.545886  0.308567\n",
       "DFA                 -0.446013     -0.343097  ...  0.270445  0.231739\n",
       "spread1             -0.413738     -0.076658  ...  0.962435  0.564838\n",
       "spread2             -0.249450     -0.002954  ...  0.644711  0.454842\n",
       "D2                   0.177980      0.176323  ...  0.480585  0.340232\n",
       "PPE                 -0.372356     -0.069543  ...  1.000000  0.531039\n",
       "status              -0.383535     -0.166136  ...  0.531039  1.000000\n",
       "\n",
       "[23 rows x 23 columns]"
      ]
     },
     "execution_count": 13,
     "metadata": {
      "tags": []
     },
     "output_type": "execute_result"
    }
   ],
   "source": [
    "parkinson_df.corr()"
   ]
  },
  {
   "cell_type": "code",
   "execution_count": null,
   "metadata": {
    "id": "TXo834ZV1Zbo"
   },
   "outputs": [],
   "source": []
  },
  {
   "cell_type": "code",
   "execution_count": null,
   "metadata": {
    "colab": {
     "base_uri": "https://localhost:8080/",
     "height": 68
    },
    "executionInfo": {
     "elapsed": 1527,
     "status": "ok",
     "timestamp": 1576597176808,
     "user": {
      "displayName": "manasa pawar",
      "photoUrl": "",
      "userId": "07850461268939422328"
     },
     "user_tz": -660
    },
    "id": "UKevFAPHg6uW",
    "outputId": "fe97080f-e435-46fb-e1e7-79ae43f55058"
   },
   "outputs": [
    {
     "data": {
      "text/plain": [
       "0     48\n",
       "1    147\n",
       "Name: status, dtype: int64"
      ]
     },
     "execution_count": 14,
     "metadata": {
      "tags": []
     },
     "output_type": "execute_result"
    }
   ],
   "source": [
    "parkinson_df['status'].value_counts().sort_index()\n"
   ]
  },
  {
   "cell_type": "code",
   "execution_count": null,
   "metadata": {
    "id": "jiN3kgcPhB1D"
   },
   "outputs": [],
   "source": [
    "X = parkinson_df.drop(['MDVP:Fhi(Hz)','NHR','status'],axis=1)\n",
    "Y = parkinson_df['status']"
   ]
  },
  {
   "cell_type": "code",
   "execution_count": null,
   "metadata": {
    "id": "GuAkB7WKhFec"
   },
   "outputs": [],
   "source": [
    "#Splitting the data into train and test in 70/30 ratio with random state as 2.\n",
    "X_train, X_test, Y_train, Y_test = train_test_split(X, Y, test_size=0.3, random_state=2)"
   ]
  },
  {
   "cell_type": "code",
   "execution_count": null,
   "metadata": {
    "colab": {
     "base_uri": "https://localhost:8080/",
     "height": 156
    },
    "executionInfo": {
     "elapsed": 1043,
     "status": "ok",
     "timestamp": 1576597239680,
     "user": {
      "displayName": "manasa pawar",
      "photoUrl": "",
      "userId": "07850461268939422328"
     },
     "user_tz": -660
    },
    "id": "YcCPeW12hKAZ",
    "outputId": "d72440c6-d9b1-440e-b899-f994390eeb7c"
   },
   "outputs": [
    {
     "name": "stderr",
     "output_type": "stream",
     "text": [
      "/usr/local/lib/python3.6/dist-packages/sklearn/linear_model/logistic.py:432: FutureWarning: Default solver will be changed to 'lbfgs' in 0.22. Specify a solver to silence this warning.\n",
      "  FutureWarning)\n"
     ]
    },
    {
     "data": {
      "text/plain": [
       "LogisticRegression(C=1.0, class_weight=None, dual=False, fit_intercept=True,\n",
       "                   intercept_scaling=1, l1_ratio=None, max_iter=100,\n",
       "                   multi_class='warn', n_jobs=None, penalty='l2',\n",
       "                   random_state=None, solver='warn', tol=0.0001, verbose=0,\n",
       "                   warm_start=False)"
      ]
     },
     "execution_count": 17,
     "metadata": {
      "tags": []
     },
     "output_type": "execute_result"
    }
   ],
   "source": [
    "LR = LogisticRegression()\n",
    "LR.fit(X_train, Y_train)"
   ]
  },
  {
   "cell_type": "code",
   "execution_count": null,
   "metadata": {
    "colab": {
     "base_uri": "https://localhost:8080/",
     "height": 68
    },
    "executionInfo": {
     "elapsed": 1150,
     "status": "ok",
     "timestamp": 1576597255673,
     "user": {
      "displayName": "manasa pawar",
      "photoUrl": "",
      "userId": "07850461268939422328"
     },
     "user_tz": -660
    },
    "id": "sMefbQgQhORx",
    "outputId": "75245f32-1c61-49db-abe2-89ab8680e370"
   },
   "outputs": [
    {
     "data": {
      "text/plain": [
       "array([1, 1, 1, 1, 1, 1, 0, 1, 1, 1, 1, 1, 1, 1, 1, 0, 1, 1, 1, 1, 1, 1,\n",
       "       1, 1, 0, 1, 1, 1, 1, 1, 1, 1, 1, 1, 1, 1, 0, 1, 1, 1, 1, 1, 1, 0,\n",
       "       1, 1, 1, 1, 1, 1, 1, 1, 1, 0, 1, 1, 1, 0, 1])"
      ]
     },
     "execution_count": 18,
     "metadata": {
      "tags": []
     },
     "output_type": "execute_result"
    }
   ],
   "source": [
    "Y1_predict = LR.predict(X_test)\n",
    "Y1_predict"
   ]
  },
  {
   "cell_type": "code",
   "execution_count": null,
   "metadata": {
    "colab": {
     "base_uri": "https://localhost:8080/",
     "height": 68
    },
    "executionInfo": {
     "elapsed": 1410,
     "status": "ok",
     "timestamp": 1576597271724,
     "user": {
      "displayName": "manasa pawar",
      "photoUrl": "",
      "userId": "07850461268939422328"
     },
     "user_tz": -660
    },
    "id": "aH3L4cWmhSG-",
    "outputId": "03185745-7212-4fe2-ed08-b1884035f2df"
   },
   "outputs": [
    {
     "name": "stdout",
     "output_type": "stream",
     "text": [
      "Accuracy of the model is 81.355932\n",
      "[[ 4  8]\n",
      " [ 3 44]]\n"
     ]
    }
   ],
   "source": [
    "Y_acc = metrics.accuracy_score(Y_test,Y1_predict)\n",
    "print(\"Accuracy of the model is {0:2f}\".format(Y_acc*100))\n",
    "Y_cm=metrics.confusion_matrix(Y_test,Y1_predict)\n",
    "print(Y_cm)"
   ]
  },
  {
   "cell_type": "code",
   "execution_count": null,
   "metadata": {
    "colab": {
     "base_uri": "https://localhost:8080/",
     "height": 34
    },
    "executionInfo": {
     "elapsed": 2123,
     "status": "ok",
     "timestamp": 1576597304792,
     "user": {
      "displayName": "manasa pawar",
      "photoUrl": "",
      "userId": "07850461268939422328"
     },
     "user_tz": -660
    },
    "id": "uxBjvoxihZ-C",
    "outputId": "f6ffcdf8-a43d-4772-c8d1-38e9aa562e82"
   },
   "outputs": [
    {
     "name": "stdout",
     "output_type": "stream",
     "text": [
      "Sensitivity of the model is 0.936170\n"
     ]
    }
   ],
   "source": [
    "#Sensitivity\n",
    "TPR=Y_cm[1,1]/(Y_cm[1,0]+Y_cm[1,1])\n",
    "print(\"Sensitivity of the model is {0:2f}\".format(TPR))"
   ]
  },
  {
   "cell_type": "code",
   "execution_count": null,
   "metadata": {
    "colab": {
     "base_uri": "https://localhost:8080/",
     "height": 34
    },
    "executionInfo": {
     "elapsed": 1112,
     "status": "ok",
     "timestamp": 1576597324060,
     "user": {
      "displayName": "manasa pawar",
      "photoUrl": "",
      "userId": "07850461268939422328"
     },
     "user_tz": -660
    },
    "id": "KrlsU-B6hfFV",
    "outputId": "bed6754b-5d24-4f53-e4b6-5f2d1983a62a"
   },
   "outputs": [
    {
     "name": "stdout",
     "output_type": "stream",
     "text": [
      "Specificity of the model is 0.333333\n"
     ]
    }
   ],
   "source": [
    "#Specificity\n",
    "TNR=Y_cm[0,0]/(Y_cm[0,0]+Y_cm[0,1])\n",
    "print(\"Specificity of the model is {0:2f}\".format(TNR))"
   ]
  },
  {
   "cell_type": "code",
   "execution_count": null,
   "metadata": {
    "colab": {
     "base_uri": "https://localhost:8080/",
     "height": 170
    },
    "executionInfo": {
     "elapsed": 1478,
     "status": "ok",
     "timestamp": 1576597337982,
     "user": {
      "displayName": "manasa pawar",
      "photoUrl": "",
      "userId": "07850461268939422328"
     },
     "user_tz": -660
    },
    "id": "YMCmTHRGhiWR",
    "outputId": "28cc0e12-cbfe-4099-b78e-8a03c4a8b800"
   },
   "outputs": [
    {
     "name": "stdout",
     "output_type": "stream",
     "text": [
      "              precision    recall  f1-score   support\n",
      "\n",
      "           0       0.57      0.33      0.42        12\n",
      "           1       0.85      0.94      0.89        47\n",
      "\n",
      "    accuracy                           0.81        59\n",
      "   macro avg       0.71      0.63      0.65        59\n",
      "weighted avg       0.79      0.81      0.79        59\n",
      "\n"
     ]
    }
   ],
   "source": [
    "Y_CR=metrics.classification_report(Y_test,Y1_predict)\n",
    "print(Y_CR)"
   ]
  },
  {
   "cell_type": "code",
   "execution_count": null,
   "metadata": {
    "colab": {
     "base_uri": "https://localhost:8080/",
     "height": 312
    },
    "executionInfo": {
     "elapsed": 1484,
     "status": "ok",
     "timestamp": 1576597353695,
     "user": {
      "displayName": "manasa pawar",
      "photoUrl": "",
      "userId": "07850461268939422328"
     },
     "user_tz": -660
    },
    "id": "CJb1lriKhmEN",
    "outputId": "4c095422-0253-4f67-a972-d8a5017655b0"
   },
   "outputs": [
    {
     "name": "stdout",
     "output_type": "stream",
     "text": [
      "Area under the curve for the given model is 0.634752\n"
     ]
    },
    {
     "data": {
      "image/png": "[encoded data removed]",
      "text/plain": [
       "<Figure size 432x288 with 1 Axes>"
      ]
     },
     "metadata": {
      "tags": []
     },
     "output_type": "display_data"
    }
   ],
   "source": [
    "fpr,tpr, _ = roc_curve(Y_test, Y1_predict)\n",
    "roc_auc = auc(fpr, tpr)\n",
    "\n",
    "print(\"Area under the curve for the given model is {0:2f}\".format(roc_auc))\n",
    "plt.figure()\n",
    "plt.plot(fpr, tpr)\n",
    "plt.xlim([0.0, 1.0])\n",
    "plt.ylim([0.0, 1.0])\n",
    "plt.xlabel('False Positive Rate')\n",
    "plt.ylabel('True Positive Rate')\n",
    "plt.title('Receiver operating characteristic')\n",
    "plt.show()"
   ]
  },
  {
   "cell_type": "code",
   "execution_count": null,
   "metadata": {
    "id": "9o8TmwzxhrCu"
   },
   "outputs": [],
   "source": [
    "X = parkinson_df.drop(['MDVP:Fhi(Hz)','NHR','status'],axis=1)\n",
    "Y = parkinson_df['status']"
   ]
  },
  {
   "cell_type": "code",
   "execution_count": null,
   "metadata": {
    "colab": {
     "base_uri": "https://localhost:8080/",
     "height": 717
    },
    "executionInfo": {
     "elapsed": 1127,
     "status": "ok",
     "timestamp": 1576597400857,
     "user": {
      "displayName": "manasa pawar",
      "photoUrl": "",
      "userId": "07850461268939422328"
     },
     "user_tz": -660
    },
    "id": "l4f8xjgehx0A",
    "outputId": "d7548b01-88c0-40cd-c54e-08175b2f9f72"
   },
   "outputs": [
    {
     "name": "stdout",
     "output_type": "stream",
     "text": [
      "[[ 7  8]\n",
      " [ 3 47]]\n",
      "              precision    recall  f1-score   support\n",
      "\n",
      "           0       0.70      0.47      0.56        15\n",
      "           1       0.85      0.94      0.90        50\n",
      "\n",
      "    accuracy                           0.83        65\n",
      "   macro avg       0.78      0.70      0.73        65\n",
      "weighted avg       0.82      0.83      0.82        65\n",
      "\n",
      "[[ 5  8]\n",
      " [ 0 52]]\n",
      "              precision    recall  f1-score   support\n",
      "\n",
      "           0       1.00      0.38      0.56        13\n",
      "           1       0.87      1.00      0.93        52\n",
      "\n",
      "    accuracy                           0.88        65\n",
      "   macro avg       0.93      0.69      0.74        65\n",
      "weighted avg       0.89      0.88      0.85        65\n",
      "\n",
      "[[15  5]\n",
      " [ 3 42]]\n",
      "              precision    recall  f1-score   support\n",
      "\n",
      "           0       0.83      0.75      0.79        20\n",
      "           1       0.89      0.93      0.91        45\n",
      "\n",
      "    accuracy                           0.88        65\n",
      "   macro avg       0.86      0.84      0.85        65\n",
      "weighted avg       0.88      0.88      0.88        65\n",
      "\n",
      "Cross-validated Score:0.861538 \n"
     ]
    },
    {
     "name": "stderr",
     "output_type": "stream",
     "text": [
      "/usr/local/lib/python3.6/dist-packages/sklearn/linear_model/logistic.py:432: FutureWarning: Default solver will be changed to 'lbfgs' in 0.22. Specify a solver to silence this warning.\n",
      "  FutureWarning)\n",
      "/usr/local/lib/python3.6/dist-packages/sklearn/linear_model/logistic.py:432: FutureWarning: Default solver will be changed to 'lbfgs' in 0.22. Specify a solver to silence this warning.\n",
      "  FutureWarning)\n",
      "/usr/local/lib/python3.6/dist-packages/sklearn/linear_model/logistic.py:432: FutureWarning: Default solver will be changed to 'lbfgs' in 0.22. Specify a solver to silence this warning.\n",
      "  FutureWarning)\n"
     ]
    }
   ],
   "source": [
    "# K-fold cross validation for the given model:\n",
    "#Since the dataset contains 197 rows, we are taking the number of splits as 3\n",
    "kf=KFold(n_splits=3,shuffle=True,random_state=2)\n",
    "acc=[]\n",
    "for train,test in kf.split(X,Y):\n",
    "    M=LogisticRegression()\n",
    "    Xtrain,Xtest=X.iloc[train,:],X.iloc[test,:]\n",
    "    Ytrain,Ytest=Y[train],Y[test]\n",
    "    M.fit(Xtrain,Ytrain)\n",
    "    Y_predict=M.predict(Xtest)\n",
    "    acc.append(metrics.accuracy_score(Ytest,Y_predict))\n",
    "    print(metrics.confusion_matrix(Ytest,Y_predict))\n",
    "    print(metrics.classification_report(Ytest,Y_predict))\n",
    "print(\"Cross-validated Score:{0:2f} \".format(np.mean(acc)))"
   ]
  },
  {
   "cell_type": "markdown",
   "metadata": {
    "id": "uGP8iMG5h5IB"
   },
   "source": [
    "Accuracy for each fold"
   ]
  },
  {
   "cell_type": "code",
   "execution_count": null,
   "metadata": {
    "colab": {
     "base_uri": "https://localhost:8080/",
     "height": 34
    },
    "executionInfo": {
     "elapsed": 1114,
     "status": "ok",
     "timestamp": 1576597453791,
     "user": {
      "displayName": "manasa pawar",
      "photoUrl": "",
      "userId": "07850461268939422328"
     },
     "user_tz": -660
    },
    "id": "nQjez9azh8In",
    "outputId": "8070f721-344f-40c7-805f-4f1f7cb38872"
   },
   "outputs": [
    {
     "data": {
      "text/plain": [
       "[0.8307692307692308, 0.8769230769230769, 0.8769230769230769]"
      ]
     },
     "execution_count": 27,
     "metadata": {
      "tags": []
     },
     "output_type": "execute_result"
    }
   ],
   "source": [
    "acc"
   ]
  },
  {
   "cell_type": "markdown",
   "metadata": {
    "id": "htHUF16JiFBV"
   },
   "source": []
  },
  {
   "cell_type": "markdown",
   "metadata": {
    "id": "aLaTAv0CcLsC"
   },
   "source": [
    "#Error"
   ]
  },
  {
   "cell_type": "code",
   "execution_count": null,
   "metadata": {
    "colab": {
     "base_uri": "https://localhost:8080/",
     "height": 34
    },
    "executionInfo": {
     "elapsed": 2453,
     "status": "ok",
     "timestamp": 1576597495827,
     "user": {
      "displayName": "manasa pawar",
      "photoUrl": "",
      "userId": "07850461268939422328"
     },
     "user_tz": -660
    },
    "id": "gXnyxYvyiGiO",
    "outputId": "978aef12-71dc-44ee-c44b-fd1f9913d3ec"
   },
   "outputs": [
    {
     "data": {
      "text/plain": [
       "array([0.16923077, 0.12307692, 0.12307692])"
      ]
     },
     "execution_count": 28,
     "metadata": {
      "tags": []
     },
     "output_type": "execute_result"
    }
   ],
   "source": [
    "error=1-np.array(acc)\n",
    "error"
   ]
  },
  {
   "cell_type": "markdown",
   "metadata": {
    "id": "x8ws5nUpiNDO"
   },
   "source": [
    "Variance Error of the model"
   ]
  },
  {
   "cell_type": "code",
   "execution_count": null,
   "metadata": {
    "colab": {
     "base_uri": "https://localhost:8080/",
     "height": 34
    },
    "executionInfo": {
     "elapsed": 1293,
     "status": "ok",
     "timestamp": 1576597531260,
     "user": {
      "displayName": "manasa pawar",
      "photoUrl": "",
      "userId": "07850461268939422328"
     },
     "user_tz": -660
    },
    "id": "IUd2PC3DiO4i",
    "outputId": "03e9e82c-195c-4fc3-9c57-ce34e31bec4c"
   },
   "outputs": [
    {
     "data": {
      "text/plain": [
       "0.0007100591715976316"
      ]
     },
     "execution_count": 29,
     "metadata": {
      "tags": []
     },
     "output_type": "execute_result"
    }
   ],
   "source": [
    "np.var(error,ddof=1)"
   ]
  }
 ],
 "metadata": {
  "colab": {
   "collapsed_sections": [],
   "name": "DPA FINAL.ipynb",
   "provenance": []
  },
  "kernelspec": {
   "display_name": "Python 3",
   "language": "python",
   "name": "python3"
  },
  "language_info": {
   "codemirror_mode": {
    "name": "ipython",
    "version": 3
   },
   "file_extension": ".py",
   "mimetype": "text/x-python",
   "name": "python",
   "nbconvert_exporter": "python",
   "pygments_lexer": "ipython3",
   "version": "3.9.5"
  }
 },
 "nbformat": 4,
 "nbformat_minor": 1
}
