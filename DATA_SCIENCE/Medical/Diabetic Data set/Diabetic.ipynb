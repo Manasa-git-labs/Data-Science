{
 "cells": [
  {
   "cell_type": "code",
   "execution_count": null,
   "metadata": {
    "colab": {
     "base_uri": "https://localhost:8080/"
    },
    "executionInfo": {
     "elapsed": 291,
     "status": "ok",
     "timestamp": 1624896098240,
     "user": {
      "displayName": "manasa pawar",
      "photoUrl": "",
      "userId": "07850461268939422328"
     },
     "user_tz": -120
    },
    "id": "jyLaI5n4VwkT",
    "outputId": "776cb365-556c-4c3b-d385-4ecb1522169d"
   },
   "outputs": [
    {
     "name": "stdout",
     "output_type": "stream",
     "text": [
      "     Pregnancies  Glucose  ...  Age  Outcome\n",
      "0              6      148  ...   50        1\n",
      "1              1       85  ...   31        0\n",
      "2              8      183  ...   32        1\n",
      "3              1       89  ...   21        0\n",
      "4              0      137  ...   33        1\n",
      "..           ...      ...  ...  ...      ...\n",
      "763           10      101  ...   63        0\n",
      "764            2      122  ...   27        0\n",
      "765            5      121  ...   30        0\n",
      "766            1      126  ...   47        1\n",
      "767            1       93  ...   23        0\n",
      "\n",
      "[768 rows x 9 columns]\n"
     ]
    }
   ],
   "source": [
    "import pandas as pd\n",
    "\n",
    "df = pd.read_csv('diabetes.csv')\n",
    "\n",
    "print(df)"
   ]
  },
  {
   "cell_type": "code",
   "execution_count": 21,
   "metadata": {
    "colab": {
     "base_uri": "https://localhost:8080/"
    },
    "executionInfo": {
     "elapsed": 259,
     "status": "ok",
     "timestamp": 1624898143790,
     "user": {
      "displayName": "manasa pawar",
      "photoUrl": "",
      "userId": "07850461268939422328"
     },
     "user_tz": -120
    },
    "id": "KtyIqdY1WBY1",
    "outputId": "b302235e-8465-41aa-b423-8338ca0087fb"
   },
   "outputs": [
    {
     "name": "stdout",
     "output_type": "stream",
     "text": [
      "(514, 8)\n",
      "(254, 8)\n"
     ]
    }
   ],
   "source": [
    "X = df.drop('Outcome', axis = 1)\n",
    "y = df['Outcome']\n",
    "from sklearn.model_selection import train_test_split\n",
    "X_train, X_test, y_train, y_test = train_test_split(X, y, test_size=0.33, random_state=42)\n",
    "print(X_train.shape)\n",
    "print(X_test.shape)"
   ]
  },
  {
   "cell_type": "code",
   "execution_count": 22,
   "metadata": {
    "colab": {
     "base_uri": "https://localhost:8080/",
     "height": 215
    },
    "executionInfo": {
     "elapsed": 256,
     "status": "error",
     "timestamp": 1624898160983,
     "user": {
      "displayName": "manasa pawar",
      "photoUrl": "",
      "userId": "07850461268939422328"
     },
     "user_tz": -120
    },
    "id": "5rGGTqDPWD-i",
    "outputId": "e36e399c-5227-41e0-88a6-60d775bcda5c"
   },
   "outputs": [
    {
     "ename": "AttributeError",
     "evalue": "ignored",
     "output_type": "error",
     "traceback": [
      "\u001b[0;31m---------------------------------------------------------------------------\u001b[0m",
      "\u001b[0;31mAttributeError\u001b[0m                            Traceback (most recent call last)",
      "\u001b[0;32m<ipython-input-22-2c72292be5cb>\u001b[0m in \u001b[0;36m<module>\u001b[0;34m()\u001b[0m\n\u001b[1;32m      1\u001b[0m \u001b[0;32mfrom\u001b[0m \u001b[0msklearn\u001b[0m\u001b[0;34m.\u001b[0m\u001b[0mlinear_model\u001b[0m \u001b[0;32mimport\u001b[0m \u001b[0mLogisticRegression\u001b[0m\u001b[0;34m\u001b[0m\u001b[0;34m\u001b[0m\u001b[0m\n\u001b[1;32m      2\u001b[0m \u001b[0mlr\u001b[0m \u001b[0;34m=\u001b[0m \u001b[0mLogisticRegression\u001b[0m\u001b[0;34m(\u001b[0m\u001b[0;34m)\u001b[0m\u001b[0;34m\u001b[0m\u001b[0;34m\u001b[0m\u001b[0m\n\u001b[0;32m----> 3\u001b[0;31m \u001b[0mmannequin\u001b[0m \u001b[0;34m=\u001b[0m \u001b[0mlr\u001b[0m\u001b[0;34m.\u001b[0m\u001b[0mmatch\u001b[0m\u001b[0;34m(\u001b[0m\u001b[0mX_train\u001b[0m\u001b[0;34m,\u001b[0m\u001b[0my_train\u001b[0m\u001b[0;34m)\u001b[0m\u001b[0;34m\u001b[0m\u001b[0;34m\u001b[0m\u001b[0m\n\u001b[0m\u001b[1;32m      4\u001b[0m \u001b[0my_pred\u001b[0m \u001b[0;34m=\u001b[0m \u001b[0mlr\u001b[0m\u001b[0;34m.\u001b[0m\u001b[0mpredict\u001b[0m\u001b[0;34m(\u001b[0m\u001b[0mX_test\u001b[0m\u001b[0;34m)\u001b[0m\u001b[0;34m\u001b[0m\u001b[0;34m\u001b[0m\u001b[0m\n",
      "\u001b[0;31mAttributeError\u001b[0m: 'LogisticRegression' object has no attribute 'match'"
     ]
    }
   ],
   "source": [
    "from sklearn.linear_model import LogisticRegression\n",
    "lr = LogisticRegression()\n",
    "mannequin = lr.match(X_train,y_train)\n",
    "y_pred = lr.predict(X_test)"
   ]
  },
  {
   "cell_type": "code",
   "execution_count": null,
   "metadata": {
    "id": "24nMdiLTWFpZ"
   },
   "outputs": [],
   "source": [
    "print(y_pred)"
   ]
  },
  {
   "cell_type": "code",
   "execution_count": null,
   "metadata": {
    "id": "Bkkgg-AIWHXm"
   },
   "outputs": [],
   "source": [
    "print(accuracy_score(y_pred,y_test))"
   ]
  },
  {
   "cell_type": "code",
   "execution_count": null,
   "metadata": {
    "id": "7GmXBVwvWI2v"
   },
   "outputs": [],
   "source": [
    "import pickle    \n",
    "\n",
    "Model = pickle.dumps(mannequin)  \n",
    "\n"
   ]
  },
  {
   "cell_type": "code",
   "execution_count": null,
   "metadata": {
    "id": "L2LaDGs8WKTJ"
   },
   "outputs": [],
   "source": [
    "import tkinter as tk\n",
    "\n",
    "from tkinter import ttk\n",
    "\n",
    "win = tk.Tk()\n",
    "\n",
    "win.title('Diabetes Predictions')"
   ]
  },
  {
   "cell_type": "code",
   "execution_count": null,
   "metadata": {
    "id": "podX6eXSWL5D"
   },
   "outputs": [],
   "source": [
    "#Column 1 \n",
    "Preg=ttk.Label(win,textual content=\"Preg\")\n",
    "Preg.grid(row=0,column=0,sticky=tk.W)\n",
    "Preg_var=tk.StringVar()\n",
    "Preg_entrybox=ttk.Entry(win,width=16,textvariable=Preg_var)\n",
    "Preg_entrybox.grid(row=0,column=1)\n",
    "#Column 2\n",
    "Plas=ttk.Label(win,textual content=\"Plas\")\n",
    "Plas.grid(row=1,column=0,sticky=tk.W)\n",
    "Plas_var=tk.StringVar()\n",
    "Plas_entrybox=ttk.Entry(win,width=16,textvariable=Plas_var)\n",
    "Plas_entrybox.grid(row=1,column=1)\n",
    "#Column 3\n",
    "Pres=ttk.Label(win,textual content=\"Pres\")\n",
    "Pres.grid(row=2,column=0,sticky=tk.W)\n",
    "Pres_var=tk.StringVar()\n",
    "Pres_entrybox=ttk.Entry(win,width=16,textvariable=Pres_var)\n",
    "Pres_entrybox.grid(row=2,column=1)\n",
    "#Column 4\n",
    "pores and skin=ttk.Label(win,textual content=\"skin\")\n",
    "pores and skin.grid(row=3,column=0,sticky=tk.W)\n",
    "skin_var=tk.StringVar()\n",
    "skin_entrybox=ttk.Entry(win,width=16,textvariable=skin_var)\n",
    "skin_entrybox.grid(row=3,column=1)\n",
    "#Column 5\n",
    "take a look at=ttk.Label(win,textual content=\"test\")\n",
    "take a look at.grid(row=4,column=0,sticky=tk.W)\n",
    "test_var=tk.StringVar()\n",
    "test_entrybox=ttk.Entry(win,width=16,textvariable=test_var)\n",
    "test_entrybox.grid(row=4,column=1)\n",
    "#Column 6\n",
    "mass=ttk.Label(win,textual content=\"mass\")\n",
    "mass.grid(row=5,column=0,sticky=tk.W)\n",
    "mass_var=tk.StringVar()\n",
    "mass_entrybox=ttk.Entry(win,width=16,textvariable=mass_var)\n",
    "mass_entrybox.grid(row=5,column=1)\n",
    "#Column 7\n",
    "pedi=ttk.Label(win,textual content=\"pedi\")\n",
    "pedi.grid(row=6,column=0,sticky=tk.W)\n",
    "pedi_var=tk.StringVar()\n",
    "pedi_entrybox=ttk.Entry(win,width=16,textvariable=pedi_var)\n",
    "pedi_entrybox.grid(row=6,column=1)\n",
    "#Column 8\n",
    "age=ttk.Label(win,textual content=\"age\")\n",
    "age.grid(row=7,column=0,sticky=tk.W)\n",
    "age_var=tk.StringVar()\n",
    "age_entrybox=ttk.Entry(win,width=16,textvariable=age_var)\n",
    "age_entrybox.grid(row=7,column=1)"
   ]
  },
  {
   "cell_type": "code",
   "execution_count": null,
   "metadata": {
    "id": "bdaCe8L7WaF_"
   },
   "outputs": [],
   "source": [
    "import pandas as pd\n",
    "DF = pd.DataBody()\n",
    "def motion():\n",
    "    international DB\n",
    "    import pandas as pd\n",
    "    DF = pd.DataBody(columns=['Preg','Plas','Pres','skin','test','mass','pedi','age'])\n",
    "    PREG=Preg_var.get()\n",
    "    DF.loc[0,'Preg']=PREG\n",
    "    PLAS=Plas_var.get()\n",
    "    DF.loc[0,'Plas']=PLAS\n",
    "    PRES=Pres_var.get()\n",
    "    DF.loc[0,'Pres']=PRES\n",
    "    SKIN=skin_var.get()\n",
    "    DF.loc[0,'skin']=SKIN\n",
    "    TEST=test_var.get()\n",
    "    DF.loc[0,'test']=TEST\n",
    "    MASS=mass_var.get()\n",
    "    DF.loc[0,'mass']=MASS\n",
    "    PEDI=pedi_var.get()\n",
    "    DF.loc[0,'pedi']=PEDI\n",
    "    AGE=age_var.get()\n",
    "    DF.loc[0,'age']=AGE\n",
    "print(DF.form)\n",
    "DB=DF"
   ]
  },
  {
   "cell_type": "code",
   "execution_count": null,
   "metadata": {
    "id": "sWJBN1IiWcru"
   },
   "outputs": [],
   "source": [
    "def Output():\n",
    "    DB[\"Preg\"] = pd.to_numeric(DB[\"Preg\"])\n",
    "    DB[\"Plas\"] = pd.to_numeric(DB[\"Plas\"])\n",
    "    DB[\"Pres\"] = pd.to_numeric(DB[\"Pres\"])\n",
    "    DB[\"skin\"] = pd.to_numeric(DB[\"skin\"])\n",
    "    DB[\"test\"] = pd.to_numeric(DB[\"test\"])\n",
    "    DB[\"mass\"] = pd.to_numeric(DB[\"mass\"])\n",
    "    DB[\"pedi\"] = pd.to_numeric(DB[\"pedi\"])\n",
    "    DB[\"age\"] = pd.to_numeric(DB[\"age\"])"
   ]
  },
  {
   "cell_type": "code",
   "execution_count": null,
   "metadata": {
    "id": "7WLZ4rEsWedU"
   },
   "outputs": [],
   "source": [
    "output=mannequin.predict(DB)\n",
    "    if output==1:\n",
    "        consequence=\"Diabetic\"\n",
    "    elif output==0:\n",
    "        consequence=\"Non-Diabetic\""
   ]
  },
  {
   "cell_type": "code",
   "execution_count": null,
   "metadata": {
    "id": "HRWMCrXxWgMx"
   },
   "outputs": [],
   "source": [
    "Predict_entrybox=ttk.Entry(win,width=16)\n",
    "    Predict_entrybox.grid(row=20,column=1)\n",
    "    Predict_entrybox.insert(1,str(consequence))\n",
    "Predict_button=ttk.Button(win,textual content=\"Predict\",command=Output)\n",
    "Predict_button.grid(row=20,column=0)\n",
    "win.mainloop()"
   ]
  }
 ],
 "metadata": {
  "colab": {
   "authorship_tag": "ABX9TyOp0gkF34HzWPVy0relg8pz",
   "collapsed_sections": [],
   "name": "Untitled27.ipynb",
   "provenance": []
  },
  "kernelspec": {
   "display_name": "Python 3",
   "language": "python",
   "name": "python3"
  },
  "language_info": {
   "codemirror_mode": {
    "name": "ipython",
    "version": 3
   },
   "file_extension": ".py",
   "mimetype": "text/x-python",
   "name": "python",
   "nbconvert_exporter": "python",
   "pygments_lexer": "ipython3",
   "version": "3.9.5"
  }
 },
 "nbformat": 4,
 "nbformat_minor": 1
}
