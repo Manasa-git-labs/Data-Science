{
 "cells": [
  {
   "cell_type": "code",
   "execution_count": null,
   "metadata": {
    "id": "-H1b7SmAvCnB"
   },
   "outputs": [],
   "source": [
    "\n",
    "0"
   ]
  },
  {
   "cell_type": "markdown",
   "metadata": {
    "id": "DhM_gUrlvI1z"
   },
   "source": [
    "**MLP IMPLIMENTATION**"
   ]
  },
  {
   "cell_type": "code",
   "execution_count": null,
   "metadata": {
    "colab": {
     "base_uri": "https://localhost:8080/",
     "height": 170
    },
    "executionInfo": {
     "elapsed": 602,
     "status": "error",
     "timestamp": 1621502338858,
     "user": {
      "displayName": "manasa pawar",
      "photoUrl": "",
      "userId": "07850461268939422328"
     },
     "user_tz": -120
    },
    "id": "Ysrjw1lcLDN0",
    "outputId": "407f9f56-8bd5-412e-a3ca-64db4ea23095"
   },
   "outputs": [
    {
     "ename": "NameError",
     "evalue": "ignored",
     "output_type": "error",
     "traceback": [
      "\u001b[0;31m---------------------------------------------------------------------------\u001b[0m",
      "\u001b[0;31mNameError\u001b[0m                                 Traceback (most recent call last)",
      "\u001b[0;32m<ipython-input-1-3075b36c09c8>\u001b[0m in \u001b[0;36m<module>\u001b[0;34m()\u001b[0m\n\u001b[0;32m----> 1\u001b[0;31m \u001b[0mdataset\u001b[0m\u001b[0;34m\u001b[0m\u001b[0;34m\u001b[0m\u001b[0m\n\u001b[0m",
      "\u001b[0;31mNameError\u001b[0m: name 'dataset' is not defined"
     ]
    }
   ],
   "source": [
    "dataset"
   ]
  },
  {
   "cell_type": "code",
   "execution_count": null,
   "metadata": {
    "colab": {
     "base_uri": "https://localhost:8080/",
     "height": 1000
    },
    "executionInfo": {
     "elapsed": 105812,
     "status": "ok",
     "timestamp": 1592949365619,
     "user": {
      "displayName": "manasa pawar",
      "photoUrl": "",
      "userId": "07850461268939422328"
     },
     "user_tz": -330
    },
    "id": "9GkJALjKtFAJ",
    "outputId": "0866806f-d34a-45eb-a521-16e62ec58b95"
   },
   "outputs": [
    {
     "name": "stdout",
     "output_type": "stream",
     "text": [
      "(7997, 23) (7997,)\n",
      "(2000, 23) (2000,)\n"
     ]
    },
    {
     "name": "stderr",
     "output_type": "stream",
     "text": [
      "/usr/local/lib/python3.6/dist-packages/ipykernel_launcher.py:18: UserWarning: Update your `Dense` call to the Keras 2 API: `Dense(18, input_dim=23, activation=\"relu\", kernel_initializer=\"uniform\")`\n",
      "/usr/local/lib/python3.6/dist-packages/ipykernel_launcher.py:19: UserWarning: Update your `Dense` call to the Keras 2 API: `Dense(8, activation=\"relu\", kernel_initializer=\"uniform\")`\n",
      "/usr/local/lib/python3.6/dist-packages/ipykernel_launcher.py:20: UserWarning: Update your `Dense` call to the Keras 2 API: `Dense(1, activation=\"sigmoid\", kernel_initializer=\"uniform\")`\n",
      "/usr/local/lib/python3.6/dist-packages/ipykernel_launcher.py:24: UserWarning: The `nb_epoch` argument in `fit` has been renamed `epochs`.\n"
     ]
    },
    {
     "name": "stdout",
     "output_type": "stream",
     "text": [
      "Train on 7997 samples, validate on 2000 samples\n",
      "Epoch 1/100\n",
      "7997/7997 [==============================] - 1s 141us/step - loss: 0.8054 - accuracy: 0.7303 - val_loss: 0.5557 - val_accuracy: 0.7730\n",
      "Epoch 2/100\n",
      "7997/7997 [==============================] - 1s 127us/step - loss: 0.5413 - accuracy: 0.7709 - val_loss: 0.5353 - val_accuracy: 0.7735\n",
      "Epoch 3/100\n",
      "7997/7997 [==============================] - 1s 127us/step - loss: 0.5258 - accuracy: 0.7747 - val_loss: 0.5353 - val_accuracy: 0.7735\n",
      "Epoch 4/100\n",
      "7997/7997 [==============================] - 1s 129us/step - loss: 0.5236 - accuracy: 0.7743 - val_loss: 0.5607 - val_accuracy: 0.7525\n",
      "Epoch 5/100\n",
      "7997/7997 [==============================] - 1s 128us/step - loss: 0.5233 - accuracy: 0.7744 - val_loss: 0.5347 - val_accuracy: 0.7735\n",
      "Epoch 6/100\n",
      "7997/7997 [==============================] - 1s 127us/step - loss: 0.5151 - accuracy: 0.7747 - val_loss: 0.5362 - val_accuracy: 0.7735\n",
      "Epoch 7/100\n",
      "7997/7997 [==============================] - 1s 129us/step - loss: 0.5186 - accuracy: 0.7744 - val_loss: 0.5274 - val_accuracy: 0.7735\n",
      "Epoch 8/100\n",
      "7997/7997 [==============================] - 1s 131us/step - loss: 0.5303 - accuracy: 0.7745 - val_loss: 0.5301 - val_accuracy: 0.7735\n",
      "Epoch 9/100\n",
      "7997/7997 [==============================] - 1s 129us/step - loss: 0.5191 - accuracy: 0.7748 - val_loss: 0.5268 - val_accuracy: 0.7735\n",
      "Epoch 10/100\n",
      "7997/7997 [==============================] - 1s 129us/step - loss: 0.5222 - accuracy: 0.7743 - val_loss: 0.5394 - val_accuracy: 0.7735\n",
      "Epoch 11/100\n",
      "7997/7997 [==============================] - 1s 128us/step - loss: 0.5227 - accuracy: 0.7744 - val_loss: 0.5306 - val_accuracy: 0.7735\n",
      "Epoch 12/100\n",
      "7997/7997 [==============================] - 1s 127us/step - loss: 0.5178 - accuracy: 0.7745 - val_loss: 0.5309 - val_accuracy: 0.7735\n",
      "Epoch 13/100\n",
      "7997/7997 [==============================] - 1s 128us/step - loss: 0.5202 - accuracy: 0.7745 - val_loss: 0.5249 - val_accuracy: 0.7735\n",
      "Epoch 14/100\n",
      "7997/7997 [==============================] - 1s 130us/step - loss: 0.5160 - accuracy: 0.7745 - val_loss: 0.5377 - val_accuracy: 0.7735\n",
      "Epoch 15/100\n",
      "7997/7997 [==============================] - 1s 129us/step - loss: 0.5209 - accuracy: 0.7745 - val_loss: 0.5302 - val_accuracy: 0.7735\n",
      "Epoch 16/100\n",
      "7997/7997 [==============================] - 1s 129us/step - loss: 0.5229 - accuracy: 0.7745 - val_loss: 0.5409 - val_accuracy: 0.7735\n",
      "Epoch 17/100\n",
      "7997/7997 [==============================] - 1s 128us/step - loss: 0.5363 - accuracy: 0.7745 - val_loss: 0.5358 - val_accuracy: 0.7735\n",
      "Epoch 18/100\n",
      "7997/7997 [==============================] - 1s 129us/step - loss: 0.5341 - accuracy: 0.7745 - val_loss: 0.5351 - val_accuracy: 0.7735\n",
      "Epoch 19/100\n",
      "7997/7997 [==============================] - 1s 131us/step - loss: 0.5338 - accuracy: 0.7745 - val_loss: 0.5350 - val_accuracy: 0.7735\n",
      "Epoch 20/100\n",
      "7997/7997 [==============================] - 1s 127us/step - loss: 0.5337 - accuracy: 0.7745 - val_loss: 0.5350 - val_accuracy: 0.7735\n",
      "Epoch 21/100\n",
      "7997/7997 [==============================] - 1s 129us/step - loss: 0.5337 - accuracy: 0.7745 - val_loss: 0.5350 - val_accuracy: 0.7735\n",
      "Epoch 22/100\n",
      "7997/7997 [==============================] - 1s 128us/step - loss: 0.5335 - accuracy: 0.7745 - val_loss: 0.5348 - val_accuracy: 0.7735\n",
      "Epoch 23/100\n",
      "7997/7997 [==============================] - 1s 128us/step - loss: 0.5335 - accuracy: 0.7745 - val_loss: 0.5350 - val_accuracy: 0.7735\n",
      "Epoch 24/100\n",
      "7997/7997 [==============================] - 1s 128us/step - loss: 0.5338 - accuracy: 0.7745 - val_loss: 0.5350 - val_accuracy: 0.7735\n",
      "Epoch 25/100\n",
      "7997/7997 [==============================] - 1s 129us/step - loss: 0.5338 - accuracy: 0.7745 - val_loss: 0.5350 - val_accuracy: 0.7735\n",
      "Epoch 26/100\n",
      "7997/7997 [==============================] - 1s 135us/step - loss: 0.5337 - accuracy: 0.7745 - val_loss: 0.5350 - val_accuracy: 0.7735\n",
      "Epoch 27/100\n",
      "7997/7997 [==============================] - 1s 137us/step - loss: 0.5338 - accuracy: 0.7745 - val_loss: 0.5350 - val_accuracy: 0.7735\n",
      "Epoch 28/100\n",
      "7997/7997 [==============================] - 1s 137us/step - loss: 0.5338 - accuracy: 0.7745 - val_loss: 0.5350 - val_accuracy: 0.7735\n",
      "Epoch 29/100\n",
      "7997/7997 [==============================] - 1s 138us/step - loss: 0.5338 - accuracy: 0.7745 - val_loss: 0.5350 - val_accuracy: 0.7735\n",
      "Epoch 30/100\n",
      "7997/7997 [==============================] - 1s 139us/step - loss: 0.5337 - accuracy: 0.7745 - val_loss: 0.5350 - val_accuracy: 0.7735\n",
      "Epoch 31/100\n",
      "7997/7997 [==============================] - 1s 138us/step - loss: 0.5338 - accuracy: 0.7745 - val_loss: 0.5350 - val_accuracy: 0.7735\n",
      "Epoch 32/100\n",
      "7997/7997 [==============================] - 1s 139us/step - loss: 0.5338 - accuracy: 0.7745 - val_loss: 0.5350 - val_accuracy: 0.7735\n",
      "Epoch 33/100\n",
      "7997/7997 [==============================] - 1s 138us/step - loss: 0.5337 - accuracy: 0.7745 - val_loss: 0.5350 - val_accuracy: 0.7735\n",
      "Epoch 34/100\n",
      "7997/7997 [==============================] - 1s 137us/step - loss: 0.5338 - accuracy: 0.7745 - val_loss: 0.5350 - val_accuracy: 0.7735\n",
      "Epoch 35/100\n",
      "7997/7997 [==============================] - 1s 134us/step - loss: 0.5338 - accuracy: 0.7745 - val_loss: 0.5350 - val_accuracy: 0.7735\n",
      "Epoch 36/100\n",
      "7997/7997 [==============================] - 1s 129us/step - loss: 0.5337 - accuracy: 0.7745 - val_loss: 0.5350 - val_accuracy: 0.7735\n",
      "Epoch 37/100\n",
      "7997/7997 [==============================] - 1s 128us/step - loss: 0.5338 - accuracy: 0.7745 - val_loss: 0.5350 - val_accuracy: 0.7735\n",
      "Epoch 38/100\n",
      "7997/7997 [==============================] - 1s 127us/step - loss: 0.5338 - accuracy: 0.7745 - val_loss: 0.5350 - val_accuracy: 0.7735\n",
      "Epoch 39/100\n",
      "7997/7997 [==============================] - 1s 134us/step - loss: 0.5338 - accuracy: 0.7745 - val_loss: 0.5350 - val_accuracy: 0.7735\n",
      "Epoch 40/100\n",
      "7997/7997 [==============================] - 1s 130us/step - loss: 0.5337 - accuracy: 0.7745 - val_loss: 0.5350 - val_accuracy: 0.7735\n",
      "Epoch 41/100\n",
      "7997/7997 [==============================] - 1s 130us/step - loss: 0.5337 - accuracy: 0.7745 - val_loss: 0.5350 - val_accuracy: 0.7735\n",
      "Epoch 42/100\n",
      "7997/7997 [==============================] - 1s 141us/step - loss: 0.5337 - accuracy: 0.7745 - val_loss: 0.5350 - val_accuracy: 0.7735\n",
      "Epoch 43/100\n",
      "7997/7997 [==============================] - 1s 128us/step - loss: 0.5338 - accuracy: 0.7745 - val_loss: 0.5350 - val_accuracy: 0.7735\n",
      "Epoch 44/100\n",
      "7997/7997 [==============================] - 1s 129us/step - loss: 0.5338 - accuracy: 0.7745 - val_loss: 0.5350 - val_accuracy: 0.7735\n",
      "Epoch 45/100\n",
      "7997/7997 [==============================] - 1s 131us/step - loss: 0.5338 - accuracy: 0.7745 - val_loss: 0.5350 - val_accuracy: 0.7735\n",
      "Epoch 46/100\n",
      "7997/7997 [==============================] - 1s 129us/step - loss: 0.5337 - accuracy: 0.7745 - val_loss: 0.5350 - val_accuracy: 0.7735\n",
      "Epoch 47/100\n",
      "7997/7997 [==============================] - 1s 130us/step - loss: 0.5338 - accuracy: 0.7745 - val_loss: 0.5350 - val_accuracy: 0.7735\n",
      "Epoch 48/100\n",
      "7997/7997 [==============================] - 1s 129us/step - loss: 0.5338 - accuracy: 0.7745 - val_loss: 0.5350 - val_accuracy: 0.7735\n",
      "Epoch 49/100\n",
      "7997/7997 [==============================] - 1s 133us/step - loss: 0.5338 - accuracy: 0.7745 - val_loss: 0.5350 - val_accuracy: 0.7735\n",
      "Epoch 50/100\n",
      "7997/7997 [==============================] - 1s 130us/step - loss: 0.5338 - accuracy: 0.7745 - val_loss: 0.5350 - val_accuracy: 0.7735\n",
      "Epoch 51/100\n",
      "7997/7997 [==============================] - 1s 130us/step - loss: 0.5338 - accuracy: 0.7745 - val_loss: 0.5350 - val_accuracy: 0.7735\n",
      "Epoch 52/100\n",
      "7997/7997 [==============================] - 1s 131us/step - loss: 0.5337 - accuracy: 0.7745 - val_loss: 0.5350 - val_accuracy: 0.7735\n",
      "Epoch 53/100\n",
      "7997/7997 [==============================] - 1s 129us/step - loss: 0.5337 - accuracy: 0.7745 - val_loss: 0.5350 - val_accuracy: 0.7735\n",
      "Epoch 54/100\n",
      "7997/7997 [==============================] - 1s 130us/step - loss: 0.5337 - accuracy: 0.7745 - val_loss: 0.5350 - val_accuracy: 0.7735\n",
      "Epoch 55/100\n",
      "7997/7997 [==============================] - 1s 129us/step - loss: 0.5338 - accuracy: 0.7745 - val_loss: 0.5350 - val_accuracy: 0.7735\n",
      "Epoch 56/100\n",
      "7997/7997 [==============================] - 1s 130us/step - loss: 0.5337 - accuracy: 0.7745 - val_loss: 0.5351 - val_accuracy: 0.7735\n",
      "Epoch 57/100\n",
      "7997/7997 [==============================] - 1s 130us/step - loss: 0.5338 - accuracy: 0.7745 - val_loss: 0.5350 - val_accuracy: 0.7735\n",
      "Epoch 58/100\n",
      "7997/7997 [==============================] - 1s 127us/step - loss: 0.5338 - accuracy: 0.7745 - val_loss: 0.5350 - val_accuracy: 0.7735\n",
      "Epoch 59/100\n",
      "7997/7997 [==============================] - 1s 133us/step - loss: 0.5338 - accuracy: 0.7745 - val_loss: 0.5350 - val_accuracy: 0.7735\n",
      "Epoch 60/100\n",
      "7997/7997 [==============================] - 1s 129us/step - loss: 0.5338 - accuracy: 0.7745 - val_loss: 0.5350 - val_accuracy: 0.7735\n",
      "Epoch 61/100\n",
      "7997/7997 [==============================] - 1s 129us/step - loss: 0.5337 - accuracy: 0.7745 - val_loss: 0.5350 - val_accuracy: 0.7735\n",
      "Epoch 62/100\n",
      "7997/7997 [==============================] - 1s 129us/step - loss: 0.5338 - accuracy: 0.7745 - val_loss: 0.5350 - val_accuracy: 0.7735\n",
      "Epoch 63/100\n",
      "7997/7997 [==============================] - 1s 130us/step - loss: 0.5337 - accuracy: 0.7745 - val_loss: 0.5350 - val_accuracy: 0.7735\n",
      "Epoch 64/100\n",
      "7997/7997 [==============================] - 1s 129us/step - loss: 0.5338 - accuracy: 0.7745 - val_loss: 0.5350 - val_accuracy: 0.7735\n",
      "Epoch 65/100\n",
      "7997/7997 [==============================] - 1s 131us/step - loss: 0.5338 - accuracy: 0.7745 - val_loss: 0.5350 - val_accuracy: 0.7735\n",
      "Epoch 66/100\n",
      "7997/7997 [==============================] - 1s 130us/step - loss: 0.5337 - accuracy: 0.7745 - val_loss: 0.5350 - val_accuracy: 0.7735\n",
      "Epoch 67/100\n",
      "7997/7997 [==============================] - 1s 130us/step - loss: 0.5337 - accuracy: 0.7745 - val_loss: 0.5350 - val_accuracy: 0.7735\n",
      "Epoch 68/100\n",
      "7997/7997 [==============================] - 1s 131us/step - loss: 0.5337 - accuracy: 0.7745 - val_loss: 0.5350 - val_accuracy: 0.7735\n",
      "Epoch 69/100\n",
      "7997/7997 [==============================] - 1s 129us/step - loss: 0.5338 - accuracy: 0.7745 - val_loss: 0.5350 - val_accuracy: 0.7735\n",
      "Epoch 70/100\n",
      "7997/7997 [==============================] - 1s 131us/step - loss: 0.5337 - accuracy: 0.7745 - val_loss: 0.5350 - val_accuracy: 0.7735\n",
      "Epoch 71/100\n",
      "7997/7997 [==============================] - 1s 131us/step - loss: 0.5338 - accuracy: 0.7745 - val_loss: 0.5350 - val_accuracy: 0.7735\n",
      "Epoch 72/100\n",
      "7997/7997 [==============================] - 1s 128us/step - loss: 0.5338 - accuracy: 0.7745 - val_loss: 0.5350 - val_accuracy: 0.7735\n",
      "Epoch 73/100\n",
      "7997/7997 [==============================] - 1s 129us/step - loss: 0.5337 - accuracy: 0.7745 - val_loss: 0.5350 - val_accuracy: 0.7735\n",
      "Epoch 74/100\n",
      "7997/7997 [==============================] - 1s 129us/step - loss: 0.5338 - accuracy: 0.7745 - val_loss: 0.5350 - val_accuracy: 0.7735\n",
      "Epoch 75/100\n",
      "7997/7997 [==============================] - 1s 130us/step - loss: 0.5338 - accuracy: 0.7745 - val_loss: 0.5350 - val_accuracy: 0.7735\n",
      "Epoch 76/100\n",
      "7997/7997 [==============================] - 1s 129us/step - loss: 0.5338 - accuracy: 0.7745 - val_loss: 0.5350 - val_accuracy: 0.7735\n",
      "Epoch 77/100\n",
      "7997/7997 [==============================] - 1s 128us/step - loss: 0.5337 - accuracy: 0.7745 - val_loss: 0.5350 - val_accuracy: 0.7735\n",
      "Epoch 78/100\n",
      "7997/7997 [==============================] - 1s 129us/step - loss: 0.5338 - accuracy: 0.7745 - val_loss: 0.5350 - val_accuracy: 0.7735\n",
      "Epoch 79/100\n",
      "7997/7997 [==============================] - 1s 129us/step - loss: 0.5338 - accuracy: 0.7745 - val_loss: 0.5350 - val_accuracy: 0.7735\n",
      "Epoch 80/100\n",
      "7997/7997 [==============================] - 1s 131us/step - loss: 0.5338 - accuracy: 0.7745 - val_loss: 0.5350 - val_accuracy: 0.7735\n",
      "Epoch 81/100\n",
      "7997/7997 [==============================] - 1s 128us/step - loss: 0.5338 - accuracy: 0.7745 - val_loss: 0.5350 - val_accuracy: 0.7735\n",
      "Epoch 82/100\n",
      "7997/7997 [==============================] - 1s 130us/step - loss: 0.5337 - accuracy: 0.7745 - val_loss: 0.5350 - val_accuracy: 0.7735\n",
      "Epoch 83/100\n",
      "7997/7997 [==============================] - 1s 128us/step - loss: 0.5338 - accuracy: 0.7745 - val_loss: 0.5350 - val_accuracy: 0.7735\n",
      "Epoch 84/100\n",
      "7997/7997 [==============================] - 1s 132us/step - loss: 0.5338 - accuracy: 0.7745 - val_loss: 0.5350 - val_accuracy: 0.7735\n",
      "Epoch 85/100\n",
      "7997/7997 [==============================] - 1s 129us/step - loss: 0.5338 - accuracy: 0.7745 - val_loss: 0.5350 - val_accuracy: 0.7735\n",
      "Epoch 86/100\n",
      "7997/7997 [==============================] - 1s 131us/step - loss: 0.5338 - accuracy: 0.7745 - val_loss: 0.5350 - val_accuracy: 0.7735\n",
      "Epoch 87/100\n",
      "7997/7997 [==============================] - 1s 130us/step - loss: 0.5338 - accuracy: 0.7745 - val_loss: 0.5350 - val_accuracy: 0.7735\n",
      "Epoch 88/100\n",
      "7997/7997 [==============================] - 1s 130us/step - loss: 0.5337 - accuracy: 0.7745 - val_loss: 0.5350 - val_accuracy: 0.7735\n",
      "Epoch 89/100\n",
      "7997/7997 [==============================] - 1s 130us/step - loss: 0.5338 - accuracy: 0.7745 - val_loss: 0.5350 - val_accuracy: 0.7735\n",
      "Epoch 90/100\n",
      "7997/7997 [==============================] - 1s 130us/step - loss: 0.5337 - accuracy: 0.7745 - val_loss: 0.5350 - val_accuracy: 0.7735\n",
      "Epoch 91/100\n",
      "7997/7997 [==============================] - 1s 129us/step - loss: 0.5337 - accuracy: 0.7745 - val_loss: 0.5350 - val_accuracy: 0.7735\n",
      "Epoch 92/100\n",
      "7997/7997 [==============================] - 1s 130us/step - loss: 0.5337 - accuracy: 0.7745 - val_loss: 0.5350 - val_accuracy: 0.7735\n",
      "Epoch 93/100\n",
      "7997/7997 [==============================] - 1s 127us/step - loss: 0.5338 - accuracy: 0.7745 - val_loss: 0.5350 - val_accuracy: 0.7735\n",
      "Epoch 94/100\n",
      "7997/7997 [==============================] - 1s 128us/step - loss: 0.5338 - accuracy: 0.7745 - val_loss: 0.5350 - val_accuracy: 0.7735\n",
      "Epoch 95/100\n",
      "7997/7997 [==============================] - 1s 128us/step - loss: 0.5338 - accuracy: 0.7745 - val_loss: 0.5350 - val_accuracy: 0.7735\n",
      "Epoch 96/100\n",
      "7997/7997 [==============================] - 1s 130us/step - loss: 0.5337 - accuracy: 0.7745 - val_loss: 0.5350 - val_accuracy: 0.7735\n",
      "Epoch 97/100\n",
      "7997/7997 [==============================] - 1s 128us/step - loss: 0.5338 - accuracy: 0.7745 - val_loss: 0.5350 - val_accuracy: 0.7735\n",
      "Epoch 98/100\n",
      "7997/7997 [==============================] - 1s 129us/step - loss: 0.5337 - accuracy: 0.7745 - val_loss: 0.5350 - val_accuracy: 0.7735\n",
      "Epoch 99/100\n",
      "7997/7997 [==============================] - 1s 130us/step - loss: 0.5337 - accuracy: 0.7745 - val_loss: 0.5350 - val_accuracy: 0.7735\n",
      "Epoch 100/100\n",
      "7997/7997 [==============================] - 1s 131us/step - loss: 0.5338 - accuracy: 0.7745 - val_loss: 0.5350 - val_accuracy: 0.7735\n"
     ]
    }
   ],
   "source": [
    "from keras.models import Sequential\n",
    "from keras.layers import Dense\n",
    "import numpy as np\n",
    "import pandas as pd\n",
    "from sklearn.preprocessing import StandardScaler\n",
    "from sklearn import preprocessing\n",
    "from sklearn.model_selection import train_test_split\n",
    "from keras.optimizers import SGD\n",
    "seednum=7\n",
    "np.random.seed(seednum)\n",
    "dataset = pd.read_csv(\"CreditCardDefaults10k.csv\", delimiter = \",\" , skiprows=2)\n",
    "X=dataset.iloc[:,0:23]\n",
    "Y=dataset.iloc[:,23]\n",
    "X_train,X_test,Y_train,Y_test=train_test_split(X,Y,test_size=0.2)\n",
    "print(X_train.shape,Y_train.shape)\n",
    "print(X_test.shape,Y_test.shape)\n",
    "model=Sequential()\n",
    "model.add(Dense(18,input_dim=23,init='uniform',activation='relu'))\n",
    "model.add(Dense(8,init='uniform',activation='relu'))\n",
    "model.add(Dense(1,init='uniform',activation='sigmoid'))\n",
    "opt = SGD(lr=1, momentum=0.9, decay=0.01)\n",
    "model.compile(loss='binary_crossentropy',optimizer='adam',metrics=['accuracy'])\n",
    "\n",
    "history=model.fit(X_train,Y_train,nb_epoch=100,batch_size=10,verbose=1,validation_data=(X_test, Y_test))\n",
    "#score = model.evaluate(X_test, Y_test, accuracy=True, verbose=0)\n",
    "\n"
   ]
  },
  {
   "cell_type": "code",
   "execution_count": null,
   "metadata": {
    "colab": {
     "base_uri": "https://localhost:8080/",
     "height": 573
    },
    "executionInfo": {
     "elapsed": 2047,
     "status": "ok",
     "timestamp": 1592944329603,
     "user": {
      "displayName": "manasa pawar",
      "photoUrl": "",
      "userId": "07850461268939422328"
     },
     "user_tz": -330
    },
    "id": "7FqditSu4JBO",
    "outputId": "c2cabaaa-00b5-4835-a77c-4ca868adfa7c"
   },
   "outputs": [
    {
     "data": {
      "image/png": "[encoded data removed]",
      "text/plain": [
       "<Figure size 432x288 with 1 Axes>"
      ]
     },
     "metadata": {
      "needs_background": "light",
      "tags": []
     },
     "output_type": "display_data"
    },
    {
     "data": {
      "image/png": "[encoded data removed]",
      "text/plain": [
       "<Figure size 432x288 with 1 Axes>"
      ]
     },
     "metadata": {
      "needs_background": "light",
      "tags": []
     },
     "output_type": "display_data"
    }
   ],
   "source": [
    "import matplotlib.pyplot as plt\n",
    "plt.plot(history.history['accuracy'])\n",
    "plt.plot(history.history['val_accuracy'])\n",
    "plt.xlabel(\"accuracy\")\n",
    "plt.ylabel(\"epoch\")\n",
    "plt.title(\"Credit_card dataset\")\n",
    "plt.legend(['train','test'],loc='upper right')\n",
    "plt.show()\n",
    "import matplotlib.pyplot as plt\n",
    "plt.plot(history.history['loss'])\n",
    "plt.plot(history.history['val_loss'])\n",
    "plt.xlabel(\"loss\")\n",
    "plt.ylabel(\"epoch\")\n",
    "plt.title(\"Credit_card dataset\")\n",
    "plt.legend(['train','test'],loc='upper right')\n",
    "plt.show()"
   ]
  },
  {
   "cell_type": "code",
   "execution_count": null,
   "metadata": {
    "id": "mPTmUJ-QvNXf"
   },
   "outputs": [],
   "source": []
  },
  {
   "cell_type": "markdown",
   "metadata": {
    "id": "s4OGKN-mugoP"
   },
   "source": [
    "**MLP & Regularisation**"
   ]
  },
  {
   "cell_type": "code",
   "execution_count": null,
   "metadata": {
    "colab": {
     "base_uri": "https://localhost:8080/",
     "height": 1000
    },
    "executionInfo": {
     "elapsed": 14432,
     "status": "ok",
     "timestamp": 1592945288047,
     "user": {
      "displayName": "manasa pawar",
      "photoUrl": "",
      "userId": "07850461268939422328"
     },
     "user_tz": -330
    },
    "id": "T_zm59y6C1hs",
    "outputId": "dc8bbd8e-094d-44fd-e81a-5db71092edb9"
   },
   "outputs": [
    {
     "name": "stdout",
     "output_type": "stream",
     "text": [
      "(7997, 23) (7997,)\n",
      "(2000, 23) (2000,)\n"
     ]
    },
    {
     "name": "stderr",
     "output_type": "stream",
     "text": [
      "/usr/local/lib/python3.6/dist-packages/ipykernel_launcher.py:24: UserWarning: The `nb_epoch` argument in `fit` has been renamed `epochs`.\n"
     ]
    },
    {
     "name": "stdout",
     "output_type": "stream",
     "text": [
      "Train on 7997 samples, validate on 2000 samples\n",
      "Epoch 1/100\n",
      "7997/7997 [==============================] - 0s 33us/step - loss: 25380928642.7370 - accuracy: 0.7248 - val_loss: 5094753907.2000 - val_accuracy: 0.7585\n",
      "Epoch 2/100\n",
      "7997/7997 [==============================] - 0s 15us/step - loss: 4473300820.6077 - accuracy: 0.7412 - val_loss: 3590349734.4000 - val_accuracy: 0.7220\n",
      "Epoch 3/100\n",
      "7997/7997 [==============================] - 0s 16us/step - loss: 3380296173.7211 - accuracy: 0.7111 - val_loss: 2829255731.2000 - val_accuracy: 0.6970\n",
      "Epoch 4/100\n",
      "7997/7997 [==============================] - 0s 16us/step - loss: 2668032750.3294 - accuracy: 0.7065 - val_loss: 2273500838.4000 - val_accuracy: 0.6855\n",
      "Epoch 5/100\n",
      "7997/7997 [==============================] - 0s 16us/step - loss: 2139688983.7209 - accuracy: 0.7071 - val_loss: 1843150886.4000 - val_accuracy: 0.7040\n",
      "Epoch 6/100\n",
      "7997/7997 [==============================] - 0s 16us/step - loss: 1736759778.0688 - accuracy: 0.7163 - val_loss: 1513321894.4000 - val_accuracy: 0.7145\n",
      "Epoch 7/100\n",
      "7997/7997 [==============================] - 0s 15us/step - loss: 1427638561.7407 - accuracy: 0.7270 - val_loss: 1255050224.0000 - val_accuracy: 0.7170\n",
      "Epoch 8/100\n",
      "7997/7997 [==============================] - 0s 15us/step - loss: 1187047098.7260 - accuracy: 0.7326 - val_loss: 1049517913.6000 - val_accuracy: 0.7235\n",
      "Epoch 9/100\n",
      "7997/7997 [==============================] - 0s 16us/step - loss: 994743084.1926 - accuracy: 0.7275 - val_loss: 881770720.0000 - val_accuracy: 0.7335\n",
      "Epoch 10/100\n",
      "7997/7997 [==============================] - 0s 16us/step - loss: 838744991.4038 - accuracy: 0.7304 - val_loss: 745175196.8000 - val_accuracy: 0.7335\n",
      "Epoch 11/100\n",
      "7997/7997 [==============================] - 0s 16us/step - loss: 711721693.1869 - accuracy: 0.7275 - val_loss: 632578804.8000 - val_accuracy: 0.7245\n",
      "Epoch 12/100\n",
      "7997/7997 [==============================] - 0s 15us/step - loss: 606476921.1814 - accuracy: 0.7283 - val_loss: 541070120.0000 - val_accuracy: 0.7295\n",
      "Epoch 13/100\n",
      "7997/7997 [==============================] - 0s 16us/step - loss: 518417300.7038 - accuracy: 0.7225 - val_loss: 462197545.6000 - val_accuracy: 0.7205\n",
      "Epoch 14/100\n",
      "7997/7997 [==============================] - 0s 15us/step - loss: 444493869.9612 - accuracy: 0.7096 - val_loss: 396254849.6000 - val_accuracy: 0.7240\n",
      "Epoch 15/100\n",
      "7997/7997 [==============================] - 0s 16us/step - loss: 382096460.2086 - accuracy: 0.7288 - val_loss: 340231557.6000 - val_accuracy: 0.7235\n",
      "Epoch 16/100\n",
      "7997/7997 [==============================] - 0s 15us/step - loss: 328890534.7945 - accuracy: 0.7275 - val_loss: 293002480.8000 - val_accuracy: 0.7245\n",
      "Epoch 17/100\n",
      "7997/7997 [==============================] - 0s 16us/step - loss: 283544963.9735 - accuracy: 0.7276 - val_loss: 251515912.8000 - val_accuracy: 0.7255\n",
      "Epoch 18/100\n",
      "7997/7997 [==============================] - 0s 15us/step - loss: 244742568.2771 - accuracy: 0.7330 - val_loss: 216991542.4000 - val_accuracy: 0.7300\n",
      "Epoch 19/100\n",
      "7997/7997 [==============================] - 0s 15us/step - loss: 211829241.9657 - accuracy: 0.7384 - val_loss: 187867590.4000 - val_accuracy: 0.7380\n",
      "Epoch 20/100\n",
      "7997/7997 [==============================] - 0s 16us/step - loss: 183714457.9077 - accuracy: 0.7419 - val_loss: 162519828.8000 - val_accuracy: 0.7485\n",
      "Epoch 21/100\n",
      "7997/7997 [==============================] - 0s 16us/step - loss: 159513606.8866 - accuracy: 0.7422 - val_loss: 140839420.8000 - val_accuracy: 0.7485\n",
      "Epoch 22/100\n",
      "7997/7997 [==============================] - 0s 15us/step - loss: 138583580.1866 - accuracy: 0.7447 - val_loss: 121820377.2000 - val_accuracy: 0.7515\n",
      "Epoch 23/100\n",
      "7997/7997 [==============================] - 0s 15us/step - loss: 120495990.7865 - accuracy: 0.7458 - val_loss: 105355561.4000 - val_accuracy: 0.7550\n",
      "Epoch 24/100\n",
      "7997/7997 [==============================] - 0s 16us/step - loss: 105044036.4647 - accuracy: 0.7499 - val_loss: 91410571.0000 - val_accuracy: 0.7585\n",
      "Epoch 25/100\n",
      "7997/7997 [==============================] - 0s 17us/step - loss: 91708966.6825 - accuracy: 0.7524 - val_loss: 79298462.4000 - val_accuracy: 0.7570\n",
      "Epoch 26/100\n",
      "7997/7997 [==============================] - 0s 15us/step - loss: 80142060.4632 - accuracy: 0.7550 - val_loss: 68994480.8000 - val_accuracy: 0.7580\n",
      "Epoch 27/100\n",
      "7997/7997 [==============================] - 0s 15us/step - loss: 70099717.9742 - accuracy: 0.7538 - val_loss: 59720782.8000 - val_accuracy: 0.7580\n",
      "Epoch 28/100\n",
      "7997/7997 [==============================] - 0s 15us/step - loss: 61273192.3946 - accuracy: 0.7578 - val_loss: 51936235.9000 - val_accuracy: 0.7610\n",
      "Epoch 29/100\n",
      "7997/7997 [==============================] - 0s 16us/step - loss: 53616370.9661 - accuracy: 0.7582 - val_loss: 45147954.2000 - val_accuracy: 0.7615\n",
      "Epoch 30/100\n",
      "7997/7997 [==============================] - 0s 15us/step - loss: 47056257.6069 - accuracy: 0.7598 - val_loss: 39164006.4000 - val_accuracy: 0.7615\n",
      "Epoch 31/100\n",
      "7997/7997 [==============================] - 0s 16us/step - loss: 41255056.7858 - accuracy: 0.7580 - val_loss: 34164220.2000 - val_accuracy: 0.7620\n",
      "Epoch 32/100\n",
      "7997/7997 [==============================] - 0s 15us/step - loss: 36249298.6710 - accuracy: 0.7600 - val_loss: 29842580.0000 - val_accuracy: 0.7640\n",
      "Epoch 33/100\n",
      "7997/7997 [==============================] - 0s 16us/step - loss: 31935165.3182 - accuracy: 0.7624 - val_loss: 26118774.4000 - val_accuracy: 0.7650\n",
      "Epoch 34/100\n",
      "7997/7997 [==============================] - 0s 16us/step - loss: 28161554.2068 - accuracy: 0.7620 - val_loss: 22875966.2000 - val_accuracy: 0.7650\n",
      "Epoch 35/100\n",
      "7997/7997 [==============================] - 0s 16us/step - loss: 24872914.4574 - accuracy: 0.7627 - val_loss: 20018026.1500 - val_accuracy: 0.7660\n",
      "Epoch 36/100\n",
      "7997/7997 [==============================] - 0s 16us/step - loss: 22087571.0476 - accuracy: 0.7630 - val_loss: 17573607.8000 - val_accuracy: 0.7660\n",
      "Epoch 37/100\n",
      "7997/7997 [==============================] - 0s 16us/step - loss: 19588265.5213 - accuracy: 0.7633 - val_loss: 15471687.4750 - val_accuracy: 0.7660\n",
      "Epoch 38/100\n",
      "7997/7997 [==============================] - 0s 15us/step - loss: 17404858.9187 - accuracy: 0.7640 - val_loss: 13686679.0500 - val_accuracy: 0.7625\n",
      "Epoch 39/100\n",
      "7997/7997 [==============================] - 0s 15us/step - loss: 15545401.2077 - accuracy: 0.7642 - val_loss: 12310574.5250 - val_accuracy: 0.7595\n",
      "Epoch 40/100\n",
      "7997/7997 [==============================] - 0s 15us/step - loss: 13933358.5518 - accuracy: 0.7627 - val_loss: 10997523.0000 - val_accuracy: 0.7615\n",
      "Epoch 41/100\n",
      "7997/7997 [==============================] - 0s 17us/step - loss: 12503436.5137 - accuracy: 0.7648 - val_loss: 9914930.0375 - val_accuracy: 0.7645\n",
      "Epoch 42/100\n",
      "7997/7997 [==============================] - 0s 15us/step - loss: 11283976.3745 - accuracy: 0.7640 - val_loss: 9021216.3500 - val_accuracy: 0.7635\n",
      "Epoch 43/100\n",
      "7997/7997 [==============================] - 0s 16us/step - loss: 10211293.0263 - accuracy: 0.7618 - val_loss: 8312205.0625 - val_accuracy: 0.7645\n",
      "Epoch 44/100\n",
      "7997/7997 [==============================] - 0s 15us/step - loss: 9241415.2926 - accuracy: 0.7658 - val_loss: 7649286.7375 - val_accuracy: 0.7635\n",
      "Epoch 45/100\n",
      "7997/7997 [==============================] - 0s 16us/step - loss: 8406520.2347 - accuracy: 0.7593 - val_loss: 7086026.2250 - val_accuracy: 0.7635\n",
      "Epoch 46/100\n",
      "7997/7997 [==============================] - 0s 17us/step - loss: 7677552.1083 - accuracy: 0.7600 - val_loss: 6709822.5125 - val_accuracy: 0.7610\n",
      "Epoch 47/100\n",
      "7997/7997 [==============================] - 0s 15us/step - loss: 7024558.4260 - accuracy: 0.7609 - val_loss: 6393210.4062 - val_accuracy: 0.7635\n",
      "Epoch 48/100\n",
      "7997/7997 [==============================] - 0s 15us/step - loss: 6437049.1307 - accuracy: 0.7687 - val_loss: 5992020.1500 - val_accuracy: 0.7670\n",
      "Epoch 49/100\n",
      "7997/7997 [==============================] - 0s 16us/step - loss: 5964099.4917 - accuracy: 0.7660 - val_loss: 5677223.5594 - val_accuracy: 0.7685\n",
      "Epoch 50/100\n",
      "7997/7997 [==============================] - 0s 18us/step - loss: 5524702.8407 - accuracy: 0.7699 - val_loss: 5282696.5219 - val_accuracy: 0.7700\n",
      "Epoch 51/100\n",
      "7997/7997 [==============================] - 0s 16us/step - loss: 5129388.4599 - accuracy: 0.7717 - val_loss: 5190059.7750 - val_accuracy: 0.7700\n",
      "Epoch 52/100\n",
      "7997/7997 [==============================] - 0s 16us/step - loss: 4765547.8001 - accuracy: 0.7719 - val_loss: 4975660.9750 - val_accuracy: 0.7685\n",
      "Epoch 53/100\n",
      "7997/7997 [==============================] - 0s 16us/step - loss: 4458812.4379 - accuracy: 0.7703 - val_loss: 4862353.6500 - val_accuracy: 0.7680\n",
      "Epoch 54/100\n",
      "7997/7997 [==============================] - 0s 15us/step - loss: 4190157.3459 - accuracy: 0.7709 - val_loss: 4681693.2734 - val_accuracy: 0.7655\n",
      "Epoch 55/100\n",
      "7997/7997 [==============================] - 0s 16us/step - loss: 3954990.7311 - accuracy: 0.7703 - val_loss: 4621353.2469 - val_accuracy: 0.7695\n",
      "Epoch 56/100\n",
      "7997/7997 [==============================] - 0s 17us/step - loss: 3707152.3988 - accuracy: 0.7738 - val_loss: 4432868.8906 - val_accuracy: 0.7700\n",
      "Epoch 57/100\n",
      "7997/7997 [==============================] - 0s 16us/step - loss: 3496605.3999 - accuracy: 0.7732 - val_loss: 4332450.3875 - val_accuracy: 0.7705\n",
      "Epoch 58/100\n",
      "7997/7997 [==============================] - 0s 15us/step - loss: 3310835.7483 - accuracy: 0.7728 - val_loss: 4364313.2430 - val_accuracy: 0.7705\n",
      "Epoch 59/100\n",
      "7997/7997 [==============================] - 0s 16us/step - loss: 3140108.0587 - accuracy: 0.7725 - val_loss: 4177342.4562 - val_accuracy: 0.7715\n",
      "Epoch 60/100\n",
      "7997/7997 [==============================] - 0s 16us/step - loss: 2974522.8930 - accuracy: 0.7734 - val_loss: 4117992.3164 - val_accuracy: 0.7720\n",
      "Epoch 61/100\n",
      "7997/7997 [==============================] - 0s 15us/step - loss: 2831856.2647 - accuracy: 0.7729 - val_loss: 4048852.6578 - val_accuracy: 0.7715\n",
      "Epoch 62/100\n",
      "7997/7997 [==============================] - 0s 15us/step - loss: 2687944.2652 - accuracy: 0.7732 - val_loss: 3956946.1508 - val_accuracy: 0.7720\n",
      "Epoch 63/100\n",
      "7997/7997 [==============================] - 0s 15us/step - loss: 2557779.3926 - accuracy: 0.7729 - val_loss: 3811533.5836 - val_accuracy: 0.7715\n",
      "Epoch 64/100\n",
      "7997/7997 [==============================] - 0s 16us/step - loss: 2435784.6444 - accuracy: 0.7728 - val_loss: 3691876.9047 - val_accuracy: 0.7715\n",
      "Epoch 65/100\n",
      "7997/7997 [==============================] - 0s 16us/step - loss: 2319266.0787 - accuracy: 0.7732 - val_loss: 3555492.2754 - val_accuracy: 0.7715\n",
      "Epoch 66/100\n",
      "7997/7997 [==============================] - 0s 15us/step - loss: 2205117.6052 - accuracy: 0.7733 - val_loss: 3408554.8988 - val_accuracy: 0.7710\n",
      "Epoch 67/100\n",
      "7997/7997 [==============================] - 0s 15us/step - loss: 2095145.5729 - accuracy: 0.7732 - val_loss: 3201728.2863 - val_accuracy: 0.7715\n",
      "Epoch 68/100\n",
      "7997/7997 [==============================] - 0s 16us/step - loss: 2006720.2907 - accuracy: 0.7732 - val_loss: 3087881.5590 - val_accuracy: 0.7710\n",
      "Epoch 69/100\n",
      "7997/7997 [==============================] - 0s 16us/step - loss: 1910821.3591 - accuracy: 0.7732 - val_loss: 2960703.8133 - val_accuracy: 0.7720\n",
      "Epoch 70/100\n",
      "7997/7997 [==============================] - 0s 15us/step - loss: 1816256.3947 - accuracy: 0.7732 - val_loss: 2815857.7277 - val_accuracy: 0.7720\n",
      "Epoch 71/100\n",
      "7997/7997 [==============================] - 0s 15us/step - loss: 1734696.7686 - accuracy: 0.7723 - val_loss: 2679476.6273 - val_accuracy: 0.7725\n",
      "Epoch 72/100\n",
      "7997/7997 [==============================] - 0s 16us/step - loss: 1655961.8457 - accuracy: 0.7732 - val_loss: 2568325.3867 - val_accuracy: 0.7725\n",
      "Epoch 73/100\n",
      "7997/7997 [==============================] - 0s 17us/step - loss: 1574423.6199 - accuracy: 0.7734 - val_loss: 2444858.4732 - val_accuracy: 0.7725\n",
      "Epoch 74/100\n",
      "7997/7997 [==============================] - 0s 16us/step - loss: 1499563.0689 - accuracy: 0.7730 - val_loss: 2325013.5811 - val_accuracy: 0.7725\n",
      "Epoch 75/100\n",
      "7997/7997 [==============================] - 0s 15us/step - loss: 1428074.5219 - accuracy: 0.7734 - val_loss: 2206602.8994 - val_accuracy: 0.7725\n",
      "Epoch 76/100\n",
      "7997/7997 [==============================] - 0s 17us/step - loss: 1353111.1256 - accuracy: 0.7733 - val_loss: 2115276.1764 - val_accuracy: 0.7725\n",
      "Epoch 77/100\n",
      "7997/7997 [==============================] - 0s 16us/step - loss: 1287298.2257 - accuracy: 0.7734 - val_loss: 1980060.3328 - val_accuracy: 0.7725\n",
      "Epoch 78/100\n",
      "7997/7997 [==============================] - 0s 15us/step - loss: 1221440.4108 - accuracy: 0.7728 - val_loss: 1899791.5727 - val_accuracy: 0.7725\n",
      "Epoch 79/100\n",
      "7997/7997 [==============================] - 0s 15us/step - loss: 1156535.8935 - accuracy: 0.7733 - val_loss: 1853471.1846 - val_accuracy: 0.7725\n",
      "Epoch 80/100\n",
      "7997/7997 [==============================] - 0s 15us/step - loss: 1097850.1594 - accuracy: 0.7733 - val_loss: 1811390.4434 - val_accuracy: 0.7725\n",
      "Epoch 81/100\n",
      "7997/7997 [==============================] - 0s 16us/step - loss: 1044011.5013 - accuracy: 0.7730 - val_loss: 1753250.8813 - val_accuracy: 0.7725\n",
      "Epoch 82/100\n",
      "7997/7997 [==============================] - 0s 16us/step - loss: 983448.1040 - accuracy: 0.7732 - val_loss: 1686147.7880 - val_accuracy: 0.7725\n",
      "Epoch 83/100\n",
      "7997/7997 [==============================] - 0s 16us/step - loss: 927650.9129 - accuracy: 0.7738 - val_loss: 1613289.8848 - val_accuracy: 0.7725\n",
      "Epoch 84/100\n",
      "7997/7997 [==============================] - 0s 15us/step - loss: 874976.1738 - accuracy: 0.7732 - val_loss: 1575728.4409 - val_accuracy: 0.7725\n",
      "Epoch 85/100\n",
      "7997/7997 [==============================] - 0s 16us/step - loss: 823703.0035 - accuracy: 0.7735 - val_loss: 1526859.9657 - val_accuracy: 0.7725\n",
      "Epoch 86/100\n",
      "7997/7997 [==============================] - 0s 15us/step - loss: 777017.4122 - accuracy: 0.7738 - val_loss: 1494999.1759 - val_accuracy: 0.7725\n",
      "Epoch 87/100\n",
      "7997/7997 [==============================] - 0s 17us/step - loss: 738489.0475 - accuracy: 0.7734 - val_loss: 1438166.2981 - val_accuracy: 0.7725\n",
      "Epoch 88/100\n",
      "7997/7997 [==============================] - 0s 16us/step - loss: 690193.2222 - accuracy: 0.7740 - val_loss: 1400526.0841 - val_accuracy: 0.7725\n",
      "Epoch 89/100\n",
      "7997/7997 [==============================] - 0s 16us/step - loss: 647333.9442 - accuracy: 0.7735 - val_loss: 1353260.3585 - val_accuracy: 0.7725\n",
      "Epoch 90/100\n",
      "7997/7997 [==============================] - 0s 16us/step - loss: 605754.6370 - accuracy: 0.7738 - val_loss: 1302344.1233 - val_accuracy: 0.7725\n",
      "Epoch 91/100\n",
      "7997/7997 [==============================] - 0s 16us/step - loss: 569984.0672 - accuracy: 0.7738 - val_loss: 1281021.5385 - val_accuracy: 0.7725\n",
      "Epoch 92/100\n",
      "7997/7997 [==============================] - 0s 15us/step - loss: 531081.9167 - accuracy: 0.7737 - val_loss: 1225552.0812 - val_accuracy: 0.7725\n",
      "Epoch 93/100\n",
      "7997/7997 [==============================] - 0s 16us/step - loss: 497084.6697 - accuracy: 0.7739 - val_loss: 1206742.4375 - val_accuracy: 0.7725\n",
      "Epoch 94/100\n",
      "7997/7997 [==============================] - 0s 16us/step - loss: 466744.7826 - accuracy: 0.7738 - val_loss: 1162590.1448 - val_accuracy: 0.7730\n",
      "Epoch 95/100\n",
      "7997/7997 [==============================] - 0s 16us/step - loss: 434981.5156 - accuracy: 0.7739 - val_loss: 1136892.0347 - val_accuracy: 0.7730\n",
      "Epoch 96/100\n",
      "7997/7997 [==============================] - 0s 16us/step - loss: 404077.7560 - accuracy: 0.7740 - val_loss: 1120388.1035 - val_accuracy: 0.7725\n",
      "Epoch 97/100\n",
      "7997/7997 [==============================] - 0s 16us/step - loss: 375164.1646 - accuracy: 0.7742 - val_loss: 1080695.1562 - val_accuracy: 0.7725\n",
      "Epoch 98/100\n",
      "7997/7997 [==============================] - 0s 16us/step - loss: 352133.0162 - accuracy: 0.7743 - val_loss: 1037516.8824 - val_accuracy: 0.7725\n",
      "Epoch 99/100\n",
      "7997/7997 [==============================] - 0s 15us/step - loss: 329935.3469 - accuracy: 0.7743 - val_loss: 1025189.0542 - val_accuracy: 0.7725\n",
      "Epoch 100/100\n",
      "7997/7997 [==============================] - 0s 16us/step - loss: 307454.9360 - accuracy: 0.7743 - val_loss: 988553.5872 - val_accuracy: 0.7725\n"
     ]
    }
   ],
   "source": [
    "from keras.models import Sequential\n",
    "from keras.layers import Dense\n",
    "import numpy as np\n",
    "import pandas as pd\n",
    "from sklearn.preprocessing import StandardScaler\n",
    "from sklearn import preprocessing\n",
    "from sklearn.model_selection import train_test_split\n",
    "from keras import regularizers\n",
    "seednum=7\n",
    "np.random.seed(seednum)\n",
    "dataset = pd.read_csv(\"CreditCardDefaults10k.csv\", delimiter = \",\" , skiprows=2)\n",
    "X=dataset.iloc[:,0:23]\n",
    "Y=dataset.iloc[:,23]\n",
    "X_train,X_test,Y_train,Y_test=train_test_split(X,Y,test_size=0.2)\n",
    "print(X_train.shape,Y_train.shape)\n",
    "print(X_test.shape,Y_test.shape)\n",
    "model = Sequential()\n",
    "model.add(Dense(23, input_dim=23, activation='relu',activity_regularizer=regularizers.l2(0.001)))\n",
    "model.add(Dense(18, activation='relu',activity_regularizer=regularizers.l2(0.05)))\n",
    "model.add(Dense(1, activation='sigmoid',activity_regularizer=regularizers.l2(0.5)))\n",
    "# compile the keras model\n",
    "opt = SGD(lr=1, momentum=0.9, decay=0.01)\n",
    "model.compile(loss='binary_crossentropy',optimizer='adam',metrics=['accuracy'])\n",
    "history=model.fit(X_train,Y_train,nb_epoch=100,batch_size=100,verbose=1,validation_data=(X_test, Y_test))"
   ]
  },
  {
   "cell_type": "markdown",
   "metadata": {
    "id": "ZiG-GFm07udI"
   },
   "source": []
  },
  {
   "cell_type": "code",
   "execution_count": null,
   "metadata": {
    "colab": {
     "base_uri": "https://localhost:8080/",
     "height": 573
    },
    "executionInfo": {
     "elapsed": 1548,
     "status": "ok",
     "timestamp": 1592945295165,
     "user": {
      "displayName": "manasa pawar",
      "photoUrl": "",
      "userId": "07850461268939422328"
     },
     "user_tz": -330
    },
    "id": "WJWuYiZQO21G",
    "outputId": "20678a76-69a5-4487-ace6-e1ac5e1065bd"
   },
   "outputs": [
    {
     "data": {
      "image/png": "[encoded data removed]",
      "text/plain": [
       "<Figure size 432x288 with 1 Axes>"
      ]
     },
     "metadata": {
      "needs_background": "light",
      "tags": []
     },
     "output_type": "display_data"
    },
    {
     "data": {
      "image/png": "[encoded data removed]",
      "text/plain": [
       "<Figure size 432x288 with 1 Axes>"
      ]
     },
     "metadata": {
      "needs_background": "light",
      "tags": []
     },
     "output_type": "display_data"
    }
   ],
   "source": [
    "import matplotlib.pyplot as plt\n",
    "plt.plot(history.history['accuracy'])\n",
    "plt.plot(history.history['val_accuracy'])\n",
    "plt.xlabel(\"accuracy\")\n",
    "plt.ylabel(\"epoch\")\n",
    "plt.title(\"Credit_card dataset\")\n",
    "plt.legend(['train','test'],loc='upper right')\n",
    "plt.show()\n",
    "import matplotlib.pyplot as plt\n",
    "plt.plot(history.history['loss'])\n",
    "plt.plot(history.history['val_loss'])\n",
    "plt.xlabel(\"loss\")\n",
    "plt.ylabel(\"epoch\")\n",
    "plt.title(\"Credit_card dataset\")\n",
    "plt.legend(['train','test'],loc='upper right')\n",
    "plt.show()"
   ]
  },
  {
   "cell_type": "markdown",
   "metadata": {
    "id": "x79X751GvYoz"
   },
   "source": []
  },
  {
   "cell_type": "markdown",
   "metadata": {
    "id": "kM9v3EiYvX_W"
   },
   "source": []
  },
  {
   "cell_type": "markdown",
   "metadata": {
    "id": "GC-6AEblva8Q"
   },
   "source": [
    "**WORK FOR REFERNCE**"
   ]
  },
  {
   "cell_type": "code",
   "execution_count": null,
   "metadata": {
    "id": "2ADwo7-yvaiU"
   },
   "outputs": [],
   "source": []
  },
  {
   "cell_type": "code",
   "execution_count": null,
   "metadata": {
    "id": "ZT2OFSEQl4I4"
   },
   "outputs": [],
   "source": [
    "import pandas as pd \n",
    "import numpy as np \n",
    "import matplotlib.pyplot as plt \n",
    "from sklearn.linear_model import LinearRegression, Ridge, Lasso \n",
    "from sklearn.model_selection import train_test_split, cross_val_score \n",
    "from statistics import mean \n"
   ]
  },
  {
   "cell_type": "code",
   "execution_count": null,
   "metadata": {
    "id": "AYAE9Le7l4W8"
   },
   "outputs": [],
   "source": [
    "dataset = np.loadtxt(\"CreditCardDefaults10k.csv\", delimiter = \",\" , skiprows=2)"
   ]
  },
  {
   "cell_type": "code",
   "execution_count": null,
   "metadata": {
    "id": "s5Ll7lf_l4kQ"
   },
   "outputs": [],
   "source": [
    "\n",
    "\n",
    "# Bulding and fitting the Linear Regression model \n",
    "linearModel = LinearRegression() \n",
    "linearModel.fit(X_train, y_train) \n",
    "\n",
    "# Evaluating the Linear Regression model \n",
    "print(linearModel.score(X_test, y_test)) \n"
   ]
  },
  {
   "cell_type": "code",
   "execution_count": null,
   "metadata": {
    "id": "VGP19ZNpnNPM"
   },
   "outputs": [],
   "source": [
    "from keras import regularizers\n",
    "model.add(Dense(64, input_dim=64,\n",
    "                kernel_regularizer=regularizers.l2(0.01),\n",
    "                activity_regularizer=regularizers.l1(0.01)))"
   ]
  },
  {
   "cell_type": "code",
   "execution_count": null,
   "metadata": {
    "id": "cxXIpLsU3QKV"
   },
   "outputs": [],
   "source": [
    "from keras.models import Sequential\n",
    "from keras.layers import Dense\n",
    "import numpy as np\n",
    "from keras.utils import plot_model\n",
    "\n",
    "seednum=7\n",
    "np.random.seed(seednum)\n",
    "dataset = np.loadtxt(\"CreditCardDefaults10k.csv\", delimiter = \",\" , skiprows=2)\n",
    "#print(dataset)\n",
    "\n",
    "inputFeatures = dataset[:,0:23]\n",
    "Output = dataset[:,23]\n",
    "\n",
    "print(inputFeatures)\n",
    "print(Output)\n",
    "architecture=[]\n",
    "accuracyy=[]\n",
    "for i in range(21,25) :\n",
    "   for j in range(18,20):\n",
    "     result = \"\"\n",
    "     model=Sequential()\n",
    "     model.add(Dense(i,input_dim=23,init='uniform',activation='relu'))\n",
    "     model.add(Dense(1,init='uniform',activation='sigmoid'))\n",
    "     model.compile(loss='binary_crossentropy',optimizer='adam',metrics=['accuracy'])\n",
    "     model.fit(inputFeatures,Output,nb_epoch=100,batch_size=100)\n",
    "     scores=model.evaluate(inputFeatures,Output)\n",
    "     z=scores[1]*100\n",
    "     print(\"%s: %.2f%%\" % (model.metrics_names[1],z))\n",
    "     accuracyy.append(z)\n",
    "     result += \" 18:\" +str(i) + \" : \"+ str(j)+\":1\"\n",
    "     architecture.append(result)\n",
    "     j=j+1\n",
    "i=i+1"
   ]
  },
  {
   "cell_type": "code",
   "execution_count": null,
   "metadata": {
    "id": "tyG3rdG-zYDJ"
   },
   "outputs": [],
   "source": [
    "import matplotlib.pyplot as plt\n",
    "plt.plot(architecture,accuracyy)\n",
    "plt.xlabel(\"ARCHITECTURE\")\n",
    "plt.ylabel(\"ACCURACY\")\n",
    "plt.title(\"Credit_card dataset\")\n",
    "plt.show()"
   ]
  },
  {
   "cell_type": "code",
   "execution_count": null,
   "metadata": {
    "id": "U2ZAwC5q3ka3"
   },
   "outputs": [],
   "source": [
    "print(accuracyy)"
   ]
  },
  {
   "cell_type": "code",
   "execution_count": null,
   "metadata": {
    "id": "JFVXWnyxMW25"
   },
   "outputs": [],
   "source": [
    "from keras.models import Sequential\n",
    "from keras.layers import Dense\n",
    "import numpy as np\n",
    "from keras.utils import plot_model\n",
    "\n",
    "seednum=7\n",
    "np.random.seed(seednum)\n",
    "dataset = np.loadtxt(\"CreditCardDefaults10k.csv\", delimiter = \",\" , skiprows=2)\n",
    "#print(dataset)\n",
    "\n",
    "inputFeatures = dataset[:,0:23]\n",
    "Output = dataset[:,23]\n",
    "\n",
    "print(inputFeatures)\n",
    "print(Output)\n",
    "architecture=[]\n",
    "accuracyy=[]\n",
    "for i in range(21,25) :\n",
    "   for j in range(18,20):\n",
    "     result = \"\"\n",
    "     model=Sequential()\n",
    "     model.add(Dense(i,input_dim=23,init='uniform',activation='softmax'))\n",
    "     model.add(Dense(j,init='uniform',activation='tanh'))\n",
    "     model.add(Dense(1,init='uniform',activation='sigmoid'))\n",
    "     model.compile(loss='binary_crossentropy',optimizer='rmsprop ',metrics=['accuracy'])\n",
    "     model.fit(inputFeatures,Output,nb_epoch=100,batch_size=100)\n",
    "     scores=model.evaluate(inputFeatures,Output)\n",
    "     z=scores[1]*100\n",
    "     print(\"%s: %.2f%%\" % (model.metrics_names[1],z))\n",
    "     accuracyy.append(z)\n",
    "     result += \" 18:\" +str(i) + \" : \"+ str(j)+\":1\"\n",
    "     architecture.append(result)\n",
    "     j=j+1\n",
    "i=i+1"
   ]
  },
  {
   "cell_type": "code",
   "execution_count": null,
   "metadata": {
    "id": "2rsgNkVgNg1l"
   },
   "outputs": [],
   "source": [
    "import matplotlib.pyplot as plt\n",
    "plt.plot(architecture,accuracyy)\n",
    "plt.xlabel(\"ARCHITECTURE\")\n",
    "plt.ylabel(\"ACCURACY\")\n",
    "plt.title(\"Credit_card dataset\")\n",
    "plt.show()"
   ]
  },
  {
   "cell_type": "code",
   "execution_count": null,
   "metadata": {
    "id": "eNw6UaBX6fUH"
   },
   "outputs": [],
   "source": [
    "from keras.models import Sequential\n",
    "from keras.layers import Dense\n",
    "import numpy as np\n",
    "from keras.utils import plot_model\n",
    "\n",
    "seednum=7\n",
    "np.random.seed(seednum)\n",
    "dataset = np.loadtxt(\"CreditCardDefaults10k.csv\", delimiter = \",\" , skiprows=2)\n",
    "#print(dataset)\n",
    "\n",
    "inputFeatures = dataset[:,0:23]\n",
    "Output = dataset[:,23]\n",
    "\n",
    "print(inputFeatures)\n",
    "print(Output)\n",
    "architecture=[]\n",
    "accuracyy=[]\n",
    "for i in range(21,25) :\n",
    "   for j in range(18,20):\n",
    "     result = \"\"\n",
    "     model=Sequential()\n",
    "     model.add(Dense(i,input_dim=23,init='uniform',activation='relu'))\n",
    "     model.add(Dense(j,init='uniform',activation='relu'))\n",
    "     model.add(Dense(1,init='uniform',activation='sigmoid'))\n",
    "     model.compile(loss='binary_crossentropy',optimizer='adam',metrics=['accuracy'])\n",
    "     model.fit(inputFeatures,Output,nb_epoch=10,batch_size=10)\n",
    "     scores=model.evaluate(inputFeatures,Output)\n",
    "     z=scores[1]*100\n",
    "     print(\"%s: %.2f%%\" % (model.metrics_names[1],z))\n",
    "     accuracyy.append(z)\n",
    "     result += \" 18:\" +str(i) + \" : \"+ str(j)+\":1\"\n",
    "     architecture.append(result)\n",
    "     j=j+1\n",
    "i=i+1"
   ]
  },
  {
   "cell_type": "code",
   "execution_count": null,
   "metadata": {
    "id": "0_zUwJia6j8S"
   },
   "outputs": [],
   "source": [
    "import matplotlib.pyplot as plt\n",
    "plt.plot(architecture,accuracyy)\n",
    "plt.xlabel(\"ARCHITECTURE\")\n",
    "plt.ylabel(\"ACCURACY\")\n",
    "plt.title(\"Credit_card dataset\")\n",
    "plt.show()"
   ]
  },
  {
   "cell_type": "code",
   "execution_count": null,
   "metadata": {
    "id": "XR1uu1YK6qHj"
   },
   "outputs": [],
   "source": [
    "print(accuracyy)\n",
    "print(architecture)"
   ]
  },
  {
   "cell_type": "code",
   "execution_count": null,
   "metadata": {
    "id": "E2lvaI8d6uX_"
   },
   "outputs": [],
   "source": [
    "print(max(accuracyy))"
   ]
  }
 ],
 "metadata": {
  "colab": {
   "authorship_tag": "ABX9TyM7t30snXYq/JvudP5m395o",
   "collapsed_sections": [],
   "name": "DL_ex1_Manasa.ipynb",
   "provenance": []
  },
  "kernelspec": {
   "display_name": "Python 3",
   "language": "python",
   "name": "python3"
  },
  "language_info": {
   "codemirror_mode": {
    "name": "ipython",
    "version": 3
   },
   "file_extension": ".py",
   "mimetype": "text/x-python",
   "name": "python",
   "nbconvert_exporter": "python",
   "pygments_lexer": "ipython3",
   "version": "3.9.5"
  }
 },
 "nbformat": 4,
 "nbformat_minor": 1
}
