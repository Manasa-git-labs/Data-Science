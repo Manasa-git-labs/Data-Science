{
 "cells": [
  {
   "cell_type": "code",
   "execution_count": 29,
   "metadata": {
    "colab": {
     "base_uri": "https://localhost:8080/",
     "height": 1000
    },
    "colab_type": "code",
    "executionInfo": {
     "elapsed": 323551,
     "status": "ok",
     "timestamp": 1588661301268,
     "user": {
      "displayName": "manasa pawar",
      "photoUrl": "",
      "userId": "07850461268939422328"
     },
     "user_tz": -330
    },
    "id": "WMmfrLYnrANd",
    "outputId": "c43f3841-5828-4e86-ddda-2ff7dcd3619c"
   },
   "outputs": [
    {
     "name": "stdout",
     "output_type": "stream",
     "text": [
      "[[2.0000e+04 2.0000e+00 2.0000e+00 ... 0.0000e+00 0.0000e+00 0.0000e+00]\n",
      " [1.2000e+05 2.0000e+00 2.0000e+00 ... 1.0000e+03 0.0000e+00 2.0000e+03]\n",
      " [9.0000e+04 2.0000e+00 2.0000e+00 ... 1.0000e+03 1.0000e+03 5.0000e+03]\n",
      " ...\n",
      " [1.4000e+05 2.0000e+00 1.0000e+00 ... 0.0000e+00 0.0000e+00 1.4190e+03]\n",
      " [8.0000e+04 2.0000e+00 2.0000e+00 ... 0.0000e+00 0.0000e+00 0.0000e+00]\n",
      " [2.0000e+05 1.0000e+00 3.0000e+00 ... 2.7080e+04 1.0017e+04 4.2000e+03]]\n",
      "[1. 1. 0. ... 0. 0. 0.]\n"
     ]
    },
    {
     "name": "stderr",
     "output_type": "stream",
     "text": [
      "/usr/local/lib/python3.6/dist-packages/ipykernel_launcher.py:23: UserWarning: Update your `Dense` call to the Keras 2 API: `Dense(21, input_dim=23, activation=\"relu\", activity_regularizer=<keras.reg..., kernel_initializer=\"uniform\")`\n",
      "/usr/local/lib/python3.6/dist-packages/ipykernel_launcher.py:24: UserWarning: Update your `Dense` call to the Keras 2 API: `Dense(18, activation=\"relu\", activity_regularizer=<keras.reg..., kernel_initializer=\"uniform\")`\n",
      "/usr/local/lib/python3.6/dist-packages/ipykernel_launcher.py:25: UserWarning: Update your `Dense` call to the Keras 2 API: `Dense(1, activation=\"sigmoid\", activity_regularizer=<keras.reg..., kernel_initializer=\"uniform\")`\n",
      "/usr/local/lib/python3.6/dist-packages/ipykernel_launcher.py:27: UserWarning: The `nb_epoch` argument in `fit` has been renamed `epochs`.\n"
     ]
    },
    {
     "name": "stdout",
     "output_type": "stream",
     "text": [
      "Train on 6698 samples, validate on 3300 samples\n",
      "Epoch 1/40\n",
      "6698/6698 [==============================] - 1s 167us/step - loss: 305.6684 - accuracy: 0.7658 - val_loss: 0.7648 - val_accuracy: 0.7661\n",
      "Epoch 2/40\n",
      "6698/6698 [==============================] - 1s 165us/step - loss: 0.9814 - accuracy: 0.7781 - val_loss: 0.6720 - val_accuracy: 0.7661\n",
      "Epoch 3/40\n",
      "6698/6698 [==============================] - 1s 155us/step - loss: 0.8916 - accuracy: 0.7781 - val_loss: 0.6461 - val_accuracy: 0.7661\n",
      "Epoch 4/40\n",
      "6698/6698 [==============================] - 1s 143us/step - loss: 0.7647 - accuracy: 0.7781 - val_loss: 0.6405 - val_accuracy: 0.7661\n",
      "Epoch 5/40\n",
      "6698/6698 [==============================] - 1s 149us/step - loss: 0.7040 - accuracy: 0.7781 - val_loss: 0.6396 - val_accuracy: 0.7661\n",
      "Epoch 6/40\n",
      "6698/6698 [==============================] - 1s 145us/step - loss: 0.6493 - accuracy: 0.7781 - val_loss: 0.6397 - val_accuracy: 0.7661\n",
      "Epoch 7/40\n",
      "6698/6698 [==============================] - 1s 142us/step - loss: 0.6228 - accuracy: 0.7781 - val_loss: 0.6399 - val_accuracy: 0.7661\n",
      "Epoch 8/40\n",
      "6698/6698 [==============================] - 1s 140us/step - loss: 0.5975 - accuracy: 0.7781 - val_loss: 0.6400 - val_accuracy: 0.7661\n",
      "Epoch 9/40\n",
      "6698/6698 [==============================] - 1s 139us/step - loss: 0.5889 - accuracy: 0.7781 - val_loss: 0.6402 - val_accuracy: 0.7661\n",
      "Epoch 10/40\n",
      "6698/6698 [==============================] - 1s 141us/step - loss: 0.5889 - accuracy: 0.7781 - val_loss: 0.6400 - val_accuracy: 0.7661\n",
      "Epoch 11/40\n",
      "6698/6698 [==============================] - 1s 146us/step - loss: 0.5889 - accuracy: 0.7781 - val_loss: 0.6400 - val_accuracy: 0.7661\n",
      "Epoch 12/40\n",
      "6698/6698 [==============================] - 1s 164us/step - loss: 0.5889 - accuracy: 0.7781 - val_loss: 0.6400 - val_accuracy: 0.7661\n",
      "Epoch 13/40\n",
      "6698/6698 [==============================] - 1s 149us/step - loss: 0.5889 - accuracy: 0.7781 - val_loss: 0.6400 - val_accuracy: 0.7661\n",
      "Epoch 14/40\n",
      "6698/6698 [==============================] - 1s 141us/step - loss: 0.5889 - accuracy: 0.7781 - val_loss: 0.6401 - val_accuracy: 0.7661\n",
      "Epoch 15/40\n",
      "6698/6698 [==============================] - 1s 140us/step - loss: 0.5889 - accuracy: 0.7781 - val_loss: 0.6400 - val_accuracy: 0.7661\n",
      "Epoch 16/40\n",
      "6698/6698 [==============================] - 1s 140us/step - loss: 0.5889 - accuracy: 0.7781 - val_loss: 0.6400 - val_accuracy: 0.7661\n",
      "Epoch 17/40\n",
      "6698/6698 [==============================] - 1s 142us/step - loss: 0.5889 - accuracy: 0.7781 - val_loss: 0.6400 - val_accuracy: 0.7661\n",
      "Epoch 18/40\n",
      "6698/6698 [==============================] - 1s 145us/step - loss: 0.5889 - accuracy: 0.7781 - val_loss: 0.6400 - val_accuracy: 0.7661\n",
      "Epoch 19/40\n",
      "6698/6698 [==============================] - 1s 147us/step - loss: 0.5889 - accuracy: 0.7781 - val_loss: 0.6400 - val_accuracy: 0.7661\n",
      "Epoch 20/40\n",
      "6698/6698 [==============================] - 1s 141us/step - loss: 0.5889 - accuracy: 0.7781 - val_loss: 0.6400 - val_accuracy: 0.7661\n",
      "Epoch 21/40\n",
      "6698/6698 [==============================] - 1s 159us/step - loss: 0.5889 - accuracy: 0.7781 - val_loss: 0.6399 - val_accuracy: 0.7661\n",
      "Epoch 22/40\n",
      "6698/6698 [==============================] - 1s 144us/step - loss: 0.5889 - accuracy: 0.7781 - val_loss: 0.6400 - val_accuracy: 0.7661\n",
      "Epoch 23/40\n",
      "6698/6698 [==============================] - 1s 149us/step - loss: 0.5889 - accuracy: 0.7781 - val_loss: 0.6401 - val_accuracy: 0.7661\n",
      "Epoch 24/40\n",
      "6698/6698 [==============================] - 1s 141us/step - loss: 0.5889 - accuracy: 0.7781 - val_loss: 0.6400 - val_accuracy: 0.7661\n",
      "Epoch 25/40\n",
      "6698/6698 [==============================] - 1s 141us/step - loss: 0.5889 - accuracy: 0.7781 - val_loss: 0.6400 - val_accuracy: 0.7661\n",
      "Epoch 26/40\n",
      "6698/6698 [==============================] - 1s 161us/step - loss: 0.5889 - accuracy: 0.7781 - val_loss: 0.6399 - val_accuracy: 0.7661\n",
      "Epoch 27/40\n",
      "6698/6698 [==============================] - 1s 136us/step - loss: 0.5889 - accuracy: 0.7781 - val_loss: 0.6401 - val_accuracy: 0.7661\n",
      "Epoch 28/40\n",
      "6698/6698 [==============================] - 1s 148us/step - loss: 0.5889 - accuracy: 0.7781 - val_loss: 0.6400 - val_accuracy: 0.7661\n",
      "Epoch 29/40\n",
      "6698/6698 [==============================] - 1s 153us/step - loss: 0.5889 - accuracy: 0.7781 - val_loss: 0.6400 - val_accuracy: 0.7661\n",
      "Epoch 30/40\n",
      "6698/6698 [==============================] - 1s 142us/step - loss: 0.5889 - accuracy: 0.7781 - val_loss: 0.6400 - val_accuracy: 0.7661\n",
      "Epoch 31/40\n",
      "6698/6698 [==============================] - 1s 143us/step - loss: 0.5889 - accuracy: 0.7781 - val_loss: 0.6400 - val_accuracy: 0.7661\n",
      "Epoch 32/40\n",
      "6698/6698 [==============================] - 1s 146us/step - loss: 0.5889 - accuracy: 0.7781 - val_loss: 0.6401 - val_accuracy: 0.7661\n",
      "Epoch 33/40\n",
      "6698/6698 [==============================] - 1s 152us/step - loss: 0.5889 - accuracy: 0.7781 - val_loss: 0.6400 - val_accuracy: 0.7661\n",
      "Epoch 34/40\n",
      "6698/6698 [==============================] - 1s 142us/step - loss: 0.5889 - accuracy: 0.7781 - val_loss: 0.6401 - val_accuracy: 0.7661\n",
      "Epoch 35/40\n",
      "6698/6698 [==============================] - 1s 147us/step - loss: 0.5889 - accuracy: 0.7781 - val_loss: 0.6401 - val_accuracy: 0.7661\n",
      "Epoch 36/40\n",
      "6698/6698 [==============================] - 1s 150us/step - loss: 0.5889 - accuracy: 0.7781 - val_loss: 0.6401 - val_accuracy: 0.7661\n",
      "Epoch 37/40\n",
      "6698/6698 [==============================] - 1s 146us/step - loss: 0.5889 - accuracy: 0.7781 - val_loss: 0.6401 - val_accuracy: 0.7661\n",
      "Epoch 38/40\n",
      "6698/6698 [==============================] - 1s 149us/step - loss: 0.5889 - accuracy: 0.7781 - val_loss: 0.6400 - val_accuracy: 0.7661\n",
      "Epoch 39/40\n",
      "6698/6698 [==============================] - 1s 144us/step - loss: 0.5889 - accuracy: 0.7781 - val_loss: 0.6401 - val_accuracy: 0.7661\n",
      "Epoch 40/40\n",
      "6698/6698 [==============================] - 1s 143us/step - loss: 0.5889 - accuracy: 0.7781 - val_loss: 0.6400 - val_accuracy: 0.7661\n",
      "9998/9998 [==============================] - 0s 17us/step\n",
      "accuracy: 77.42%\n"
     ]
    },
    {
     "name": "stderr",
     "output_type": "stream",
     "text": [
      "/usr/local/lib/python3.6/dist-packages/ipykernel_launcher.py:24: UserWarning: Update your `Dense` call to the Keras 2 API: `Dense(19, activation=\"relu\", activity_regularizer=<keras.reg..., kernel_initializer=\"uniform\")`\n"
     ]
    },
    {
     "name": "stdout",
     "output_type": "stream",
     "text": [
      "Train on 6698 samples, validate on 3300 samples\n",
      "Epoch 1/40\n",
      "6698/6698 [==============================] - 1s 153us/step - loss: 296.7653 - accuracy: 0.7681 - val_loss: 0.9505 - val_accuracy: 0.7661\n",
      "Epoch 2/40\n",
      "6698/6698 [==============================] - 1s 136us/step - loss: 1.6277 - accuracy: 0.7781 - val_loss: 0.8193 - val_accuracy: 0.7661\n",
      "Epoch 3/40\n",
      "6698/6698 [==============================] - 1s 139us/step - loss: 0.7878 - accuracy: 0.7781 - val_loss: 0.7749 - val_accuracy: 0.7661\n",
      "Epoch 4/40\n",
      "6698/6698 [==============================] - 1s 157us/step - loss: 0.6475 - accuracy: 0.7781 - val_loss: 0.7614 - val_accuracy: 0.7661\n",
      "Epoch 5/40\n",
      "6698/6698 [==============================] - 1s 147us/step - loss: 0.6089 - accuracy: 0.7781 - val_loss: 0.7566 - val_accuracy: 0.7661\n",
      "Epoch 6/40\n",
      "6698/6698 [==============================] - 1s 141us/step - loss: 0.5891 - accuracy: 0.7781 - val_loss: 0.7567 - val_accuracy: 0.7661\n",
      "Epoch 7/40\n",
      "6698/6698 [==============================] - 1s 145us/step - loss: 0.5889 - accuracy: 0.7781 - val_loss: 0.7569 - val_accuracy: 0.7661\n",
      "Epoch 8/40\n",
      "6698/6698 [==============================] - 1s 141us/step - loss: 0.5889 - accuracy: 0.7781 - val_loss: 0.7570 - val_accuracy: 0.7661\n",
      "Epoch 9/40\n",
      "6698/6698 [==============================] - 1s 140us/step - loss: 0.5889 - accuracy: 0.7781 - val_loss: 0.7571 - val_accuracy: 0.7661\n",
      "Epoch 10/40\n",
      "6698/6698 [==============================] - 1s 140us/step - loss: 0.5889 - accuracy: 0.7781 - val_loss: 0.7571 - val_accuracy: 0.7661\n",
      "Epoch 11/40\n",
      "6698/6698 [==============================] - 1s 146us/step - loss: 0.5889 - accuracy: 0.7781 - val_loss: 0.7570 - val_accuracy: 0.7661\n",
      "Epoch 12/40\n",
      "6698/6698 [==============================] - 1s 148us/step - loss: 0.5889 - accuracy: 0.7781 - val_loss: 0.7570 - val_accuracy: 0.7661\n",
      "Epoch 13/40\n",
      "6698/6698 [==============================] - 1s 140us/step - loss: 0.5889 - accuracy: 0.7781 - val_loss: 0.7570 - val_accuracy: 0.7661\n",
      "Epoch 14/40\n",
      "6698/6698 [==============================] - 1s 140us/step - loss: 0.5889 - accuracy: 0.7781 - val_loss: 0.7571 - val_accuracy: 0.7661\n",
      "Epoch 15/40\n",
      "6698/6698 [==============================] - 1s 139us/step - loss: 0.5889 - accuracy: 0.7781 - val_loss: 0.7571 - val_accuracy: 0.7661\n",
      "Epoch 16/40\n",
      "6698/6698 [==============================] - 1s 149us/step - loss: 0.5889 - accuracy: 0.7781 - val_loss: 0.7570 - val_accuracy: 0.7661\n",
      "Epoch 17/40\n",
      "6698/6698 [==============================] - 1s 154us/step - loss: 0.5889 - accuracy: 0.7781 - val_loss: 0.7570 - val_accuracy: 0.7661\n",
      "Epoch 18/40\n",
      "6698/6698 [==============================] - 1s 140us/step - loss: 0.5889 - accuracy: 0.7781 - val_loss: 0.7570 - val_accuracy: 0.7661\n",
      "Epoch 19/40\n",
      "6698/6698 [==============================] - 1s 151us/step - loss: 0.5889 - accuracy: 0.7781 - val_loss: 0.7571 - val_accuracy: 0.7661\n",
      "Epoch 20/40\n",
      "6698/6698 [==============================] - 1s 141us/step - loss: 0.5889 - accuracy: 0.7781 - val_loss: 0.7571 - val_accuracy: 0.7661\n",
      "Epoch 21/40\n",
      "6698/6698 [==============================] - 1s 139us/step - loss: 0.5889 - accuracy: 0.7781 - val_loss: 0.7570 - val_accuracy: 0.7661\n",
      "Epoch 22/40\n",
      "6698/6698 [==============================] - 1s 147us/step - loss: 0.5889 - accuracy: 0.7781 - val_loss: 0.7570 - val_accuracy: 0.7661\n",
      "Epoch 23/40\n",
      "6698/6698 [==============================] - 1s 144us/step - loss: 0.5889 - accuracy: 0.7781 - val_loss: 0.7571 - val_accuracy: 0.7661\n",
      "Epoch 24/40\n",
      "6698/6698 [==============================] - 1s 143us/step - loss: 0.5889 - accuracy: 0.7781 - val_loss: 0.7571 - val_accuracy: 0.7661\n",
      "Epoch 25/40\n",
      "6698/6698 [==============================] - 1s 148us/step - loss: 0.5889 - accuracy: 0.7781 - val_loss: 0.7571 - val_accuracy: 0.7661\n",
      "Epoch 26/40\n",
      "6698/6698 [==============================] - 1s 144us/step - loss: 0.5889 - accuracy: 0.7781 - val_loss: 0.7571 - val_accuracy: 0.7661\n",
      "Epoch 27/40\n",
      "6698/6698 [==============================] - 1s 146us/step - loss: 0.5889 - accuracy: 0.7781 - val_loss: 0.7570 - val_accuracy: 0.7661\n",
      "Epoch 28/40\n",
      "6698/6698 [==============================] - 1s 195us/step - loss: 0.5889 - accuracy: 0.7781 - val_loss: 0.7570 - val_accuracy: 0.7661\n",
      "Epoch 29/40\n",
      "6698/6698 [==============================] - 1s 190us/step - loss: 0.5889 - accuracy: 0.7781 - val_loss: 0.7570 - val_accuracy: 0.7661\n",
      "Epoch 30/40\n",
      "6698/6698 [==============================] - 1s 195us/step - loss: 0.5889 - accuracy: 0.7781 - val_loss: 0.7570 - val_accuracy: 0.7661\n",
      "Epoch 31/40\n",
      "6698/6698 [==============================] - 1s 191us/step - loss: 0.5889 - accuracy: 0.7781 - val_loss: 0.7570 - val_accuracy: 0.7661\n",
      "Epoch 32/40\n",
      "6698/6698 [==============================] - 1s 194us/step - loss: 0.5889 - accuracy: 0.7781 - val_loss: 0.7570 - val_accuracy: 0.7661\n",
      "Epoch 33/40\n",
      "6698/6698 [==============================] - 1s 184us/step - loss: 0.5889 - accuracy: 0.7781 - val_loss: 0.7569 - val_accuracy: 0.7661\n",
      "Epoch 34/40\n",
      "6698/6698 [==============================] - 1s 182us/step - loss: 0.5889 - accuracy: 0.7781 - val_loss: 0.7571 - val_accuracy: 0.7661\n",
      "Epoch 35/40\n",
      "6698/6698 [==============================] - 1s 204us/step - loss: 0.5889 - accuracy: 0.7781 - val_loss: 0.7571 - val_accuracy: 0.7661\n",
      "Epoch 36/40\n",
      "6698/6698 [==============================] - 1s 158us/step - loss: 0.5889 - accuracy: 0.7781 - val_loss: 0.7571 - val_accuracy: 0.7661\n",
      "Epoch 37/40\n",
      "6698/6698 [==============================] - 1s 139us/step - loss: 0.5889 - accuracy: 0.7781 - val_loss: 0.7570 - val_accuracy: 0.7661\n",
      "Epoch 38/40\n",
      "6698/6698 [==============================] - 1s 157us/step - loss: 0.5889 - accuracy: 0.7781 - val_loss: 0.7570 - val_accuracy: 0.7661\n",
      "Epoch 39/40\n",
      "6698/6698 [==============================] - 1s 142us/step - loss: 0.5889 - accuracy: 0.7781 - val_loss: 0.7570 - val_accuracy: 0.7661\n",
      "Epoch 40/40\n",
      "6698/6698 [==============================] - 1s 142us/step - loss: 0.5889 - accuracy: 0.7781 - val_loss: 0.7571 - val_accuracy: 0.7661\n",
      "9998/9998 [==============================] - 0s 17us/step\n",
      "accuracy: 77.42%\n"
     ]
    },
    {
     "name": "stderr",
     "output_type": "stream",
     "text": [
      "/usr/local/lib/python3.6/dist-packages/ipykernel_launcher.py:23: UserWarning: Update your `Dense` call to the Keras 2 API: `Dense(22, input_dim=23, activation=\"relu\", activity_regularizer=<keras.reg..., kernel_initializer=\"uniform\")`\n"
     ]
    },
    {
     "name": "stdout",
     "output_type": "stream",
     "text": [
      "Train on 6698 samples, validate on 3300 samples\n",
      "Epoch 1/40\n",
      "6698/6698 [==============================] - 1s 162us/step - loss: 382.8046 - accuracy: 0.7749 - val_loss: 1.1568 - val_accuracy: 0.7661\n",
      "Epoch 2/40\n",
      "6698/6698 [==============================] - 1s 143us/step - loss: 2.2750 - accuracy: 0.7781 - val_loss: 0.9236 - val_accuracy: 0.7661\n",
      "Epoch 3/40\n",
      "6698/6698 [==============================] - 1s 143us/step - loss: 1.3971 - accuracy: 0.7781 - val_loss: 0.8638 - val_accuracy: 0.7661\n",
      "Epoch 4/40\n",
      "6698/6698 [==============================] - 1s 139us/step - loss: 0.8077 - accuracy: 0.7781 - val_loss: 0.8514 - val_accuracy: 0.7661\n",
      "Epoch 5/40\n",
      "6698/6698 [==============================] - 1s 163us/step - loss: 0.7465 - accuracy: 0.7781 - val_loss: 0.8482 - val_accuracy: 0.7661\n",
      "Epoch 6/40\n",
      "6698/6698 [==============================] - 1s 144us/step - loss: 0.7080 - accuracy: 0.7781 - val_loss: 0.8458 - val_accuracy: 0.7661\n",
      "Epoch 7/40\n",
      "6698/6698 [==============================] - 1s 140us/step - loss: 0.6690 - accuracy: 0.7781 - val_loss: 0.8454 - val_accuracy: 0.7661\n",
      "Epoch 8/40\n",
      "6698/6698 [==============================] - 1s 138us/step - loss: 0.6366 - accuracy: 0.7781 - val_loss: 0.8445 - val_accuracy: 0.7661\n",
      "Epoch 9/40\n",
      "6698/6698 [==============================] - 1s 138us/step - loss: 0.6036 - accuracy: 0.7781 - val_loss: 0.8445 - val_accuracy: 0.7661\n",
      "Epoch 10/40\n",
      "6698/6698 [==============================] - 1s 143us/step - loss: 0.5889 - accuracy: 0.7781 - val_loss: 0.8446 - val_accuracy: 0.7661\n",
      "Epoch 11/40\n",
      "6698/6698 [==============================] - 1s 152us/step - loss: 0.5889 - accuracy: 0.7781 - val_loss: 0.8445 - val_accuracy: 0.7661\n",
      "Epoch 12/40\n",
      "6698/6698 [==============================] - 1s 152us/step - loss: 0.5889 - accuracy: 0.7781 - val_loss: 0.8446 - val_accuracy: 0.7661\n",
      "Epoch 13/40\n",
      "6698/6698 [==============================] - 1s 136us/step - loss: 0.5889 - accuracy: 0.7781 - val_loss: 0.8446 - val_accuracy: 0.7661\n",
      "Epoch 14/40\n",
      "6698/6698 [==============================] - 1s 147us/step - loss: 0.5889 - accuracy: 0.7781 - val_loss: 0.8446 - val_accuracy: 0.7661\n",
      "Epoch 15/40\n",
      "6698/6698 [==============================] - 1s 142us/step - loss: 0.5889 - accuracy: 0.7781 - val_loss: 0.8446 - val_accuracy: 0.7661\n",
      "Epoch 16/40\n",
      "6698/6698 [==============================] - 1s 145us/step - loss: 0.5889 - accuracy: 0.7781 - val_loss: 0.8446 - val_accuracy: 0.7661\n",
      "Epoch 17/40\n",
      "6698/6698 [==============================] - 1s 139us/step - loss: 0.5889 - accuracy: 0.7781 - val_loss: 0.8447 - val_accuracy: 0.7661\n",
      "Epoch 18/40\n",
      "6698/6698 [==============================] - 1s 148us/step - loss: 0.5889 - accuracy: 0.7781 - val_loss: 0.8448 - val_accuracy: 0.7661\n",
      "Epoch 19/40\n",
      "6698/6698 [==============================] - 1s 140us/step - loss: 0.5889 - accuracy: 0.7781 - val_loss: 0.8446 - val_accuracy: 0.7661\n",
      "Epoch 20/40\n",
      "6698/6698 [==============================] - 1s 160us/step - loss: 0.5889 - accuracy: 0.7781 - val_loss: 0.8447 - val_accuracy: 0.7661\n",
      "Epoch 21/40\n",
      "6698/6698 [==============================] - 1s 155us/step - loss: 0.5889 - accuracy: 0.7781 - val_loss: 0.8446 - val_accuracy: 0.7661\n",
      "Epoch 22/40\n",
      "6698/6698 [==============================] - 1s 152us/step - loss: 0.5889 - accuracy: 0.7781 - val_loss: 0.8445 - val_accuracy: 0.7661\n",
      "Epoch 23/40\n",
      "6698/6698 [==============================] - 1s 152us/step - loss: 0.5889 - accuracy: 0.7781 - val_loss: 0.8446 - val_accuracy: 0.7661\n",
      "Epoch 24/40\n",
      "6698/6698 [==============================] - 1s 151us/step - loss: 0.5889 - accuracy: 0.7781 - val_loss: 0.8447 - val_accuracy: 0.7661\n",
      "Epoch 25/40\n",
      "6698/6698 [==============================] - 1s 155us/step - loss: 0.5889 - accuracy: 0.7781 - val_loss: 0.8447 - val_accuracy: 0.7661\n",
      "Epoch 26/40\n",
      "6698/6698 [==============================] - 1s 142us/step - loss: 0.5889 - accuracy: 0.7781 - val_loss: 0.8447 - val_accuracy: 0.7661\n",
      "Epoch 27/40\n",
      "6698/6698 [==============================] - 1s 147us/step - loss: 0.5889 - accuracy: 0.7781 - val_loss: 0.8447 - val_accuracy: 0.7661\n",
      "Epoch 28/40\n",
      "6698/6698 [==============================] - 1s 143us/step - loss: 0.5889 - accuracy: 0.7781 - val_loss: 0.8446 - val_accuracy: 0.7661\n",
      "Epoch 29/40\n",
      "6698/6698 [==============================] - 1s 146us/step - loss: 0.5889 - accuracy: 0.7781 - val_loss: 0.8447 - val_accuracy: 0.7661\n",
      "Epoch 30/40\n",
      "6698/6698 [==============================] - 1s 142us/step - loss: 0.5889 - accuracy: 0.7781 - val_loss: 0.8447 - val_accuracy: 0.7661\n",
      "Epoch 31/40\n",
      "6698/6698 [==============================] - 1s 138us/step - loss: 0.5889 - accuracy: 0.7781 - val_loss: 0.8446 - val_accuracy: 0.7661\n",
      "Epoch 32/40\n",
      "6698/6698 [==============================] - 1s 160us/step - loss: 0.5889 - accuracy: 0.7781 - val_loss: 0.8446 - val_accuracy: 0.7661\n",
      "Epoch 33/40\n",
      "6698/6698 [==============================] - 1s 139us/step - loss: 0.5889 - accuracy: 0.7781 - val_loss: 0.8446 - val_accuracy: 0.7661\n",
      "Epoch 34/40\n",
      "6698/6698 [==============================] - 1s 151us/step - loss: 0.5889 - accuracy: 0.7781 - val_loss: 0.8448 - val_accuracy: 0.7661\n",
      "Epoch 35/40\n",
      "6698/6698 [==============================] - 1s 141us/step - loss: 0.5889 - accuracy: 0.7781 - val_loss: 0.8448 - val_accuracy: 0.7661\n",
      "Epoch 36/40\n",
      "6698/6698 [==============================] - 1s 138us/step - loss: 0.5889 - accuracy: 0.7781 - val_loss: 0.8448 - val_accuracy: 0.7661\n",
      "Epoch 37/40\n",
      "6698/6698 [==============================] - 1s 142us/step - loss: 0.5889 - accuracy: 0.7781 - val_loss: 0.8447 - val_accuracy: 0.7661\n",
      "Epoch 38/40\n",
      "6698/6698 [==============================] - 1s 145us/step - loss: 0.5889 - accuracy: 0.7781 - val_loss: 0.8448 - val_accuracy: 0.7661\n",
      "Epoch 39/40\n",
      "6698/6698 [==============================] - 1s 149us/step - loss: 0.5889 - accuracy: 0.7781 - val_loss: 0.8447 - val_accuracy: 0.7661\n",
      "Epoch 40/40\n",
      "6698/6698 [==============================] - 1s 138us/step - loss: 0.5889 - accuracy: 0.7781 - val_loss: 0.8447 - val_accuracy: 0.7661\n",
      "9998/9998 [==============================] - 0s 17us/step\n",
      "accuracy: 77.42%\n",
      "Train on 6698 samples, validate on 3300 samples\n",
      "Epoch 1/40\n",
      "6698/6698 [==============================] - 1s 153us/step - loss: 319.9769 - accuracy: 0.7514 - val_loss: 1.0045 - val_accuracy: 0.7661\n",
      "Epoch 2/40\n",
      "6698/6698 [==============================] - 1s 148us/step - loss: 2.7675 - accuracy: 0.7783 - val_loss: 0.8525 - val_accuracy: 0.7661\n",
      "Epoch 3/40\n",
      "6698/6698 [==============================] - 1s 146us/step - loss: 0.9647 - accuracy: 0.7781 - val_loss: 0.7907 - val_accuracy: 0.7661\n",
      "Epoch 4/40\n",
      "6698/6698 [==============================] - 1s 141us/step - loss: 0.8619 - accuracy: 0.7781 - val_loss: 0.7760 - val_accuracy: 0.7661\n",
      "Epoch 5/40\n",
      "6698/6698 [==============================] - 1s 144us/step - loss: 0.7757 - accuracy: 0.7781 - val_loss: 0.7689 - val_accuracy: 0.7661\n",
      "Epoch 6/40\n",
      "6698/6698 [==============================] - 1s 147us/step - loss: 0.6935 - accuracy: 0.7781 - val_loss: 0.7678 - val_accuracy: 0.7661\n",
      "Epoch 7/40\n",
      "6698/6698 [==============================] - 1s 154us/step - loss: 0.6179 - accuracy: 0.7781 - val_loss: 0.7672 - val_accuracy: 0.7661\n",
      "Epoch 8/40\n",
      "6698/6698 [==============================] - 1s 152us/step - loss: 0.5937 - accuracy: 0.7781 - val_loss: 0.7673 - val_accuracy: 0.7661\n",
      "Epoch 9/40\n",
      "6698/6698 [==============================] - 1s 155us/step - loss: 0.5889 - accuracy: 0.7781 - val_loss: 0.7674 - val_accuracy: 0.7661\n",
      "Epoch 10/40\n",
      "6698/6698 [==============================] - 1s 142us/step - loss: 0.5889 - accuracy: 0.7781 - val_loss: 0.7675 - val_accuracy: 0.7661\n",
      "Epoch 11/40\n",
      "6698/6698 [==============================] - 1s 138us/step - loss: 0.5889 - accuracy: 0.7781 - val_loss: 0.7674 - val_accuracy: 0.7661\n",
      "Epoch 12/40\n",
      "6698/6698 [==============================] - 1s 138us/step - loss: 0.5889 - accuracy: 0.7781 - val_loss: 0.7673 - val_accuracy: 0.7661\n",
      "Epoch 13/40\n",
      "6698/6698 [==============================] - 1s 140us/step - loss: 0.5889 - accuracy: 0.7781 - val_loss: 0.7674 - val_accuracy: 0.7661\n",
      "Epoch 14/40\n",
      "6698/6698 [==============================] - 1s 140us/step - loss: 0.5889 - accuracy: 0.7781 - val_loss: 0.7674 - val_accuracy: 0.7661\n",
      "Epoch 15/40\n",
      "6698/6698 [==============================] - 1s 153us/step - loss: 0.5889 - accuracy: 0.7781 - val_loss: 0.7674 - val_accuracy: 0.7661\n",
      "Epoch 16/40\n",
      "6698/6698 [==============================] - 1s 155us/step - loss: 0.5889 - accuracy: 0.7781 - val_loss: 0.7674 - val_accuracy: 0.7661\n",
      "Epoch 17/40\n",
      "6698/6698 [==============================] - 1s 141us/step - loss: 0.5889 - accuracy: 0.7781 - val_loss: 0.7675 - val_accuracy: 0.7661\n",
      "Epoch 18/40\n",
      "6698/6698 [==============================] - 1s 137us/step - loss: 0.5889 - accuracy: 0.7781 - val_loss: 0.7674 - val_accuracy: 0.7661\n",
      "Epoch 19/40\n",
      "6698/6698 [==============================] - 1s 158us/step - loss: 0.5889 - accuracy: 0.7781 - val_loss: 0.7674 - val_accuracy: 0.7661\n",
      "Epoch 20/40\n",
      "6698/6698 [==============================] - 1s 151us/step - loss: 0.5889 - accuracy: 0.7781 - val_loss: 0.7674 - val_accuracy: 0.7661\n",
      "Epoch 21/40\n",
      "6698/6698 [==============================] - 1s 137us/step - loss: 0.5889 - accuracy: 0.7781 - val_loss: 0.7674 - val_accuracy: 0.7661\n",
      "Epoch 22/40\n",
      "6698/6698 [==============================] - 1s 158us/step - loss: 0.5889 - accuracy: 0.7781 - val_loss: 0.7674 - val_accuracy: 0.7661\n",
      "Epoch 23/40\n",
      "6698/6698 [==============================] - 1s 155us/step - loss: 0.5889 - accuracy: 0.7781 - val_loss: 0.7674 - val_accuracy: 0.7661\n",
      "Epoch 24/40\n",
      "6698/6698 [==============================] - 1s 147us/step - loss: 0.5889 - accuracy: 0.7781 - val_loss: 0.7674 - val_accuracy: 0.7661\n",
      "Epoch 25/40\n",
      "6698/6698 [==============================] - 1s 163us/step - loss: 0.5889 - accuracy: 0.7781 - val_loss: 0.7674 - val_accuracy: 0.7661\n",
      "Epoch 26/40\n",
      "6698/6698 [==============================] - 1s 155us/step - loss: 0.5889 - accuracy: 0.7781 - val_loss: 0.7673 - val_accuracy: 0.7661\n",
      "Epoch 27/40\n",
      "6698/6698 [==============================] - 1s 168us/step - loss: 0.5889 - accuracy: 0.7781 - val_loss: 0.7674 - val_accuracy: 0.7661\n",
      "Epoch 28/40\n",
      "6698/6698 [==============================] - 1s 155us/step - loss: 0.5889 - accuracy: 0.7781 - val_loss: 0.7674 - val_accuracy: 0.7661\n",
      "Epoch 29/40\n",
      "6698/6698 [==============================] - 1s 153us/step - loss: 0.5889 - accuracy: 0.7781 - val_loss: 0.7674 - val_accuracy: 0.7661\n",
      "Epoch 30/40\n",
      "6698/6698 [==============================] - 1s 151us/step - loss: 0.5889 - accuracy: 0.7781 - val_loss: 0.7674 - val_accuracy: 0.7661\n",
      "Epoch 31/40\n",
      "6698/6698 [==============================] - 1s 155us/step - loss: 0.5889 - accuracy: 0.7781 - val_loss: 0.7674 - val_accuracy: 0.7661\n",
      "Epoch 32/40\n",
      "6698/6698 [==============================] - 1s 157us/step - loss: 0.5889 - accuracy: 0.7781 - val_loss: 0.7674 - val_accuracy: 0.7661\n",
      "Epoch 33/40\n",
      "6698/6698 [==============================] - 1s 152us/step - loss: 0.5889 - accuracy: 0.7781 - val_loss: 0.7675 - val_accuracy: 0.7661\n",
      "Epoch 34/40\n",
      "6698/6698 [==============================] - 1s 161us/step - loss: 0.5889 - accuracy: 0.7781 - val_loss: 0.7674 - val_accuracy: 0.7661\n",
      "Epoch 35/40\n",
      "6698/6698 [==============================] - 1s 157us/step - loss: 0.5889 - accuracy: 0.7781 - val_loss: 0.7673 - val_accuracy: 0.7661\n",
      "Epoch 36/40\n",
      "6698/6698 [==============================] - 1s 142us/step - loss: 0.5889 - accuracy: 0.7781 - val_loss: 0.7674 - val_accuracy: 0.7661\n",
      "Epoch 37/40\n",
      "6698/6698 [==============================] - 1s 146us/step - loss: 0.5889 - accuracy: 0.7781 - val_loss: 0.7675 - val_accuracy: 0.7661\n",
      "Epoch 38/40\n",
      "6698/6698 [==============================] - 1s 139us/step - loss: 0.5889 - accuracy: 0.7781 - val_loss: 0.7675 - val_accuracy: 0.7661\n",
      "Epoch 39/40\n",
      "6698/6698 [==============================] - 1s 137us/step - loss: 0.5889 - accuracy: 0.7781 - val_loss: 0.7675 - val_accuracy: 0.7661\n",
      "Epoch 40/40\n",
      "6698/6698 [==============================] - 1s 145us/step - loss: 0.5889 - accuracy: 0.7781 - val_loss: 0.7675 - val_accuracy: 0.7661\n",
      "9998/9998 [==============================] - 0s 16us/step\n",
      "accuracy: 77.42%\n"
     ]
    },
    {
     "name": "stderr",
     "output_type": "stream",
     "text": [
      "/usr/local/lib/python3.6/dist-packages/ipykernel_launcher.py:23: UserWarning: Update your `Dense` call to the Keras 2 API: `Dense(23, input_dim=23, activation=\"relu\", activity_regularizer=<keras.reg..., kernel_initializer=\"uniform\")`\n"
     ]
    },
    {
     "name": "stdout",
     "output_type": "stream",
     "text": [
      "Train on 6698 samples, validate on 3300 samples\n",
      "Epoch 1/40\n",
      "6698/6698 [==============================] - 1s 153us/step - loss: 378.7100 - accuracy: 0.7444 - val_loss: 2.5112 - val_accuracy: 0.7664\n",
      "Epoch 2/40\n",
      "6698/6698 [==============================] - 1s 138us/step - loss: 1.6036 - accuracy: 0.7781 - val_loss: 1.7170 - val_accuracy: 0.7661\n",
      "Epoch 3/40\n",
      "6698/6698 [==============================] - 1s 141us/step - loss: 0.7937 - accuracy: 0.7781 - val_loss: 1.6304 - val_accuracy: 0.7658\n",
      "Epoch 4/40\n",
      "6698/6698 [==============================] - 1s 138us/step - loss: 0.7432 - accuracy: 0.7781 - val_loss: 1.6464 - val_accuracy: 0.7658\n",
      "Epoch 5/40\n",
      "6698/6698 [==============================] - 1s 136us/step - loss: 0.7033 - accuracy: 0.7781 - val_loss: 1.6705 - val_accuracy: 0.7661\n",
      "Epoch 6/40\n",
      "6698/6698 [==============================] - 1s 135us/step - loss: 0.6616 - accuracy: 0.7781 - val_loss: 1.7104 - val_accuracy: 0.7661\n",
      "Epoch 7/40\n",
      "6698/6698 [==============================] - 1s 138us/step - loss: 0.6225 - accuracy: 0.7781 - val_loss: 1.7556 - val_accuracy: 0.7661\n",
      "Epoch 8/40\n",
      "6698/6698 [==============================] - 1s 150us/step - loss: 0.5909 - accuracy: 0.7781 - val_loss: 1.7557 - val_accuracy: 0.7661\n",
      "Epoch 9/40\n",
      "6698/6698 [==============================] - 1s 143us/step - loss: 0.5889 - accuracy: 0.7781 - val_loss: 1.7558 - val_accuracy: 0.7661\n",
      "Epoch 10/40\n",
      "6698/6698 [==============================] - 1s 136us/step - loss: 0.5889 - accuracy: 0.7781 - val_loss: 1.7558 - val_accuracy: 0.7661\n",
      "Epoch 11/40\n",
      "6698/6698 [==============================] - 1s 152us/step - loss: 0.5889 - accuracy: 0.7781 - val_loss: 1.7558 - val_accuracy: 0.7661\n",
      "Epoch 12/40\n",
      "6698/6698 [==============================] - 1s 144us/step - loss: 0.5889 - accuracy: 0.7781 - val_loss: 1.7557 - val_accuracy: 0.7661\n",
      "Epoch 13/40\n",
      "6698/6698 [==============================] - 1s 136us/step - loss: 0.5889 - accuracy: 0.7781 - val_loss: 1.7558 - val_accuracy: 0.7661\n",
      "Epoch 14/40\n",
      "6698/6698 [==============================] - 1s 142us/step - loss: 0.5889 - accuracy: 0.7781 - val_loss: 1.7558 - val_accuracy: 0.7661\n",
      "Epoch 15/40\n",
      "6698/6698 [==============================] - 1s 141us/step - loss: 0.5889 - accuracy: 0.7781 - val_loss: 1.7558 - val_accuracy: 0.7661\n",
      "Epoch 16/40\n",
      "6698/6698 [==============================] - 1s 137us/step - loss: 0.5889 - accuracy: 0.7781 - val_loss: 1.7558 - val_accuracy: 0.7661\n",
      "Epoch 17/40\n",
      "6698/6698 [==============================] - 1s 137us/step - loss: 0.5889 - accuracy: 0.7781 - val_loss: 1.7557 - val_accuracy: 0.7661\n",
      "Epoch 18/40\n",
      "6698/6698 [==============================] - 1s 138us/step - loss: 0.5889 - accuracy: 0.7781 - val_loss: 1.7558 - val_accuracy: 0.7661\n",
      "Epoch 19/40\n",
      "6698/6698 [==============================] - 1s 138us/step - loss: 0.5889 - accuracy: 0.7781 - val_loss: 1.7558 - val_accuracy: 0.7661\n",
      "Epoch 20/40\n",
      "6698/6698 [==============================] - 1s 144us/step - loss: 0.5889 - accuracy: 0.7781 - val_loss: 1.7559 - val_accuracy: 0.7661\n",
      "Epoch 21/40\n",
      "6698/6698 [==============================] - 1s 137us/step - loss: 0.5889 - accuracy: 0.7781 - val_loss: 1.7558 - val_accuracy: 0.7661\n",
      "Epoch 22/40\n",
      "6698/6698 [==============================] - 1s 136us/step - loss: 0.5889 - accuracy: 0.7781 - val_loss: 1.7558 - val_accuracy: 0.7661\n",
      "Epoch 23/40\n",
      "6698/6698 [==============================] - 1s 142us/step - loss: 0.5889 - accuracy: 0.7781 - val_loss: 1.7557 - val_accuracy: 0.7661\n",
      "Epoch 24/40\n",
      "6698/6698 [==============================] - 1s 139us/step - loss: 0.5889 - accuracy: 0.7781 - val_loss: 1.7558 - val_accuracy: 0.7661\n",
      "Epoch 25/40\n",
      "6698/6698 [==============================] - 1s 137us/step - loss: 0.5889 - accuracy: 0.7781 - val_loss: 1.7558 - val_accuracy: 0.7661\n",
      "Epoch 26/40\n",
      "6698/6698 [==============================] - 1s 139us/step - loss: 0.5889 - accuracy: 0.7781 - val_loss: 1.7559 - val_accuracy: 0.7661\n",
      "Epoch 27/40\n",
      "6698/6698 [==============================] - 1s 138us/step - loss: 0.5889 - accuracy: 0.7781 - val_loss: 1.7558 - val_accuracy: 0.7661\n",
      "Epoch 28/40\n",
      "6698/6698 [==============================] - 1s 140us/step - loss: 0.5889 - accuracy: 0.7781 - val_loss: 1.7558 - val_accuracy: 0.7661\n",
      "Epoch 29/40\n",
      "6698/6698 [==============================] - 1s 140us/step - loss: 0.5889 - accuracy: 0.7781 - val_loss: 1.7559 - val_accuracy: 0.7661\n",
      "Epoch 30/40\n",
      "6698/6698 [==============================] - 1s 142us/step - loss: 0.5889 - accuracy: 0.7781 - val_loss: 1.7558 - val_accuracy: 0.7661\n",
      "Epoch 31/40\n",
      "6698/6698 [==============================] - 1s 142us/step - loss: 0.5889 - accuracy: 0.7781 - val_loss: 1.7558 - val_accuracy: 0.7661\n",
      "Epoch 32/40\n",
      "6698/6698 [==============================] - 1s 137us/step - loss: 0.5889 - accuracy: 0.7781 - val_loss: 1.7558 - val_accuracy: 0.7661\n",
      "Epoch 33/40\n",
      "6698/6698 [==============================] - 1s 136us/step - loss: 0.5889 - accuracy: 0.7781 - val_loss: 1.7558 - val_accuracy: 0.7661\n",
      "Epoch 34/40\n",
      "6698/6698 [==============================] - 1s 146us/step - loss: 0.5889 - accuracy: 0.7781 - val_loss: 1.7558 - val_accuracy: 0.7661\n",
      "Epoch 35/40\n",
      "6698/6698 [==============================] - 1s 138us/step - loss: 0.5889 - accuracy: 0.7781 - val_loss: 1.7557 - val_accuracy: 0.7661\n",
      "Epoch 36/40\n",
      "6698/6698 [==============================] - 1s 152us/step - loss: 0.5889 - accuracy: 0.7781 - val_loss: 1.7557 - val_accuracy: 0.7661\n",
      "Epoch 37/40\n",
      "6698/6698 [==============================] - 1s 160us/step - loss: 0.5889 - accuracy: 0.7781 - val_loss: 1.7558 - val_accuracy: 0.7661\n",
      "Epoch 38/40\n",
      "6698/6698 [==============================] - 1s 153us/step - loss: 0.5889 - accuracy: 0.7781 - val_loss: 1.7557 - val_accuracy: 0.7661\n",
      "Epoch 39/40\n",
      "6698/6698 [==============================] - 1s 164us/step - loss: 0.5889 - accuracy: 0.7781 - val_loss: 1.7558 - val_accuracy: 0.7661\n",
      "Epoch 40/40\n",
      "6698/6698 [==============================] - 1s 170us/step - loss: 0.5889 - accuracy: 0.7781 - val_loss: 1.7557 - val_accuracy: 0.7661\n",
      "9998/9998 [==============================] - 0s 22us/step\n",
      "accuracy: 77.42%\n",
      "Train on 6698 samples, validate on 3300 samples\n",
      "Epoch 1/40\n",
      "6698/6698 [==============================] - 1s 156us/step - loss: 271.4833 - accuracy: 0.7655 - val_loss: 0.9333 - val_accuracy: 0.7661\n",
      "Epoch 2/40\n",
      "6698/6698 [==============================] - 1s 157us/step - loss: 1.1902 - accuracy: 0.7781 - val_loss: 0.7833 - val_accuracy: 0.7661\n",
      "Epoch 3/40\n",
      "6698/6698 [==============================] - 1s 161us/step - loss: 0.7893 - accuracy: 0.7781 - val_loss: 0.7168 - val_accuracy: 0.7661\n",
      "Epoch 4/40\n",
      "6698/6698 [==============================] - 1s 150us/step - loss: 0.7069 - accuracy: 0.7781 - val_loss: 0.7050 - val_accuracy: 0.7661\n",
      "Epoch 5/40\n",
      "6698/6698 [==============================] - 1s 144us/step - loss: 0.6732 - accuracy: 0.7781 - val_loss: 0.7036 - val_accuracy: 0.7661\n",
      "Epoch 6/40\n",
      "6698/6698 [==============================] - 1s 156us/step - loss: 0.6463 - accuracy: 0.7781 - val_loss: 0.7037 - val_accuracy: 0.7661\n",
      "Epoch 7/40\n",
      "6698/6698 [==============================] - 1s 149us/step - loss: 0.6291 - accuracy: 0.7781 - val_loss: 0.7039 - val_accuracy: 0.7661\n",
      "Epoch 8/40\n",
      "6698/6698 [==============================] - 1s 140us/step - loss: 0.6054 - accuracy: 0.7781 - val_loss: 0.7461 - val_accuracy: 0.7661\n",
      "Epoch 9/40\n",
      "6698/6698 [==============================] - 1s 139us/step - loss: 0.5889 - accuracy: 0.7781 - val_loss: 0.7461 - val_accuracy: 0.7661\n",
      "Epoch 10/40\n",
      "6698/6698 [==============================] - 1s 141us/step - loss: 0.5889 - accuracy: 0.7781 - val_loss: 0.7460 - val_accuracy: 0.7661\n",
      "Epoch 11/40\n",
      "6698/6698 [==============================] - 1s 154us/step - loss: 0.5889 - accuracy: 0.7781 - val_loss: 0.7460 - val_accuracy: 0.7661\n",
      "Epoch 12/40\n",
      "6698/6698 [==============================] - 1s 143us/step - loss: 0.5889 - accuracy: 0.7781 - val_loss: 0.7460 - val_accuracy: 0.7661\n",
      "Epoch 13/40\n",
      "6698/6698 [==============================] - 1s 144us/step - loss: 0.5889 - accuracy: 0.7781 - val_loss: 0.7461 - val_accuracy: 0.7661\n",
      "Epoch 14/40\n",
      "6698/6698 [==============================] - 1s 137us/step - loss: 0.5889 - accuracy: 0.7781 - val_loss: 0.7460 - val_accuracy: 0.7661\n",
      "Epoch 15/40\n",
      "6698/6698 [==============================] - 1s 157us/step - loss: 0.5889 - accuracy: 0.7781 - val_loss: 0.7460 - val_accuracy: 0.7661\n",
      "Epoch 16/40\n",
      "6698/6698 [==============================] - 1s 138us/step - loss: 0.5889 - accuracy: 0.7781 - val_loss: 0.7460 - val_accuracy: 0.7661\n",
      "Epoch 17/40\n",
      "6698/6698 [==============================] - 1s 144us/step - loss: 0.5889 - accuracy: 0.7781 - val_loss: 0.7461 - val_accuracy: 0.7661\n",
      "Epoch 18/40\n",
      "6698/6698 [==============================] - 1s 157us/step - loss: 0.5889 - accuracy: 0.7781 - val_loss: 0.7461 - val_accuracy: 0.7661\n",
      "Epoch 19/40\n",
      "6698/6698 [==============================] - 1s 159us/step - loss: 0.5889 - accuracy: 0.7781 - val_loss: 0.7462 - val_accuracy: 0.7661\n",
      "Epoch 20/40\n",
      "6698/6698 [==============================] - 1s 157us/step - loss: 0.5889 - accuracy: 0.7781 - val_loss: 0.7462 - val_accuracy: 0.7661\n",
      "Epoch 21/40\n",
      "6698/6698 [==============================] - 1s 141us/step - loss: 0.5889 - accuracy: 0.7781 - val_loss: 0.7461 - val_accuracy: 0.7661\n",
      "Epoch 22/40\n",
      "6698/6698 [==============================] - 1s 139us/step - loss: 0.5889 - accuracy: 0.7781 - val_loss: 0.7462 - val_accuracy: 0.7661\n",
      "Epoch 23/40\n",
      "6698/6698 [==============================] - 1s 150us/step - loss: 0.5889 - accuracy: 0.7781 - val_loss: 0.7462 - val_accuracy: 0.7661\n",
      "Epoch 24/40\n",
      "6698/6698 [==============================] - 1s 144us/step - loss: 0.5889 - accuracy: 0.7781 - val_loss: 0.7461 - val_accuracy: 0.7661\n",
      "Epoch 25/40\n",
      "6698/6698 [==============================] - 1s 140us/step - loss: 0.5889 - accuracy: 0.7781 - val_loss: 0.7462 - val_accuracy: 0.7661\n",
      "Epoch 26/40\n",
      "6698/6698 [==============================] - 1s 158us/step - loss: 0.5889 - accuracy: 0.7781 - val_loss: 0.7461 - val_accuracy: 0.7661\n",
      "Epoch 27/40\n",
      "6698/6698 [==============================] - 1s 157us/step - loss: 0.5889 - accuracy: 0.7781 - val_loss: 0.7461 - val_accuracy: 0.7661\n",
      "Epoch 28/40\n",
      "6698/6698 [==============================] - 1s 163us/step - loss: 0.5889 - accuracy: 0.7781 - val_loss: 0.7461 - val_accuracy: 0.7661\n",
      "Epoch 29/40\n",
      "6698/6698 [==============================] - 1s 140us/step - loss: 0.5889 - accuracy: 0.7781 - val_loss: 0.7461 - val_accuracy: 0.7661\n",
      "Epoch 30/40\n",
      "6698/6698 [==============================] - 1s 140us/step - loss: 0.5889 - accuracy: 0.7781 - val_loss: 0.7461 - val_accuracy: 0.7661\n",
      "Epoch 31/40\n",
      "6698/6698 [==============================] - 1s 141us/step - loss: 0.5889 - accuracy: 0.7781 - val_loss: 0.7460 - val_accuracy: 0.7661\n",
      "Epoch 32/40\n",
      "6698/6698 [==============================] - 1s 141us/step - loss: 0.5889 - accuracy: 0.7781 - val_loss: 0.7460 - val_accuracy: 0.7661\n",
      "Epoch 33/40\n",
      "6698/6698 [==============================] - 1s 152us/step - loss: 0.5889 - accuracy: 0.7781 - val_loss: 0.7461 - val_accuracy: 0.7661\n",
      "Epoch 34/40\n",
      "6698/6698 [==============================] - 1s 143us/step - loss: 0.5889 - accuracy: 0.7781 - val_loss: 0.7461 - val_accuracy: 0.7661\n",
      "Epoch 35/40\n",
      "6698/6698 [==============================] - 1s 142us/step - loss: 0.5889 - accuracy: 0.7781 - val_loss: 0.7462 - val_accuracy: 0.7661\n",
      "Epoch 36/40\n",
      "6698/6698 [==============================] - 1s 141us/step - loss: 0.5889 - accuracy: 0.7781 - val_loss: 0.7461 - val_accuracy: 0.7661\n",
      "Epoch 37/40\n",
      "6698/6698 [==============================] - 1s 155us/step - loss: 0.5889 - accuracy: 0.7781 - val_loss: 0.7461 - val_accuracy: 0.7661\n",
      "Epoch 38/40\n",
      "6698/6698 [==============================] - 1s 164us/step - loss: 0.5889 - accuracy: 0.7781 - val_loss: 0.7461 - val_accuracy: 0.7661\n",
      "Epoch 39/40\n",
      "6698/6698 [==============================] - 1s 159us/step - loss: 0.5889 - accuracy: 0.7781 - val_loss: 0.7462 - val_accuracy: 0.7661\n",
      "Epoch 40/40\n",
      "6698/6698 [==============================] - 1s 140us/step - loss: 0.5889 - accuracy: 0.7781 - val_loss: 0.7460 - val_accuracy: 0.7661\n",
      "9998/9998 [==============================] - 0s 17us/step\n",
      "accuracy: 77.42%\n"
     ]
    },
    {
     "name": "stderr",
     "output_type": "stream",
     "text": [
      "/usr/local/lib/python3.6/dist-packages/ipykernel_launcher.py:23: UserWarning: Update your `Dense` call to the Keras 2 API: `Dense(24, input_dim=23, activation=\"relu\", activity_regularizer=<keras.reg..., kernel_initializer=\"uniform\")`\n"
     ]
    },
    {
     "name": "stdout",
     "output_type": "stream",
     "text": [
      "Train on 6698 samples, validate on 3300 samples\n",
      "Epoch 1/40\n",
      "6698/6698 [==============================] - 1s 166us/step - loss: 558.2450 - accuracy: 0.7656 - val_loss: 0.9937 - val_accuracy: 0.7658\n",
      "Epoch 2/40\n",
      "6698/6698 [==============================] - 1s 138us/step - loss: 1.6904 - accuracy: 0.7783 - val_loss: 0.8098 - val_accuracy: 0.7658\n",
      "Epoch 3/40\n",
      "6698/6698 [==============================] - 1s 151us/step - loss: 0.8556 - accuracy: 0.7781 - val_loss: 0.7826 - val_accuracy: 0.7661\n",
      "Epoch 4/40\n",
      "6698/6698 [==============================] - 1s 144us/step - loss: 0.7897 - accuracy: 0.7783 - val_loss: 0.7745 - val_accuracy: 0.7661\n",
      "Epoch 5/40\n",
      "6698/6698 [==============================] - 1s 137us/step - loss: 0.7428 - accuracy: 0.7783 - val_loss: 0.7731 - val_accuracy: 0.7658\n",
      "Epoch 6/40\n",
      "6698/6698 [==============================] - 1s 146us/step - loss: 0.7085 - accuracy: 0.7781 - val_loss: 0.7722 - val_accuracy: 0.7658\n",
      "Epoch 7/40\n",
      "6698/6698 [==============================] - 1s 158us/step - loss: 0.6708 - accuracy: 0.7781 - val_loss: 0.7754 - val_accuracy: 0.7658\n",
      "Epoch 8/40\n",
      "6698/6698 [==============================] - 1s 142us/step - loss: 0.6411 - accuracy: 0.7781 - val_loss: 0.7755 - val_accuracy: 0.7658\n",
      "Epoch 9/40\n",
      "6698/6698 [==============================] - 1s 147us/step - loss: 0.6046 - accuracy: 0.7781 - val_loss: 0.7755 - val_accuracy: 0.7658\n",
      "Epoch 10/40\n",
      "6698/6698 [==============================] - 1s 141us/step - loss: 0.5889 - accuracy: 0.7781 - val_loss: 0.7756 - val_accuracy: 0.7658\n",
      "Epoch 11/40\n",
      "6698/6698 [==============================] - 1s 146us/step - loss: 0.5889 - accuracy: 0.7781 - val_loss: 0.7755 - val_accuracy: 0.7658\n",
      "Epoch 12/40\n",
      "6698/6698 [==============================] - 1s 143us/step - loss: 0.5889 - accuracy: 0.7781 - val_loss: 0.7755 - val_accuracy: 0.7658\n",
      "Epoch 13/40\n",
      "6698/6698 [==============================] - 1s 138us/step - loss: 0.5889 - accuracy: 0.7781 - val_loss: 0.7755 - val_accuracy: 0.7658\n",
      "Epoch 14/40\n",
      "6698/6698 [==============================] - 1s 153us/step - loss: 0.5889 - accuracy: 0.7781 - val_loss: 0.7755 - val_accuracy: 0.7658\n",
      "Epoch 15/40\n",
      "6698/6698 [==============================] - 1s 150us/step - loss: 0.5889 - accuracy: 0.7781 - val_loss: 0.7754 - val_accuracy: 0.7658\n",
      "Epoch 16/40\n",
      "6698/6698 [==============================] - 1s 152us/step - loss: 0.5889 - accuracy: 0.7781 - val_loss: 0.7755 - val_accuracy: 0.7658\n",
      "Epoch 17/40\n",
      "6698/6698 [==============================] - 1s 142us/step - loss: 0.5889 - accuracy: 0.7781 - val_loss: 0.7755 - val_accuracy: 0.7658\n",
      "Epoch 18/40\n",
      "6698/6698 [==============================] - 1s 141us/step - loss: 0.5889 - accuracy: 0.7781 - val_loss: 0.7755 - val_accuracy: 0.7658\n",
      "Epoch 19/40\n",
      "6698/6698 [==============================] - 1s 134us/step - loss: 0.5889 - accuracy: 0.7781 - val_loss: 0.7755 - val_accuracy: 0.7658\n",
      "Epoch 20/40\n",
      "6698/6698 [==============================] - 1s 136us/step - loss: 0.5889 - accuracy: 0.7781 - val_loss: 0.7756 - val_accuracy: 0.7658\n",
      "Epoch 21/40\n",
      "6698/6698 [==============================] - 1s 147us/step - loss: 0.5889 - accuracy: 0.7781 - val_loss: 0.7755 - val_accuracy: 0.7658\n",
      "Epoch 22/40\n",
      "6698/6698 [==============================] - 1s 157us/step - loss: 0.5889 - accuracy: 0.7781 - val_loss: 0.7755 - val_accuracy: 0.7658\n",
      "Epoch 23/40\n",
      "6698/6698 [==============================] - 1s 150us/step - loss: 0.5889 - accuracy: 0.7781 - val_loss: 0.7755 - val_accuracy: 0.7658\n",
      "Epoch 24/40\n",
      "6698/6698 [==============================] - 1s 141us/step - loss: 0.5889 - accuracy: 0.7781 - val_loss: 0.7755 - val_accuracy: 0.7658\n",
      "Epoch 25/40\n",
      "6698/6698 [==============================] - 1s 136us/step - loss: 0.5889 - accuracy: 0.7781 - val_loss: 0.7755 - val_accuracy: 0.7658\n",
      "Epoch 26/40\n",
      "6698/6698 [==============================] - 1s 145us/step - loss: 0.5889 - accuracy: 0.7781 - val_loss: 0.7755 - val_accuracy: 0.7658\n",
      "Epoch 27/40\n",
      "6698/6698 [==============================] - 1s 144us/step - loss: 0.5889 - accuracy: 0.7781 - val_loss: 0.7755 - val_accuracy: 0.7658\n",
      "Epoch 28/40\n",
      "6698/6698 [==============================] - 1s 146us/step - loss: 0.5889 - accuracy: 0.7781 - val_loss: 0.7755 - val_accuracy: 0.7658\n",
      "Epoch 29/40\n",
      "6698/6698 [==============================] - 1s 138us/step - loss: 0.5889 - accuracy: 0.7781 - val_loss: 0.7756 - val_accuracy: 0.7658\n",
      "Epoch 30/40\n",
      "6698/6698 [==============================] - 1s 136us/step - loss: 0.5889 - accuracy: 0.7781 - val_loss: 0.7756 - val_accuracy: 0.7658\n",
      "Epoch 31/40\n",
      "6698/6698 [==============================] - 1s 140us/step - loss: 0.5889 - accuracy: 0.7781 - val_loss: 0.7755 - val_accuracy: 0.7658\n",
      "Epoch 32/40\n",
      "6698/6698 [==============================] - 1s 142us/step - loss: 0.5889 - accuracy: 0.7781 - val_loss: 0.7755 - val_accuracy: 0.7658\n",
      "Epoch 33/40\n",
      "6698/6698 [==============================] - 1s 151us/step - loss: 0.5889 - accuracy: 0.7781 - val_loss: 0.7755 - val_accuracy: 0.7658\n",
      "Epoch 34/40\n",
      "6698/6698 [==============================] - 1s 144us/step - loss: 0.5889 - accuracy: 0.7781 - val_loss: 0.7755 - val_accuracy: 0.7658\n",
      "Epoch 35/40\n",
      "6698/6698 [==============================] - 1s 136us/step - loss: 0.5889 - accuracy: 0.7781 - val_loss: 0.7756 - val_accuracy: 0.7658\n",
      "Epoch 36/40\n",
      "6698/6698 [==============================] - 1s 137us/step - loss: 0.5889 - accuracy: 0.7781 - val_loss: 0.7756 - val_accuracy: 0.7658\n",
      "Epoch 37/40\n",
      "6698/6698 [==============================] - 1s 138us/step - loss: 0.5889 - accuracy: 0.7781 - val_loss: 0.7756 - val_accuracy: 0.7658\n",
      "Epoch 38/40\n",
      "6698/6698 [==============================] - 1s 140us/step - loss: 0.5889 - accuracy: 0.7781 - val_loss: 0.7756 - val_accuracy: 0.7658\n",
      "Epoch 39/40\n",
      "6698/6698 [==============================] - 1s 142us/step - loss: 0.5889 - accuracy: 0.7781 - val_loss: 0.7757 - val_accuracy: 0.7658\n",
      "Epoch 40/40\n",
      "6698/6698 [==============================] - 1s 135us/step - loss: 0.5889 - accuracy: 0.7781 - val_loss: 0.7756 - val_accuracy: 0.7658\n",
      "9998/9998 [==============================] - 0s 17us/step\n",
      "accuracy: 77.41%\n",
      "Train on 6698 samples, validate on 3300 samples\n",
      "Epoch 1/40\n",
      "6698/6698 [==============================] - 1s 155us/step - loss: 662.3201 - accuracy: 0.7677 - val_loss: 1.6269 - val_accuracy: 0.7661\n",
      "Epoch 2/40\n",
      "6698/6698 [==============================] - 1s 135us/step - loss: 3.8337 - accuracy: 0.7783 - val_loss: 0.6672 - val_accuracy: 0.7661\n",
      "Epoch 3/40\n",
      "6698/6698 [==============================] - 1s 134us/step - loss: 0.9907 - accuracy: 0.7781 - val_loss: 0.6330 - val_accuracy: 0.7661\n",
      "Epoch 4/40\n",
      "6698/6698 [==============================] - 1s 143us/step - loss: 0.8775 - accuracy: 0.7781 - val_loss: 0.6252 - val_accuracy: 0.7661\n",
      "Epoch 5/40\n",
      "6698/6698 [==============================] - 1s 156us/step - loss: 0.8253 - accuracy: 0.7781 - val_loss: 0.6243 - val_accuracy: 0.7661\n",
      "Epoch 6/40\n",
      "6698/6698 [==============================] - 1s 159us/step - loss: 0.7914 - accuracy: 0.7781 - val_loss: 0.6244 - val_accuracy: 0.7661\n",
      "Epoch 7/40\n",
      "6698/6698 [==============================] - 1s 158us/step - loss: 0.7566 - accuracy: 0.7781 - val_loss: 0.6246 - val_accuracy: 0.7661\n",
      "Epoch 8/40\n",
      "6698/6698 [==============================] - 1s 141us/step - loss: 0.6903 - accuracy: 0.7781 - val_loss: 0.6247 - val_accuracy: 0.7661\n",
      "Epoch 9/40\n",
      "6698/6698 [==============================] - 1s 141us/step - loss: 0.6387 - accuracy: 0.7781 - val_loss: 0.6264 - val_accuracy: 0.7661\n",
      "Epoch 10/40\n",
      "6698/6698 [==============================] - 1s 154us/step - loss: 0.6053 - accuracy: 0.7781 - val_loss: 0.6248 - val_accuracy: 0.7661\n",
      "Epoch 11/40\n",
      "6698/6698 [==============================] - 1s 143us/step - loss: 0.5889 - accuracy: 0.7781 - val_loss: 0.6248 - val_accuracy: 0.7661\n",
      "Epoch 12/40\n",
      "6698/6698 [==============================] - 1s 140us/step - loss: 0.5889 - accuracy: 0.7781 - val_loss: 0.6247 - val_accuracy: 0.7661\n",
      "Epoch 13/40\n",
      "6698/6698 [==============================] - 1s 156us/step - loss: 0.5889 - accuracy: 0.7781 - val_loss: 0.6247 - val_accuracy: 0.7661\n",
      "Epoch 14/40\n",
      "6698/6698 [==============================] - 1s 147us/step - loss: 0.5889 - accuracy: 0.7781 - val_loss: 0.6248 - val_accuracy: 0.7661\n",
      "Epoch 15/40\n",
      "6698/6698 [==============================] - 1s 141us/step - loss: 0.5889 - accuracy: 0.7781 - val_loss: 0.6247 - val_accuracy: 0.7661\n",
      "Epoch 16/40\n",
      "6698/6698 [==============================] - 1s 146us/step - loss: 0.5889 - accuracy: 0.7781 - val_loss: 0.6247 - val_accuracy: 0.7661\n",
      "Epoch 17/40\n",
      "6698/6698 [==============================] - 1s 140us/step - loss: 0.5889 - accuracy: 0.7781 - val_loss: 0.6248 - val_accuracy: 0.7661\n",
      "Epoch 18/40\n",
      "6698/6698 [==============================] - 1s 157us/step - loss: 0.5889 - accuracy: 0.7781 - val_loss: 0.6248 - val_accuracy: 0.7661\n",
      "Epoch 19/40\n",
      "6698/6698 [==============================] - 1s 144us/step - loss: 0.5889 - accuracy: 0.7781 - val_loss: 0.6248 - val_accuracy: 0.7661\n",
      "Epoch 20/40\n",
      "6698/6698 [==============================] - 1s 158us/step - loss: 0.5889 - accuracy: 0.7781 - val_loss: 0.6247 - val_accuracy: 0.7661\n",
      "Epoch 21/40\n",
      "6698/6698 [==============================] - 1s 145us/step - loss: 0.5889 - accuracy: 0.7781 - val_loss: 0.6247 - val_accuracy: 0.7661\n",
      "Epoch 22/40\n",
      "6698/6698 [==============================] - 1s 144us/step - loss: 0.5889 - accuracy: 0.7781 - val_loss: 0.6247 - val_accuracy: 0.7661\n",
      "Epoch 23/40\n",
      "6698/6698 [==============================] - 1s 154us/step - loss: 0.5889 - accuracy: 0.7781 - val_loss: 0.6248 - val_accuracy: 0.7661\n",
      "Epoch 24/40\n",
      "6698/6698 [==============================] - 1s 145us/step - loss: 0.5889 - accuracy: 0.7781 - val_loss: 0.6248 - val_accuracy: 0.7661\n",
      "Epoch 25/40\n",
      "6698/6698 [==============================] - 1s 140us/step - loss: 0.5889 - accuracy: 0.7781 - val_loss: 0.6247 - val_accuracy: 0.7661\n",
      "Epoch 26/40\n",
      "6698/6698 [==============================] - 1s 142us/step - loss: 0.5889 - accuracy: 0.7781 - val_loss: 0.6247 - val_accuracy: 0.7661\n",
      "Epoch 27/40\n",
      "6698/6698 [==============================] - 1s 140us/step - loss: 0.5889 - accuracy: 0.7781 - val_loss: 0.6247 - val_accuracy: 0.7661\n",
      "Epoch 28/40\n",
      "6698/6698 [==============================] - 1s 140us/step - loss: 0.5889 - accuracy: 0.7781 - val_loss: 0.6247 - val_accuracy: 0.7661\n",
      "Epoch 29/40\n",
      "6698/6698 [==============================] - 1s 143us/step - loss: 0.5889 - accuracy: 0.7781 - val_loss: 0.6247 - val_accuracy: 0.7661\n",
      "Epoch 30/40\n",
      "6698/6698 [==============================] - 1s 145us/step - loss: 0.5889 - accuracy: 0.7781 - val_loss: 0.6247 - val_accuracy: 0.7661\n",
      "Epoch 31/40\n",
      "6698/6698 [==============================] - 1s 141us/step - loss: 0.5889 - accuracy: 0.7781 - val_loss: 0.6247 - val_accuracy: 0.7661\n",
      "Epoch 32/40\n",
      "6698/6698 [==============================] - 1s 143us/step - loss: 0.5889 - accuracy: 0.7781 - val_loss: 0.6247 - val_accuracy: 0.7661\n",
      "Epoch 33/40\n",
      "6698/6698 [==============================] - 1s 156us/step - loss: 0.5889 - accuracy: 0.7781 - val_loss: 0.6248 - val_accuracy: 0.7661\n",
      "Epoch 34/40\n",
      "6698/6698 [==============================] - 1s 139us/step - loss: 0.5889 - accuracy: 0.7781 - val_loss: 0.6248 - val_accuracy: 0.7661\n",
      "Epoch 35/40\n",
      "6698/6698 [==============================] - 1s 139us/step - loss: 0.5889 - accuracy: 0.7781 - val_loss: 0.6246 - val_accuracy: 0.7661\n",
      "Epoch 36/40\n",
      "6698/6698 [==============================] - 1s 146us/step - loss: 0.5889 - accuracy: 0.7781 - val_loss: 0.6247 - val_accuracy: 0.7661\n",
      "Epoch 37/40\n",
      "6698/6698 [==============================] - 1s 153us/step - loss: 0.5889 - accuracy: 0.7781 - val_loss: 0.6248 - val_accuracy: 0.7661\n",
      "Epoch 38/40\n",
      "6698/6698 [==============================] - 1s 160us/step - loss: 0.5889 - accuracy: 0.7781 - val_loss: 0.6248 - val_accuracy: 0.7661\n",
      "Epoch 39/40\n",
      "6698/6698 [==============================] - 1s 151us/step - loss: 0.5889 - accuracy: 0.7781 - val_loss: 0.6248 - val_accuracy: 0.7661\n",
      "Epoch 40/40\n",
      "6698/6698 [==============================] - 1s 143us/step - loss: 0.5889 - accuracy: 0.7781 - val_loss: 0.6247 - val_accuracy: 0.7661\n",
      "9998/9998 [==============================] - 0s 19us/step\n",
      "accuracy: 77.42%\n"
     ]
    }
   ],
   "source": [
    "from keras.models import Sequential\n",
    "from keras.layers import Dense\n",
    "import numpy as np\n",
    "from keras.utils import plot_model\n",
    "from keras import regularizers\n",
    "\n",
    "seednum=7\n",
    "np.random.seed(seednum)\n",
    "dataset = np.loadtxt(\"CreditCardDefaults10k.csv\", delimiter = \",\" , skiprows=2)\n",
    "\n",
    "\n",
    "inputFeatures = dataset[:,0:23]\n",
    "Output = dataset[:,23]\n",
    "\n",
    "print(inputFeatures)\n",
    "print(Output)\n",
    "architecture=[]\n",
    "accuracyy=[]\n",
    "for i in range(21,25) :\n",
    "   for j in range(18,20):\n",
    "     result = \"\"\n",
    "     model=Sequential()\n",
    "     model.add(Dense(i,input_dim=23,init='uniform',activation='relu',activity_regularizer=regularizers.l1(0.03)))\n",
    "     model.add(Dense(j,init='uniform',activation='relu',activity_regularizer=regularizers.l1(0.03)))\n",
    "     model.add(Dense(1,init='uniform',activation='sigmoid',activity_regularizer=regularizers.l1(0.03)))\n",
    "     model.compile(loss='binary_crossentropy',optimizer='adam',metrics=['accuracy'])\n",
    "     model.fit(inputFeatures,Output,validation_split =0.33,nb_epoch=40,batch_size=10) \n",
    "     scores=model.evaluate(inputFeatures,Output)\n",
    "     z=scores[1]*100\n",
    "     print(\"%s: %.2f%%\" % (model.metrics_names[1],z))\n",
    "     accuracyy.append(z)\n",
    "     result += \" 18:\" +str(i) + \" : \"+ str(j)+\":1\"\n",
    "     architecture.append(result)\n",
    "     j=j+1\n",
    "i=i+1\n",
    "\n",
    "\n"
   ]
  },
  {
   "cell_type": "code",
   "execution_count": 31,
   "metadata": {
    "colab": {
     "base_uri": "https://localhost:8080/",
     "height": 591
    },
    "colab_type": "code",
    "executionInfo": {
     "elapsed": 4490,
     "status": "ok",
     "timestamp": 1588663288413,
     "user": {
      "displayName": "manasa pawar",
      "photoUrl": "",
      "userId": "07850461268939422328"
     },
     "user_tz": -330
    },
    "id": "4Nkur9R2kOpz",
    "outputId": "e26d2dd5-49e1-4ef0-9b7e-daa24a3ef1a8"
   },
   "outputs": [
    {
     "name": "stdout",
     "output_type": "stream",
     "text": [
      "dict_keys(['val_loss', 'val_accuracy', 'loss', 'accuracy'])\n"
     ]
    },
    {
     "data": {
      "image/png": "[encoded data removed]",
      "text/plain": [
       "<Figure size 432x288 with 1 Axes>"
      ]
     },
     "metadata": {
      "needs_background": "light",
      "tags": []
     },
     "output_type": "display_data"
    },
    {
     "data": {
      "image/png": "[encoded data removed]",
      "text/plain": [
       "<Figure size 432x288 with 1 Axes>"
      ]
     },
     "metadata": {
      "needs_background": "light",
      "tags": []
     },
     "output_type": "display_data"
    }
   ],
   "source": [
    "# list all data in history\n",
    "print(history.history.keys())\n",
    "# summarize history for accuracy\n",
    "plt.plot(history.history['accuracy'])\n",
    "plt.plot(history.history['val_accuracy'])\n",
    "plt.title('model accuracy')\n",
    "plt.ylabel('accuracy')\n",
    "plt.xlabel('epoch')\n",
    "plt.legend(['train', 'test'], loc='upper left')\n",
    "plt.show()\n",
    "# summarize history for loss\n",
    "plt.plot(history.history['loss'])\n",
    "plt.plot(history.history['val_loss'])\n",
    "plt.title('model loss')\n",
    "plt.ylabel('loss')\n",
    "plt.xlabel('epoch')\n",
    "plt.legend(['train', 'test'], loc='upper left')\n",
    "plt.show()"
   ]
  },
  {
   "cell_type": "code",
   "execution_count": 33,
   "metadata": {
    "colab": {
     "base_uri": "https://localhost:8080/",
     "height": 294
    },
    "colab_type": "code",
    "executionInfo": {
     "elapsed": 4882,
     "status": "ok",
     "timestamp": 1588663346533,
     "user": {
      "displayName": "manasa pawar",
      "photoUrl": "",
      "userId": "07850461268939422328"
     },
     "user_tz": -330
    },
    "id": "0Io6SmZMyKEi",
    "outputId": "67b5373a-c402-41ea-b2a4-daa3f03cfd7d"
   },
   "outputs": [
    {
     "data": {
      "image/png": "[encoded data removed]",
      "text/plain": [
       "<Figure size 432x288 with 1 Axes>"
      ]
     },
     "metadata": {
      "needs_background": "light",
      "tags": []
     },
     "output_type": "display_data"
    }
   ],
   "source": [
    "import matplotlib.pyplot as plt\n",
    "plt.plot(architecture,accuracyy)\n",
    "plt.xlabel(\"ARCHITECTURE\")\n",
    "plt.ylabel(\"ACCURACY\")\n",
    "plt.title(\"Credit_card dataset\")\n",
    "plt.show()"
   ]
  },
  {
   "cell_type": "code",
   "execution_count": 0,
   "metadata": {
    "colab": {},
    "colab_type": "code",
    "id": "bjb4Hene2mpi"
   },
   "outputs": [],
   "source": [
    "print(accuracyy)\n",
    "print(architecture)"
   ]
  },
  {
   "cell_type": "code",
   "execution_count": 17,
   "metadata": {
    "colab": {
     "base_uri": "https://localhost:8080/",
     "height": 34
    },
    "colab_type": "code",
    "executionInfo": {
     "elapsed": 1752,
     "status": "ok",
     "timestamp": 1588658708828,
     "user": {
      "displayName": "manasa pawar",
      "photoUrl": "",
      "userId": "07850461268939422328"
     },
     "user_tz": -330
    },
    "id": "3gLZhWXRnm3-",
    "outputId": "072972ce-a45f-401c-a7c0-7ad4de3734c8"
   },
   "outputs": [
    {
     "name": "stdout",
     "output_type": "stream",
     "text": [
      "77.41548418998718\n"
     ]
    }
   ],
   "source": [
    "print(max(accuracyy))"
   ]
  },
  {
   "cell_type": "code",
   "execution_count": 5,
   "metadata": {
    "colab": {
     "base_uri": "https://localhost:8080/",
     "height": 368
    },
    "colab_type": "code",
    "executionInfo": {
     "elapsed": 2168,
     "status": "ok",
     "timestamp": 1588656993431,
     "user": {
      "displayName": "manasa pawar",
      "photoUrl": "",
      "userId": "07850461268939422328"
     },
     "user_tz": -330
    },
    "id": "I-w-jInPVdup",
    "outputId": "4b8b554e-e1e7-4721-ecd2-0615c66e2ebd"
   },
   "outputs": [
    {
     "data": {
      "image/png": "[encoded data removed]",
      "text/plain": [
       "<IPython.core.display.Image object>"
      ]
     },
     "execution_count": 5,
     "metadata": {
      "tags": []
     },
     "output_type": "execute_result"
    }
   ],
   "source": [
    "from keras.utils import plot_model\n",
    "plot_model(model, to_file='model.png')"
   ]
  },
  {
   "cell_type": "code",
   "execution_count": 6,
   "metadata": {
    "colab": {
     "base_uri": "https://localhost:8080/",
     "height": 1000
    },
    "colab_type": "code",
    "executionInfo": {
     "elapsed": 11217,
     "status": "ok",
     "timestamp": 1588657012437,
     "user": {
      "displayName": "manasa pawar",
      "photoUrl": "",
      "userId": "07850461268939422328"
     },
     "user_tz": -330
    },
    "id": "a0xUpmDbnnC6",
    "outputId": "d2d00d50-98fb-493c-9fa5-b335aa98a934"
   },
   "outputs": [
    {
     "name": "stdout",
     "output_type": "stream",
     "text": [
      "Train on 6698 samples, validate on 3300 samples\n",
      "Epoch 1/10\n",
      "1410/6698 [=====>........................] - ETA: 0s - loss: 1.5987 - accuracy: 0.7766"
     ]
    },
    {
     "name": "stderr",
     "output_type": "stream",
     "text": [
      "/usr/local/lib/python3.6/dist-packages/ipykernel_launcher.py:3: UserWarning: The `nb_epoch` argument in `fit` has been renamed `epochs`.\n",
      "  This is separate from the ipykernel package so we can avoid doing imports until\n"
     ]
    },
    {
     "name": "stdout",
     "output_type": "stream",
     "text": [
      "6698/6698 [==============================] - 1s 141us/step - loss: 3.0909 - accuracy: 0.7781 - val_loss: 357.6479 - val_accuracy: 0.7661\n",
      "Epoch 2/10\n",
      "6698/6698 [==============================] - 1s 137us/step - loss: 2.4012 - accuracy: 0.7781 - val_loss: 350.1934 - val_accuracy: 0.7661\n",
      "Epoch 3/10\n",
      "6698/6698 [==============================] - 1s 140us/step - loss: 1.8113 - accuracy: 0.7781 - val_loss: 344.5714 - val_accuracy: 0.7661\n",
      "Epoch 4/10\n",
      "6698/6698 [==============================] - 1s 142us/step - loss: 1.4110 - accuracy: 0.7781 - val_loss: 336.7873 - val_accuracy: 0.7661\n",
      "Epoch 5/10\n",
      "6698/6698 [==============================] - 1s 137us/step - loss: 1.1095 - accuracy: 0.7781 - val_loss: 334.8202 - val_accuracy: 0.7661\n",
      "Epoch 6/10\n",
      "6698/6698 [==============================] - 1s 142us/step - loss: 0.9170 - accuracy: 0.7781 - val_loss: 331.0567 - val_accuracy: 0.7661\n",
      "Epoch 7/10\n",
      "6698/6698 [==============================] - 1s 146us/step - loss: 0.7417 - accuracy: 0.7781 - val_loss: 327.4372 - val_accuracy: 0.7661\n",
      "Epoch 8/10\n",
      "6698/6698 [==============================] - 1s 152us/step - loss: 0.6394 - accuracy: 0.7781 - val_loss: 323.2373 - val_accuracy: 0.7661\n",
      "Epoch 9/10\n",
      "6698/6698 [==============================] - 1s 143us/step - loss: 0.5696 - accuracy: 0.7781 - val_loss: 319.9696 - val_accuracy: 0.7661\n",
      "Epoch 10/10\n",
      "6698/6698 [==============================] - 1s 139us/step - loss: 0.5438 - accuracy: 0.7781 - val_loss: 318.2054 - val_accuracy: 0.7661\n"
     ]
    },
    {
     "data": {
      "image/png": "[encoded data removed]",
      "text/plain": [
       "<Figure size 432x288 with 1 Axes>"
      ]
     },
     "metadata": {
      "needs_background": "light",
      "tags": []
     },
     "output_type": "display_data"
    },
    {
     "data": {
      "image/png": "[encoded data removed]",
      "text/plain": [
       "<Figure size 432x288 with 1 Axes>"
      ]
     },
     "metadata": {
      "needs_background": "light",
      "tags": []
     },
     "output_type": "display_data"
    }
   ],
   "source": [
    "import matplotlib.pyplot as plt\n",
    "\n",
    "history = model.fit(inputFeatures,Output,validation_split =0.33,nb_epoch=10,batch_size=10) \n",
    "\n",
    "# Plot training & validation accuracy values\n",
    "plt.plot(history.history['accuracy'])\n",
    "plt.plot(history.history['val_accuracy'])\n",
    "plt.title('Model accuracy')\n",
    "plt.ylabel('Accuracy')\n",
    "plt.xlabel('Epoch')\n",
    "plt.legend(['Train', 'Test'], loc='upper left')\n",
    "plt.show()\n",
    "\n",
    "# Plot training & validation loss values\n",
    "plt.plot(history.history['loss'])\n",
    "plt.plot(history.history['val_loss'])\n",
    "plt.title('Model loss')\n",
    "plt.ylabel('Loss')\n",
    "plt.xlabel('Epoch')\n",
    "plt.legend(['Train', 'Test'], loc='upper left')\n",
    "plt.show()"
   ]
  },
  {
   "cell_type": "markdown",
   "metadata": {
    "colab_type": "text",
    "id": "5FufloMSnnx2"
   },
   "source": [
    "**Implementing regularisarion**"
   ]
  },
  {
   "cell_type": "code",
   "execution_count": 7,
   "metadata": {
    "colab": {
     "base_uri": "https://localhost:8080/",
     "height": 34
    },
    "colab_type": "code",
    "executionInfo": {
     "elapsed": 1453,
     "status": "ok",
     "timestamp": 1588657629275,
     "user": {
      "displayName": "manasa pawar",
      "photoUrl": "",
      "userId": "07850461268939422328"
     },
     "user_tz": -330
    },
    "id": "PRMQISRVX4bY",
    "outputId": "241c2fda-8d02-4faf-fb85-dd7274895dce"
   },
   "outputs": [
    {
     "name": "stdout",
     "output_type": "stream",
     "text": [
      "dict_keys(['val_loss', 'val_accuracy', 'loss', 'accuracy'])\n"
     ]
    }
   ],
   "source": [
    "\n",
    "print(history.history.keys())"
   ]
  },
  {
   "cell_type": "code",
   "execution_count": 9,
   "metadata": {
    "colab": {
     "base_uri": "https://localhost:8080/",
     "height": 167
    },
    "colab_type": "code",
    "executionInfo": {
     "elapsed": 1298,
     "status": "error",
     "timestamp": 1588657727031,
     "user": {
      "displayName": "manasa pawar",
      "photoUrl": "",
      "userId": "07850461268939422328"
     },
     "user_tz": -330
    },
    "id": "ggASofQQYReu",
    "outputId": "98d97a25-0f00-4f9f-da24-c5b0f73b429e"
   },
   "outputs": [
    {
     "ename": "NameError",
     "evalue": "ignored",
     "output_type": "error",
     "traceback": [
      "\u001b[0;31m---------------------------------------------------------------------------\u001b[0m",
      "\u001b[0;31mNameError\u001b[0m                                 Traceback (most recent call last)",
      "\u001b[0;32m<ipython-input-9-f512aaa35a91>\u001b[0m in \u001b[0;36m<module>\u001b[0;34m()\u001b[0m\n\u001b[0;32m----> 1\u001b[0;31m \u001b[0mhistory\u001b[0m \u001b[0;34m=\u001b[0m \u001b[0mmodel\u001b[0m\u001b[0;34m.\u001b[0m\u001b[0mfit\u001b[0m\u001b[0;34m(\u001b[0m\u001b[0mx_train\u001b[0m\u001b[0;34m,\u001b[0m \u001b[0my_train\u001b[0m\u001b[0;34m,\u001b[0m \u001b[0mnb_epoch\u001b[0m\u001b[0;34m=\u001b[0m\u001b[0;36m10\u001b[0m\u001b[0;34m,\u001b[0m \u001b[0mvalidation_split\u001b[0m\u001b[0;34m=\u001b[0m\u001b[0;36m0.2\u001b[0m\u001b[0;34m,\u001b[0m \u001b[0mshuffle\u001b[0m\u001b[0;34m=\u001b[0m\u001b[0;32mTrue\u001b[0m\u001b[0;34m)\u001b[0m\u001b[0;34m\u001b[0m\u001b[0;34m\u001b[0m\u001b[0m\n\u001b[0m",
      "\u001b[0;31mNameError\u001b[0m: name 'x_train' is not defined"
     ]
    }
   ],
   "source": [
    "history = model.fit(x_train, y_train, nb_epoch=10, validation_split=0.2, shuffle=True)"
   ]
  },
  {
   "cell_type": "code",
   "execution_count": 8,
   "metadata": {
    "colab": {
     "base_uri": "https://localhost:8080/",
     "height": 238
    },
    "colab_type": "code",
    "executionInfo": {
     "elapsed": 1292,
     "status": "error",
     "timestamp": 1588657675145,
     "user": {
      "displayName": "manasa pawar",
      "photoUrl": "",
      "userId": "07850461268939422328"
     },
     "user_tz": -330
    },
    "id": "13i9Fh-tYEzY",
    "outputId": "c7948fb0-4938-444a-e2a4-652d41fdab52"
   },
   "outputs": [
    {
     "ename": "NameError",
     "evalue": "ignored",
     "output_type": "error",
     "traceback": [
      "\u001b[0;31m---------------------------------------------------------------------------\u001b[0m",
      "\u001b[0;31mNameError\u001b[0m                                 Traceback (most recent call last)",
      "\u001b[0;32m<ipython-input-8-4fe3179454ab>\u001b[0m in \u001b[0;36m<module>\u001b[0;34m()\u001b[0m\n\u001b[1;32m      1\u001b[0m \u001b[0;32mimport\u001b[0m \u001b[0mkeras\u001b[0m\u001b[0;34m\u001b[0m\u001b[0;34m\u001b[0m\u001b[0m\n\u001b[1;32m      2\u001b[0m \u001b[0;32mfrom\u001b[0m \u001b[0mmatplotlib\u001b[0m \u001b[0;32mimport\u001b[0m \u001b[0mpyplot\u001b[0m \u001b[0;32mas\u001b[0m \u001b[0mplt\u001b[0m\u001b[0;34m\u001b[0m\u001b[0;34m\u001b[0m\u001b[0m\n\u001b[0;32m----> 3\u001b[0;31m \u001b[0mhistory\u001b[0m \u001b[0;34m=\u001b[0m \u001b[0mmodel1\u001b[0m\u001b[0;34m.\u001b[0m\u001b[0mfit\u001b[0m\u001b[0;34m(\u001b[0m\u001b[0mtrain_x\u001b[0m\u001b[0;34m,\u001b[0m \u001b[0mtrain_y\u001b[0m\u001b[0;34m,\u001b[0m\u001b[0mvalidation_split\u001b[0m \u001b[0;34m=\u001b[0m \u001b[0;36m0.1\u001b[0m\u001b[0;34m,\u001b[0m \u001b[0mepochs\u001b[0m\u001b[0;34m=\u001b[0m\u001b[0;36m50\u001b[0m\u001b[0;34m,\u001b[0m \u001b[0mbatch_size\u001b[0m\u001b[0;34m=\u001b[0m\u001b[0;36m4\u001b[0m\u001b[0;34m)\u001b[0m\u001b[0;34m\u001b[0m\u001b[0;34m\u001b[0m\u001b[0m\n\u001b[0m\u001b[1;32m      4\u001b[0m \u001b[0mplt\u001b[0m\u001b[0;34m.\u001b[0m\u001b[0mplot\u001b[0m\u001b[0;34m(\u001b[0m\u001b[0mhistory\u001b[0m\u001b[0;34m.\u001b[0m\u001b[0mhistory\u001b[0m\u001b[0;34m[\u001b[0m\u001b[0;34m'acc'\u001b[0m\u001b[0;34m]\u001b[0m\u001b[0;34m)\u001b[0m\u001b[0;34m\u001b[0m\u001b[0;34m\u001b[0m\u001b[0m\n\u001b[1;32m      5\u001b[0m \u001b[0mplt\u001b[0m\u001b[0;34m.\u001b[0m\u001b[0mplot\u001b[0m\u001b[0;34m(\u001b[0m\u001b[0mhistory\u001b[0m\u001b[0;34m.\u001b[0m\u001b[0mhistory\u001b[0m\u001b[0;34m[\u001b[0m\u001b[0;34m'val_acc'\u001b[0m\u001b[0;34m]\u001b[0m\u001b[0;34m)\u001b[0m\u001b[0;34m\u001b[0m\u001b[0;34m\u001b[0m\u001b[0m\n",
      "\u001b[0;31mNameError\u001b[0m: name 'model1' is not defined"
     ]
    }
   ],
   "source": [
    "import keras\n",
    "from matplotlib import pyplot as plt\n",
    "history = model1.fit(train_x, train_y,validation_split = 0.1, epochs=50, batch_size=4)\n",
    "plt.plot(history.history['acc'])\n",
    "plt.plot(history.history['val_acc'])\n",
    "plt.title('model accuracy')\n",
    "plt.ylabel('accuracy')\n",
    "plt.xlabel('epoch')\n",
    "plt.legend(['train', 'val'], loc='upper left')\n",
    "plt.show()"
   ]
  },
  {
   "cell_type": "code",
   "execution_count": 0,
   "metadata": {
    "colab": {},
    "colab_type": "code",
    "id": "ZT2OFSEQl4I4"
   },
   "outputs": [],
   "source": [
    "from keras import regularizers\n",
    "from keras.models import Sequential\n",
    "from keras.layers import Dense\n",
    "import numpy as np\n",
    "from keras.utils import plot_model\n"
   ]
  },
  {
   "cell_type": "code",
   "execution_count": 0,
   "metadata": {
    "colab": {
     "base_uri": "https://localhost:8080/",
     "height": 34
    },
    "colab_type": "code",
    "executionInfo": {
     "elapsed": 1262,
     "status": "ok",
     "timestamp": 1588614139029,
     "user": {
      "displayName": "manasa pawar",
      "photoUrl": "",
      "userId": "07850461268939422328"
     },
     "user_tz": -330
    },
    "id": "jT7tIJlRrqhc",
    "outputId": "e9ccbdac-cf07-4353-a36a-5cc10e71c30c"
   },
   "outputs": [
    {
     "name": "stdout",
     "output_type": "stream",
     "text": [
      "77.41548418998718\n"
     ]
    }
   ],
   "source": [
    "print(max(accuracyy))"
   ]
  },
  {
   "cell_type": "code",
   "execution_count": 0,
   "metadata": {
    "colab": {},
    "colab_type": "code",
    "id": "0lTWnNFltW6I"
   },
   "outputs": [],
   "source": []
  },
  {
   "cell_type": "code",
   "execution_count": 0,
   "metadata": {
    "colab": {},
    "colab_type": "code",
    "id": "vymD_lVHrqjZ"
   },
   "outputs": [],
   "source": []
  },
  {
   "cell_type": "code",
   "execution_count": 22,
   "metadata": {
    "colab": {
     "base_uri": "https://localhost:8080/",
     "height": 1000
    },
    "colab_type": "code",
    "executionInfo": {
     "elapsed": 168599,
     "status": "ok",
     "timestamp": 1588660442188,
     "user": {
      "displayName": "manasa pawar",
      "photoUrl": "",
      "userId": "07850461268939422328"
     },
     "user_tz": -330
    },
    "id": "4PfjawlBrqnO",
    "outputId": "280391ce-e267-49a5-a824-401591fd8bde"
   },
   "outputs": [
    {
     "name": "stderr",
     "output_type": "stream",
     "text": [
      "/usr/local/lib/python3.6/dist-packages/ipykernel_launcher.py:13: UserWarning: Update your `Dense` call to the Keras 2 API: `Dense(21, input_dim=23, activation=\"relu\", activity_regularizer=<keras.reg..., kernel_initializer=\"uniform\")`\n",
      "  del sys.path[0]\n",
      "/usr/local/lib/python3.6/dist-packages/ipykernel_launcher.py:14: UserWarning: Update your `Dense` call to the Keras 2 API: `Dense(18, activation=\"relu\", activity_regularizer=<keras.reg..., kernel_initializer=\"uniform\")`\n",
      "  \n",
      "/usr/local/lib/python3.6/dist-packages/ipykernel_launcher.py:15: UserWarning: Update your `Dense` call to the Keras 2 API: `Dense(1, activation=\"sigmoid\", activity_regularizer=<keras.reg..., kernel_initializer=\"uniform\")`\n",
      "  from ipykernel import kernelapp as app\n"
     ]
    },
    {
     "name": "stdout",
     "output_type": "stream",
     "text": [
      "Train on 6698 samples, validate on 3300 samples\n",
      "Epoch 1/150\n",
      "6698/6698 [==============================] - 1s 152us/step - loss: 425.8657 - accuracy: 0.7566 - val_loss: 1.6741 - val_accuracy: 0.7655\n",
      "Epoch 2/150\n",
      "6698/6698 [==============================] - 1s 139us/step - loss: 1.0240 - accuracy: 0.7783 - val_loss: 1.4594 - val_accuracy: 0.7661\n",
      "Epoch 3/150\n",
      "6698/6698 [==============================] - 1s 137us/step - loss: 0.8833 - accuracy: 0.7783 - val_loss: 1.3214 - val_accuracy: 0.7661\n",
      "Epoch 4/150\n",
      "6698/6698 [==============================] - 1s 154us/step - loss: 0.8060 - accuracy: 0.7783 - val_loss: 1.3849 - val_accuracy: 0.7661\n",
      "Epoch 5/150\n",
      "6698/6698 [==============================] - 1s 151us/step - loss: 0.7594 - accuracy: 0.7783 - val_loss: 1.3809 - val_accuracy: 0.7661\n",
      "Epoch 6/150\n",
      "6698/6698 [==============================] - 1s 142us/step - loss: 0.7128 - accuracy: 0.7781 - val_loss: 1.3923 - val_accuracy: 0.7661\n",
      "Epoch 7/150\n",
      "6698/6698 [==============================] - 1s 135us/step - loss: 0.6724 - accuracy: 0.7781 - val_loss: 1.3922 - val_accuracy: 0.7661\n",
      "Epoch 8/150\n",
      "6698/6698 [==============================] - 1s 136us/step - loss: 0.6531 - accuracy: 0.7781 - val_loss: 1.3924 - val_accuracy: 0.7661\n",
      "Epoch 9/150\n",
      "6698/6698 [==============================] - 1s 136us/step - loss: 0.6343 - accuracy: 0.7781 - val_loss: 1.3925 - val_accuracy: 0.7661\n",
      "Epoch 10/150\n",
      "6698/6698 [==============================] - 1s 151us/step - loss: 0.6077 - accuracy: 0.7781 - val_loss: 1.4404 - val_accuracy: 0.7661\n",
      "Epoch 11/150\n",
      "6698/6698 [==============================] - 1s 154us/step - loss: 0.5889 - accuracy: 0.7781 - val_loss: 1.4403 - val_accuracy: 0.7661\n",
      "Epoch 12/150\n",
      "6698/6698 [==============================] - 1s 157us/step - loss: 0.5889 - accuracy: 0.7781 - val_loss: 1.4404 - val_accuracy: 0.7661\n",
      "Epoch 13/150\n",
      "6698/6698 [==============================] - 1s 147us/step - loss: 0.5889 - accuracy: 0.7781 - val_loss: 1.4404 - val_accuracy: 0.7661\n",
      "Epoch 14/150\n",
      "6698/6698 [==============================] - 1s 137us/step - loss: 0.5889 - accuracy: 0.7781 - val_loss: 1.4404 - val_accuracy: 0.7661\n",
      "Epoch 15/150\n",
      "6698/6698 [==============================] - 1s 153us/step - loss: 0.5889 - accuracy: 0.7781 - val_loss: 1.4403 - val_accuracy: 0.7661\n",
      "Epoch 16/150\n",
      "6698/6698 [==============================] - 1s 153us/step - loss: 0.5889 - accuracy: 0.7781 - val_loss: 1.4404 - val_accuracy: 0.7661\n",
      "Epoch 17/150\n",
      "6698/6698 [==============================] - 1s 150us/step - loss: 0.5889 - accuracy: 0.7781 - val_loss: 1.4404 - val_accuracy: 0.7661\n",
      "Epoch 18/150\n",
      "6698/6698 [==============================] - 1s 151us/step - loss: 0.5889 - accuracy: 0.7781 - val_loss: 1.4403 - val_accuracy: 0.7661\n",
      "Epoch 19/150\n",
      "6698/6698 [==============================] - 1s 156us/step - loss: 0.5889 - accuracy: 0.7781 - val_loss: 1.4404 - val_accuracy: 0.7661\n",
      "Epoch 20/150\n",
      "6698/6698 [==============================] - 1s 153us/step - loss: 0.5889 - accuracy: 0.7781 - val_loss: 1.4403 - val_accuracy: 0.7661\n",
      "Epoch 21/150\n",
      "6698/6698 [==============================] - 1s 147us/step - loss: 0.5889 - accuracy: 0.7781 - val_loss: 1.4403 - val_accuracy: 0.7661\n",
      "Epoch 22/150\n",
      "6698/6698 [==============================] - 1s 144us/step - loss: 0.5889 - accuracy: 0.7781 - val_loss: 1.4403 - val_accuracy: 0.7661\n",
      "Epoch 23/150\n",
      "6698/6698 [==============================] - 1s 142us/step - loss: 0.5889 - accuracy: 0.7781 - val_loss: 1.4405 - val_accuracy: 0.7661\n",
      "Epoch 24/150\n",
      "6698/6698 [==============================] - 1s 155us/step - loss: 0.5889 - accuracy: 0.7781 - val_loss: 1.4404 - val_accuracy: 0.7661\n",
      "Epoch 25/150\n",
      "6698/6698 [==============================] - 1s 154us/step - loss: 0.5889 - accuracy: 0.7781 - val_loss: 1.4404 - val_accuracy: 0.7661\n",
      "Epoch 26/150\n",
      "6698/6698 [==============================] - 1s 149us/step - loss: 0.5889 - accuracy: 0.7781 - val_loss: 1.4403 - val_accuracy: 0.7661\n",
      "Epoch 27/150\n",
      "6698/6698 [==============================] - 1s 146us/step - loss: 0.5889 - accuracy: 0.7781 - val_loss: 1.4404 - val_accuracy: 0.7661\n",
      "Epoch 28/150\n",
      "6698/6698 [==============================] - 1s 153us/step - loss: 0.5889 - accuracy: 0.7781 - val_loss: 1.4404 - val_accuracy: 0.7661\n",
      "Epoch 29/150\n",
      "6698/6698 [==============================] - 1s 150us/step - loss: 0.5889 - accuracy: 0.7781 - val_loss: 1.4404 - val_accuracy: 0.7661\n",
      "Epoch 30/150\n",
      "6698/6698 [==============================] - 1s 149us/step - loss: 0.5889 - accuracy: 0.7781 - val_loss: 1.4403 - val_accuracy: 0.7661\n",
      "Epoch 31/150\n",
      "6698/6698 [==============================] - 1s 158us/step - loss: 0.5889 - accuracy: 0.7781 - val_loss: 1.4404 - val_accuracy: 0.7661\n",
      "Epoch 32/150\n",
      "6698/6698 [==============================] - 1s 145us/step - loss: 0.5889 - accuracy: 0.7781 - val_loss: 1.4404 - val_accuracy: 0.7661\n",
      "Epoch 33/150\n",
      "6698/6698 [==============================] - 1s 147us/step - loss: 0.5889 - accuracy: 0.7781 - val_loss: 1.4404 - val_accuracy: 0.7661\n",
      "Epoch 34/150\n",
      "6698/6698 [==============================] - 1s 151us/step - loss: 0.5889 - accuracy: 0.7781 - val_loss: 1.4404 - val_accuracy: 0.7661\n",
      "Epoch 35/150\n",
      "6698/6698 [==============================] - 1s 152us/step - loss: 0.5889 - accuracy: 0.7781 - val_loss: 1.4404 - val_accuracy: 0.7661\n",
      "Epoch 36/150\n",
      "6698/6698 [==============================] - 1s 142us/step - loss: 0.5889 - accuracy: 0.7781 - val_loss: 1.4404 - val_accuracy: 0.7661\n",
      "Epoch 37/150\n",
      "6698/6698 [==============================] - 1s 149us/step - loss: 0.5889 - accuracy: 0.7781 - val_loss: 1.4404 - val_accuracy: 0.7661\n",
      "Epoch 38/150\n",
      "6698/6698 [==============================] - 1s 138us/step - loss: 0.5889 - accuracy: 0.7781 - val_loss: 1.4404 - val_accuracy: 0.7661\n",
      "Epoch 39/150\n",
      "6698/6698 [==============================] - 1s 143us/step - loss: 0.5889 - accuracy: 0.7781 - val_loss: 1.4404 - val_accuracy: 0.7661\n",
      "Epoch 40/150\n",
      "6698/6698 [==============================] - 1s 152us/step - loss: 0.5889 - accuracy: 0.7781 - val_loss: 1.4404 - val_accuracy: 0.7661\n",
      "Epoch 41/150\n",
      "6698/6698 [==============================] - 1s 140us/step - loss: 0.5889 - accuracy: 0.7781 - val_loss: 1.4404 - val_accuracy: 0.7661\n",
      "Epoch 42/150\n",
      "6698/6698 [==============================] - 1s 138us/step - loss: 0.5889 - accuracy: 0.7781 - val_loss: 1.4404 - val_accuracy: 0.7661\n",
      "Epoch 43/150\n",
      "6698/6698 [==============================] - 1s 142us/step - loss: 0.5889 - accuracy: 0.7781 - val_loss: 1.4404 - val_accuracy: 0.7661\n",
      "Epoch 44/150\n",
      "6698/6698 [==============================] - 1s 141us/step - loss: 0.5889 - accuracy: 0.7781 - val_loss: 1.4404 - val_accuracy: 0.7661\n",
      "Epoch 45/150\n",
      "6698/6698 [==============================] - 1s 140us/step - loss: 0.5889 - accuracy: 0.7781 - val_loss: 1.4404 - val_accuracy: 0.7661\n",
      "Epoch 46/150\n",
      "6698/6698 [==============================] - 1s 139us/step - loss: 0.5889 - accuracy: 0.7781 - val_loss: 1.4405 - val_accuracy: 0.7661\n",
      "Epoch 47/150\n",
      "6698/6698 [==============================] - 1s 138us/step - loss: 0.5889 - accuracy: 0.7781 - val_loss: 1.4404 - val_accuracy: 0.7661\n",
      "Epoch 48/150\n",
      "6698/6698 [==============================] - 1s 137us/step - loss: 0.5889 - accuracy: 0.7781 - val_loss: 1.4403 - val_accuracy: 0.7661\n",
      "Epoch 49/150\n",
      "6698/6698 [==============================] - 1s 142us/step - loss: 0.5889 - accuracy: 0.7781 - val_loss: 1.4403 - val_accuracy: 0.7661\n",
      "Epoch 50/150\n",
      "6698/6698 [==============================] - 1s 140us/step - loss: 0.5889 - accuracy: 0.7781 - val_loss: 1.4404 - val_accuracy: 0.7661\n",
      "Epoch 51/150\n",
      "6698/6698 [==============================] - 1s 143us/step - loss: 0.5889 - accuracy: 0.7781 - val_loss: 1.4404 - val_accuracy: 0.7661\n",
      "Epoch 52/150\n",
      "6698/6698 [==============================] - 1s 145us/step - loss: 0.5889 - accuracy: 0.7781 - val_loss: 1.4403 - val_accuracy: 0.7661\n",
      "Epoch 53/150\n",
      "6698/6698 [==============================] - 1s 142us/step - loss: 0.5889 - accuracy: 0.7781 - val_loss: 1.4403 - val_accuracy: 0.7661\n",
      "Epoch 54/150\n",
      "6698/6698 [==============================] - 1s 142us/step - loss: 0.5889 - accuracy: 0.7781 - val_loss: 1.4403 - val_accuracy: 0.7661\n",
      "Epoch 55/150\n",
      "6698/6698 [==============================] - 1s 144us/step - loss: 0.5889 - accuracy: 0.7781 - val_loss: 1.4403 - val_accuracy: 0.7661\n",
      "Epoch 56/150\n",
      "6698/6698 [==============================] - 1s 140us/step - loss: 0.5889 - accuracy: 0.7781 - val_loss: 1.4403 - val_accuracy: 0.7661\n",
      "Epoch 57/150\n",
      "6698/6698 [==============================] - 1s 141us/step - loss: 0.5889 - accuracy: 0.7781 - val_loss: 1.4403 - val_accuracy: 0.7661\n",
      "Epoch 58/150\n",
      "6698/6698 [==============================] - 1s 138us/step - loss: 0.5889 - accuracy: 0.7781 - val_loss: 1.4403 - val_accuracy: 0.7661\n",
      "Epoch 59/150\n",
      "6698/6698 [==============================] - 1s 138us/step - loss: 0.5889 - accuracy: 0.7781 - val_loss: 1.4404 - val_accuracy: 0.7661\n",
      "Epoch 60/150\n",
      "6698/6698 [==============================] - 1s 150us/step - loss: 0.5889 - accuracy: 0.7781 - val_loss: 1.4404 - val_accuracy: 0.7661\n",
      "Epoch 61/150\n",
      "6698/6698 [==============================] - 1s 151us/step - loss: 0.5889 - accuracy: 0.7781 - val_loss: 1.4403 - val_accuracy: 0.7661\n",
      "Epoch 62/150\n",
      "6698/6698 [==============================] - 1s 154us/step - loss: 0.5889 - accuracy: 0.7781 - val_loss: 1.4403 - val_accuracy: 0.7661\n",
      "Epoch 63/150\n",
      "6698/6698 [==============================] - 1s 158us/step - loss: 0.5889 - accuracy: 0.7781 - val_loss: 1.4404 - val_accuracy: 0.7661\n",
      "Epoch 64/150\n",
      "6698/6698 [==============================] - 1s 148us/step - loss: 0.5889 - accuracy: 0.7781 - val_loss: 1.4403 - val_accuracy: 0.7661\n",
      "Epoch 65/150\n",
      "6698/6698 [==============================] - 1s 144us/step - loss: 0.5889 - accuracy: 0.7781 - val_loss: 1.4403 - val_accuracy: 0.7661\n",
      "Epoch 66/150\n",
      "6698/6698 [==============================] - 1s 140us/step - loss: 0.5889 - accuracy: 0.7781 - val_loss: 1.4404 - val_accuracy: 0.7661\n",
      "Epoch 67/150\n",
      "6698/6698 [==============================] - 1s 152us/step - loss: 0.5889 - accuracy: 0.7781 - val_loss: 1.4405 - val_accuracy: 0.7661\n",
      "Epoch 68/150\n",
      "6698/6698 [==============================] - 1s 146us/step - loss: 0.5889 - accuracy: 0.7781 - val_loss: 1.4404 - val_accuracy: 0.7661\n",
      "Epoch 69/150\n",
      "6698/6698 [==============================] - 1s 145us/step - loss: 0.5889 - accuracy: 0.7781 - val_loss: 1.4404 - val_accuracy: 0.7661\n",
      "Epoch 70/150\n",
      "6698/6698 [==============================] - 1s 155us/step - loss: 0.5889 - accuracy: 0.7781 - val_loss: 1.4403 - val_accuracy: 0.7661\n",
      "Epoch 71/150\n",
      "6698/6698 [==============================] - 1s 151us/step - loss: 0.5889 - accuracy: 0.7781 - val_loss: 1.4404 - val_accuracy: 0.7661\n",
      "Epoch 72/150\n",
      "6698/6698 [==============================] - 1s 139us/step - loss: 0.5889 - accuracy: 0.7781 - val_loss: 1.4404 - val_accuracy: 0.7661\n",
      "Epoch 73/150\n",
      "6698/6698 [==============================] - 1s 153us/step - loss: 0.5889 - accuracy: 0.7781 - val_loss: 1.4404 - val_accuracy: 0.7661\n",
      "Epoch 74/150\n",
      "6698/6698 [==============================] - 1s 141us/step - loss: 0.5889 - accuracy: 0.7781 - val_loss: 1.4403 - val_accuracy: 0.7661\n",
      "Epoch 75/150\n",
      "6698/6698 [==============================] - 1s 151us/step - loss: 0.5889 - accuracy: 0.7781 - val_loss: 1.4404 - val_accuracy: 0.7661\n",
      "Epoch 76/150\n",
      "6698/6698 [==============================] - 1s 143us/step - loss: 0.5889 - accuracy: 0.7781 - val_loss: 1.4404 - val_accuracy: 0.7661\n",
      "Epoch 77/150\n",
      "6698/6698 [==============================] - 1s 149us/step - loss: 0.5889 - accuracy: 0.7781 - val_loss: 1.4404 - val_accuracy: 0.7661\n",
      "Epoch 78/150\n",
      "6698/6698 [==============================] - 1s 136us/step - loss: 0.5889 - accuracy: 0.7781 - val_loss: 1.4404 - val_accuracy: 0.7661\n",
      "Epoch 79/150\n",
      "6698/6698 [==============================] - 1s 137us/step - loss: 0.5889 - accuracy: 0.7781 - val_loss: 1.4404 - val_accuracy: 0.7661\n",
      "Epoch 80/150\n",
      "6698/6698 [==============================] - 1s 147us/step - loss: 0.5889 - accuracy: 0.7781 - val_loss: 1.4404 - val_accuracy: 0.7661\n",
      "Epoch 81/150\n",
      "6698/6698 [==============================] - 1s 142us/step - loss: 0.5889 - accuracy: 0.7781 - val_loss: 1.4404 - val_accuracy: 0.7661\n",
      "Epoch 82/150\n",
      "6698/6698 [==============================] - 1s 148us/step - loss: 0.5889 - accuracy: 0.7781 - val_loss: 1.4404 - val_accuracy: 0.7661\n",
      "Epoch 83/150\n",
      "6698/6698 [==============================] - 1s 139us/step - loss: 0.5889 - accuracy: 0.7781 - val_loss: 1.4403 - val_accuracy: 0.7661\n",
      "Epoch 84/150\n",
      "6698/6698 [==============================] - 1s 145us/step - loss: 0.5889 - accuracy: 0.7781 - val_loss: 1.4403 - val_accuracy: 0.7661\n",
      "Epoch 85/150\n",
      "6698/6698 [==============================] - 1s 156us/step - loss: 0.5889 - accuracy: 0.7781 - val_loss: 1.4404 - val_accuracy: 0.7661\n",
      "Epoch 86/150\n",
      "6698/6698 [==============================] - 1s 159us/step - loss: 0.5889 - accuracy: 0.7781 - val_loss: 1.4403 - val_accuracy: 0.7661\n",
      "Epoch 87/150\n",
      "6698/6698 [==============================] - 1s 139us/step - loss: 0.5889 - accuracy: 0.7781 - val_loss: 1.4403 - val_accuracy: 0.7661\n",
      "Epoch 88/150\n",
      "6698/6698 [==============================] - 1s 142us/step - loss: 0.5889 - accuracy: 0.7781 - val_loss: 1.4404 - val_accuracy: 0.7661\n",
      "Epoch 89/150\n",
      "6698/6698 [==============================] - 1s 148us/step - loss: 0.5889 - accuracy: 0.7781 - val_loss: 1.4404 - val_accuracy: 0.7661\n",
      "Epoch 90/150\n",
      "6698/6698 [==============================] - 1s 143us/step - loss: 0.5889 - accuracy: 0.7781 - val_loss: 1.4404 - val_accuracy: 0.7661\n",
      "Epoch 91/150\n",
      "6698/6698 [==============================] - 1s 144us/step - loss: 0.5889 - accuracy: 0.7781 - val_loss: 1.4404 - val_accuracy: 0.7661\n",
      "Epoch 92/150\n",
      "6698/6698 [==============================] - 1s 152us/step - loss: 0.5889 - accuracy: 0.7781 - val_loss: 1.4404 - val_accuracy: 0.7661\n",
      "Epoch 93/150\n",
      "6698/6698 [==============================] - 1s 140us/step - loss: 0.5889 - accuracy: 0.7781 - val_loss: 1.4403 - val_accuracy: 0.7661\n",
      "Epoch 94/150\n",
      "6698/6698 [==============================] - 1s 138us/step - loss: 0.5889 - accuracy: 0.7781 - val_loss: 1.4403 - val_accuracy: 0.7661\n",
      "Epoch 95/150\n",
      "6698/6698 [==============================] - 1s 145us/step - loss: 0.5889 - accuracy: 0.7781 - val_loss: 1.4404 - val_accuracy: 0.7661\n",
      "Epoch 96/150\n",
      "6698/6698 [==============================] - 1s 156us/step - loss: 0.5889 - accuracy: 0.7781 - val_loss: 1.4404 - val_accuracy: 0.7661\n",
      "Epoch 97/150\n",
      "6698/6698 [==============================] - 1s 165us/step - loss: 0.5889 - accuracy: 0.7781 - val_loss: 1.4403 - val_accuracy: 0.7661\n",
      "Epoch 98/150\n",
      "6698/6698 [==============================] - 1s 154us/step - loss: 0.5889 - accuracy: 0.7781 - val_loss: 1.4404 - val_accuracy: 0.7661\n",
      "Epoch 99/150\n",
      "6698/6698 [==============================] - 1s 140us/step - loss: 0.5889 - accuracy: 0.7781 - val_loss: 1.4403 - val_accuracy: 0.7661\n",
      "Epoch 100/150\n",
      "6698/6698 [==============================] - 1s 158us/step - loss: 0.5889 - accuracy: 0.7781 - val_loss: 1.4405 - val_accuracy: 0.7661\n",
      "Epoch 101/150\n",
      "6698/6698 [==============================] - 1s 146us/step - loss: 0.5889 - accuracy: 0.7781 - val_loss: 1.4404 - val_accuracy: 0.7661\n",
      "Epoch 102/150\n",
      "6698/6698 [==============================] - 1s 146us/step - loss: 0.5889 - accuracy: 0.7781 - val_loss: 1.4404 - val_accuracy: 0.7661\n",
      "Epoch 103/150\n",
      "6698/6698 [==============================] - 1s 147us/step - loss: 0.5889 - accuracy: 0.7781 - val_loss: 1.4404 - val_accuracy: 0.7661\n",
      "Epoch 104/150\n",
      "6698/6698 [==============================] - 1s 138us/step - loss: 0.5889 - accuracy: 0.7781 - val_loss: 1.4405 - val_accuracy: 0.7661\n",
      "Epoch 105/150\n",
      "6698/6698 [==============================] - 1s 149us/step - loss: 0.5889 - accuracy: 0.7781 - val_loss: 1.4403 - val_accuracy: 0.7661\n",
      "Epoch 106/150\n",
      "6698/6698 [==============================] - 1s 145us/step - loss: 0.5889 - accuracy: 0.7781 - val_loss: 1.4405 - val_accuracy: 0.7661\n",
      "Epoch 107/150\n",
      "6698/6698 [==============================] - 1s 152us/step - loss: 0.5889 - accuracy: 0.7781 - val_loss: 1.4404 - val_accuracy: 0.7661\n",
      "Epoch 108/150\n",
      "6698/6698 [==============================] - 1s 154us/step - loss: 0.5889 - accuracy: 0.7781 - val_loss: 1.4404 - val_accuracy: 0.7661\n",
      "Epoch 109/150\n",
      "6698/6698 [==============================] - 1s 144us/step - loss: 0.5889 - accuracy: 0.7781 - val_loss: 1.4404 - val_accuracy: 0.7661\n",
      "Epoch 110/150\n",
      "6698/6698 [==============================] - 1s 145us/step - loss: 0.5889 - accuracy: 0.7781 - val_loss: 1.4404 - val_accuracy: 0.7661\n",
      "Epoch 111/150\n",
      "6698/6698 [==============================] - 1s 144us/step - loss: 0.5889 - accuracy: 0.7781 - val_loss: 1.4405 - val_accuracy: 0.7661\n",
      "Epoch 112/150\n",
      "6698/6698 [==============================] - 1s 150us/step - loss: 0.5889 - accuracy: 0.7781 - val_loss: 1.4406 - val_accuracy: 0.7661\n",
      "Epoch 113/150\n",
      "6698/6698 [==============================] - 1s 146us/step - loss: 0.5889 - accuracy: 0.7781 - val_loss: 1.4404 - val_accuracy: 0.7661\n",
      "Epoch 114/150\n",
      "6698/6698 [==============================] - 1s 140us/step - loss: 0.5889 - accuracy: 0.7781 - val_loss: 1.4404 - val_accuracy: 0.7661\n",
      "Epoch 115/150\n",
      "6698/6698 [==============================] - 1s 143us/step - loss: 0.5889 - accuracy: 0.7781 - val_loss: 1.4405 - val_accuracy: 0.7661\n",
      "Epoch 116/150\n",
      "6698/6698 [==============================] - 1s 145us/step - loss: 0.5889 - accuracy: 0.7781 - val_loss: 1.4404 - val_accuracy: 0.7661\n",
      "Epoch 117/150\n",
      "6698/6698 [==============================] - 1s 146us/step - loss: 0.5889 - accuracy: 0.7781 - val_loss: 1.4403 - val_accuracy: 0.7661\n",
      "Epoch 118/150\n",
      "6698/6698 [==============================] - 1s 149us/step - loss: 0.5889 - accuracy: 0.7781 - val_loss: 1.4404 - val_accuracy: 0.7661\n",
      "Epoch 119/150\n",
      "6698/6698 [==============================] - 1s 153us/step - loss: 0.5889 - accuracy: 0.7781 - val_loss: 1.4404 - val_accuracy: 0.7661\n",
      "Epoch 120/150\n",
      "6698/6698 [==============================] - 1s 147us/step - loss: 0.5889 - accuracy: 0.7781 - val_loss: 1.4403 - val_accuracy: 0.7661\n",
      "Epoch 121/150\n",
      "6698/6698 [==============================] - 1s 155us/step - loss: 0.5889 - accuracy: 0.7781 - val_loss: 1.4404 - val_accuracy: 0.7661\n",
      "Epoch 122/150\n",
      "6698/6698 [==============================] - 1s 145us/step - loss: 0.5889 - accuracy: 0.7781 - val_loss: 1.4403 - val_accuracy: 0.7661\n",
      "Epoch 123/150\n",
      "6698/6698 [==============================] - 1s 152us/step - loss: 0.5889 - accuracy: 0.7781 - val_loss: 1.4403 - val_accuracy: 0.7661\n",
      "Epoch 124/150\n",
      "6698/6698 [==============================] - 1s 142us/step - loss: 0.5889 - accuracy: 0.7781 - val_loss: 1.4403 - val_accuracy: 0.7661\n",
      "Epoch 125/150\n",
      "6698/6698 [==============================] - 1s 141us/step - loss: 0.5889 - accuracy: 0.7781 - val_loss: 1.4403 - val_accuracy: 0.7661\n",
      "Epoch 126/150\n",
      "6698/6698 [==============================] - 1s 149us/step - loss: 0.5889 - accuracy: 0.7781 - val_loss: 1.4403 - val_accuracy: 0.7661\n",
      "Epoch 127/150\n",
      "6698/6698 [==============================] - 1s 150us/step - loss: 0.5889 - accuracy: 0.7781 - val_loss: 1.4403 - val_accuracy: 0.7661\n",
      "Epoch 128/150\n",
      "6698/6698 [==============================] - 1s 140us/step - loss: 0.5889 - accuracy: 0.7781 - val_loss: 1.4404 - val_accuracy: 0.7661\n",
      "Epoch 129/150\n",
      "6698/6698 [==============================] - 1s 140us/step - loss: 0.5889 - accuracy: 0.7781 - val_loss: 1.4405 - val_accuracy: 0.7661\n",
      "Epoch 130/150\n",
      "6698/6698 [==============================] - 1s 143us/step - loss: 0.5889 - accuracy: 0.7781 - val_loss: 1.4403 - val_accuracy: 0.7661\n",
      "Epoch 131/150\n",
      "6698/6698 [==============================] - 1s 145us/step - loss: 0.5889 - accuracy: 0.7781 - val_loss: 1.4405 - val_accuracy: 0.7661\n",
      "Epoch 132/150\n",
      "6698/6698 [==============================] - 1s 153us/step - loss: 0.5889 - accuracy: 0.7781 - val_loss: 1.4403 - val_accuracy: 0.7661\n",
      "Epoch 133/150\n",
      "6698/6698 [==============================] - 1s 157us/step - loss: 0.5889 - accuracy: 0.7781 - val_loss: 1.4404 - val_accuracy: 0.7661\n",
      "Epoch 134/150\n",
      "6698/6698 [==============================] - 1s 141us/step - loss: 0.5889 - accuracy: 0.7781 - val_loss: 1.4403 - val_accuracy: 0.7661\n",
      "Epoch 135/150\n",
      "6698/6698 [==============================] - 1s 140us/step - loss: 0.5889 - accuracy: 0.7781 - val_loss: 1.4403 - val_accuracy: 0.7661\n",
      "Epoch 136/150\n",
      "6698/6698 [==============================] - 1s 139us/step - loss: 0.5889 - accuracy: 0.7781 - val_loss: 1.4404 - val_accuracy: 0.7661\n",
      "Epoch 137/150\n",
      "6698/6698 [==============================] - 1s 157us/step - loss: 0.5889 - accuracy: 0.7781 - val_loss: 1.4404 - val_accuracy: 0.7661\n",
      "Epoch 138/150\n",
      "6698/6698 [==============================] - 1s 142us/step - loss: 0.5889 - accuracy: 0.7781 - val_loss: 1.4405 - val_accuracy: 0.7661\n",
      "Epoch 139/150\n",
      "6698/6698 [==============================] - 1s 154us/step - loss: 0.5889 - accuracy: 0.7781 - val_loss: 1.4403 - val_accuracy: 0.7661\n",
      "Epoch 140/150\n",
      "6698/6698 [==============================] - 1s 138us/step - loss: 0.5889 - accuracy: 0.7781 - val_loss: 1.4403 - val_accuracy: 0.7661\n",
      "Epoch 141/150\n",
      "6698/6698 [==============================] - 1s 141us/step - loss: 0.5889 - accuracy: 0.7781 - val_loss: 1.4404 - val_accuracy: 0.7661\n",
      "Epoch 142/150\n",
      "6698/6698 [==============================] - 1s 140us/step - loss: 0.5889 - accuracy: 0.7781 - val_loss: 1.4403 - val_accuracy: 0.7661\n",
      "Epoch 143/150\n",
      "6698/6698 [==============================] - 1s 158us/step - loss: 0.5889 - accuracy: 0.7781 - val_loss: 1.4403 - val_accuracy: 0.7661\n",
      "Epoch 144/150\n",
      "6698/6698 [==============================] - 1s 138us/step - loss: 0.5889 - accuracy: 0.7781 - val_loss: 1.4402 - val_accuracy: 0.7661\n",
      "Epoch 145/150\n",
      "6698/6698 [==============================] - 1s 142us/step - loss: 0.5889 - accuracy: 0.7781 - val_loss: 1.4404 - val_accuracy: 0.7661\n",
      "Epoch 146/150\n",
      "6698/6698 [==============================] - 1s 149us/step - loss: 0.5889 - accuracy: 0.7781 - val_loss: 1.4404 - val_accuracy: 0.7661\n",
      "Epoch 147/150\n",
      "6698/6698 [==============================] - 1s 142us/step - loss: 0.5889 - accuracy: 0.7781 - val_loss: 1.4404 - val_accuracy: 0.7661\n",
      "Epoch 148/150\n",
      "6698/6698 [==============================] - 1s 138us/step - loss: 0.5889 - accuracy: 0.7781 - val_loss: 1.4404 - val_accuracy: 0.7661\n",
      "Epoch 149/150\n",
      "6698/6698 [==============================] - 1s 136us/step - loss: 0.5889 - accuracy: 0.7781 - val_loss: 1.4404 - val_accuracy: 0.7661\n",
      "Epoch 150/150\n",
      "6698/6698 [==============================] - 1s 146us/step - loss: 0.5889 - accuracy: 0.7781 - val_loss: 1.4404 - val_accuracy: 0.7661\n"
     ]
    },
    {
     "data": {
      "text/plain": [
       "<keras.callbacks.callbacks.History at 0x7f98a4dc5320>"
      ]
     },
     "execution_count": 22,
     "metadata": {
      "tags": []
     },
     "output_type": "execute_result"
    }
   ],
   "source": [
    "# MLP with automatic validation set\n",
    "from keras.models import Sequential\n",
    "from keras.layers import Dense\n",
    "import numpy as np\n",
    "# fix random seed for reproducibility\n",
    "numpy.random.seed(7)\n",
    "# load pima indians dataset\n",
    "dataset = np.loadtxt(\"CreditCardDefaults10k.csv\", delimiter = \",\" , skiprows=2)\n",
    "# split into input (X) and output (Y) variables\n",
    "X = dataset[:,0:23]\n",
    "Y = dataset[:,23]\n",
    "# create model\n",
    "model = Sequential()\n",
    "model.add(Dense(i,input_dim=23,init='uniform',activation='relu',activity_regularizer=regularizers.l1(0.03)))\n",
    "model.add(Dense(j,init='uniform',activation='relu',activity_regularizer=regularizers.l1(0.03)))\n",
    "model.add(Dense(1,init='uniform',activation='sigmoid',activity_regularizer=regularizers.l1(0.03)))\n",
    "# Compile model\n",
    "model.compile(loss='binary_crossentropy', optimizer='adam', metrics=['accuracy'])\n",
    "# Fit the model\n",
    "model.fit(X, Y, validation_split=0.33, epochs=150, batch_size=10)\n"
   ]
  },
  {
   "cell_type": "code",
   "execution_count": 26,
   "metadata": {
    "colab": {
     "base_uri": "https://localhost:8080/",
     "height": 591
    },
    "colab_type": "code",
    "executionInfo": {
     "elapsed": 50042,
     "status": "ok",
     "timestamp": 1588660744765,
     "user": {
      "displayName": "manasa pawar",
      "photoUrl": "",
      "userId": "07850461268939422328"
     },
     "user_tz": -330
    },
    "id": "6CURPSWAZ5iY",
    "outputId": "9246487b-f89c-47f7-ea3a-e98a0446bc04"
   },
   "outputs": [
    {
     "name": "stdout",
     "output_type": "stream",
     "text": [
      "dict_keys(['val_loss', 'val_accuracy', 'loss', 'accuracy'])\n"
     ]
    },
    {
     "data": {
      "image/png": "[encoded data removed]",
      "text/plain": [
       "<Figure size 432x288 with 1 Axes>"
      ]
     },
     "metadata": {
      "needs_background": "light",
      "tags": []
     },
     "output_type": "display_data"
    },
    {
     "data": {
      "image/png": "[encoded data removed]",
      "text/plain": [
       "<Figure size 432x288 with 1 Axes>"
      ]
     },
     "metadata": {
      "needs_background": "light",
      "tags": []
     },
     "output_type": "display_data"
    }
   ],
   "source": [
    "# list all data in history\n",
    "print(history.history.keys())\n",
    "# summarize history for accuracy\n",
    "plt.plot(history.history['accuracy'])\n",
    "plt.plot(history.history['val_accuracy'])\n",
    "plt.title('model accuracy')\n",
    "plt.ylabel('accuracy')\n",
    "plt.xlabel('epoch')\n",
    "plt.legend(['train', 'test'], loc='upper left')\n",
    "plt.show()\n",
    "# summarize history for loss\n",
    "plt.plot(history.history['loss'])\n",
    "plt.plot(history.history['val_loss'])\n",
    "plt.title('model loss')\n",
    "plt.ylabel('loss')\n",
    "plt.xlabel('epoch')\n",
    "plt.legend(['train', 'test'], loc='upper left')\n",
    "plt.show()"
   ]
  }
 ],
 "metadata": {
  "colab": {
   "collapsed_sections": [],
   "name": "Copy of DL_ex1_Manasa.ipynb",
   "provenance": [
    {
     "file_id": "1sbMhfKre0JH_cubkkpW3CC9SBBhPB27A",
     "timestamp": 1588611181730
    }
   ]
  },
  "kernelspec": {
   "display_name": "Python 3",
   "language": "python",
   "name": "python3"
  },
  "language_info": {
   "codemirror_mode": {
    "name": "ipython",
    "version": 3
   },
   "file_extension": ".py",
   "mimetype": "text/x-python",
   "name": "python",
   "nbconvert_exporter": "python",
   "pygments_lexer": "ipython3",
   "version": "3.9.5"
  }
 },
 "nbformat": 4,
 "nbformat_minor": 1
}
